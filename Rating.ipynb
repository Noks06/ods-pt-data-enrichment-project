{
 "cells": [
  {
   "cell_type": "code",
   "execution_count": null,
   "id": "db7c0c31-fdfe-45aa-9cf1-aa8204ea7d76",
   "metadata": {},
   "outputs": [],
   "source": [
    "rating_url=\"https://datasets.imdbws.com/title.ratings.tsv.gz\"\n",
    "# dataframe for rating\n",
    "df_rating =pd.read_csv(rating_url, sep='\\t', low_memory=False)\n",
    "df_rating.head()"
   ]
  },
  {
   "cell_type": "code",
   "execution_count": null,
   "id": "1965ba37-86e2-4984-9549-ae12abbb571e",
   "metadata": {},
   "outputs": [],
   "source": []
  }
 ],
 "metadata": {
  "kernelspec": {
   "display_name": "Python 3 (ipykernel)",
   "language": "python",
   "name": "python3"
  },
  "language_info": {
   "codemirror_mode": {
    "name": "ipython",
    "version": 3
   },
   "file_extension": ".py",
   "mimetype": "text/x-python",
   "name": "python",
   "nbconvert_exporter": "python",
   "pygments_lexer": "ipython3",
   "version": "3.10.10"
  },
  "widgets": {
   "application/vnd.jupyter.widget-state+json": {
    "state": {},
    "version_major": 2,
    "version_minor": 0
   }
  }
 },
 "nbformat": 4,
 "nbformat_minor": 5
}
