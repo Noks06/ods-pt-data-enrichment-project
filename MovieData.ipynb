{
 "cells": [
  {
   "cell_type": "code",
   "execution_count": null,
   "id": "a7f53c11-ac25-46ce-8e08-b52e74957bd0",
   "metadata": {},
   "outputs": [],
   "source": [
    "import pandas as pd\n",
    "import numpy as np"
   ]
  },
  {
   "cell_type": "code",
   "execution_count": null,
   "id": "f4c2fd7a-a02c-4501-af96-ca3d9d5a14cd",
   "metadata": {},
   "outputs": [],
   "source": [
    "\n",
    "basics_url=\"https://datasets.imdbws.com/title.basics.tsv.gz\"\n",
    "#akas_url=\"https://datasets.imdbws.com/title.akas.tsv.gz\"\n",
    "\n",
    "\n",
    "#df_basic = pd.read_csv(basics_url)\n",
    "df_basics = pd.read_csv(basics_url, sep='\\t', low_memory=False)\n",
    "df_basics.head(5)\n"
   ]
  },
  {
   "cell_type": "code",
   "execution_count": null,
   "id": "7066fa88-3c91-40a1-9457-2994a07ff4d6",
   "metadata": {},
   "outputs": [],
   "source": [
    "df_basics = df_basics.replace({'\\\\N':np.nan})\n",
    "df_basics.head()"
   ]
  },
  {
   "cell_type": "code",
   "execution_count": null,
   "id": "e2202d6c-e7dd-4cf8-9a46-f4c00f10cbae",
   "metadata": {},
   "outputs": [],
   "source": [
    "# basic info\n",
    "df_basics.info()"
   ]
  },
  {
   "cell_type": "code",
   "execution_count": null,
   "id": "71568497-41cf-42ee-83ad-98c3fcb622ad",
   "metadata": {},
   "outputs": [],
   "source": [
    "# Akas dataframe \n",
    "#df_akas =pd.read_csv(akas_url, sep='\\t', low_memory=False)\n",
    "#df_akas.head()"
   ]
  },
  {
   "cell_type": "code",
   "execution_count": null,
   "id": "4d0a443f-357f-4d23-b67e-0d424d3ba8c6",
   "metadata": {},
   "outputs": [],
   "source": [
    "#filter out movies that runtime column that is  null   \n",
    "df_basics = df_basics.dropna(subset='runtime')\n"
   ]
  },
  {
   "cell_type": "code",
   "execution_count": null,
   "id": "dfcd39d9-647c-4638-aae3-5594508b44e4",
   "metadata": {},
   "outputs": [],
   "source": [
    "# filter movies that null for genra\n",
    "df_basics = df_basics.dropna(subset='genra')"
   ]
  },
  {
   "cell_type": "code",
   "execution_count": null,
   "id": "b925b211-8b15-4895-bf81-21e0328ef4fa",
   "metadata": {},
   "outputs": [],
   "source": [
    "# keep on titleTYPE Movies\n",
    "is_titleMovie = df_basics['titleType'].str.contains('movies', case = True)\n",
    "df_basics = df_basics[~is_titleMovie]\n",
    "\n",
    "df_basics.head()"
   ]
  },
  {
   "cell_type": "code",
   "execution_count": null,
   "id": "0dd193cf-2199-4f6c-b678-9220f95d2145",
   "metadata": {},
   "outputs": [],
   "source": [
    "# keep startYear 2000-2022"
   ]
  },
  {
   "cell_type": "code",
   "execution_count": null,
   "id": "c20e2e17-c945-4c27-a65b-461dd8a5f460",
   "metadata": {},
   "outputs": [],
   "source": [
    "# Eliminate movies that include \"Documentary\" in genre (see tip below)\n",
    "# Exclude movies that are included in the documentary category.z\n",
    "is_documentary = df_basics['genres'].str.contains('documentary', case = False,na=False)\n",
    "df_basics = df_basics[~is_documentary]\n",
    "\n",
    "df_basics.head()"
   ]
  },
  {
   "cell_type": "code",
   "execution_count": null,
   "id": "9dcb2b1c-6b00-428b-9e85-b69a4e5bf272",
   "metadata": {},
   "outputs": [],
   "source": [
    "# Keep only US movies (Use AKAs table, see \"Filtering one dataframe based on another\" section below)"
   ]
  },
  {
   "cell_type": "code",
   "execution_count": null,
   "id": "0eebabd2-b8b6-4cff-a212-0fc2d5f40053",
   "metadata": {},
   "outputs": [],
   "source": [
    "# Filter the basics table down to only include the US by using the filter akas dataframe\n",
    "keepers =basics['tconst'].isin(akas['titleId'])\n",
    "keepers\n",
    "basics = basics[keepers]\n",
    "basics\n"
   ]
  },
  {
   "cell_type": "code",
   "execution_count": null,
   "id": "a49e6e48-f7d8-486f-9759-980cf019520b",
   "metadata": {},
   "outputs": [],
   "source": []
  },
  {
   "cell_type": "code",
   "execution_count": null,
   "id": "df532a75-072b-403f-9c42-1c7b6e2d0c5c",
   "metadata": {},
   "outputs": [],
   "source": []
  }
 ],
 "metadata": {
  "kernelspec": {
   "display_name": "Python 3 (ipykernel)",
   "language": "python",
   "name": "python3"
  },
  "language_info": {
   "codemirror_mode": {
    "name": "ipython",
    "version": 3
   },
   "file_extension": ".py",
   "mimetype": "text/x-python",
   "name": "python",
   "nbconvert_exporter": "python",
   "pygments_lexer": "ipython3",
   "version": "3.10.10"
  },
  "widgets": {
   "application/vnd.jupyter.widget-state+json": {
    "state": {},
    "version_major": 2,
    "version_minor": 0
   }
  }
 },
 "nbformat": 4,
 "nbformat_minor": 5
}
