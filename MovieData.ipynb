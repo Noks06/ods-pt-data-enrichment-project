{
 "cells": [
  {
   "cell_type": "code",
   "execution_count": null,
   "id": "2486a53d-1b01-446d-a04b-b3d32f02fc1b",
   "metadata": {},
   "outputs": [],
   "source": [
    "# importing liberies  \n",
    "import pandas as pd\n",
    "\n",
    "# load to dataframe\n",
    "\n",
    "path = '/Downloads/'\n",
    "\n"
   ]
  }
 ],
 "metadata": {
  "kernelspec": {
   "display_name": "Python 3 (ipykernel)",
   "language": "python",
   "name": "python3"
  },
  "language_info": {
   "codemirror_mode": {
    "name": "ipython",
    "version": 3
   },
   "file_extension": ".py",
   "mimetype": "text/x-python",
   "name": "python",
   "nbconvert_exporter": "python",
   "pygments_lexer": "ipython3",
   "version": "3.10.10"
  },
  "widgets": {
   "application/vnd.jupyter.widget-state+json": {
    "state": {},
    "version_major": 2,
    "version_minor": 0
   }
  }
 },
 "nbformat": 4,
 "nbformat_minor": 5
}
