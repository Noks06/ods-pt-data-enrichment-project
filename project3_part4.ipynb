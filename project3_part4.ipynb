{
 "cells": [
  {
   "cell_type": "markdown",
   "id": "329d49e8-83cc-4406-912a-3e29de1ff5ed",
   "metadata": {},
   "source": [
    "# Project 3 Part 4\n",
    " Nokuthula Mchunu"
   ]
  },
  {
   "cell_type": "code",
   "execution_count": 177,
   "id": "ba763e81-aa7b-427e-b21c-d8821351db62",
   "metadata": {},
   "outputs": [
    {
     "data": {
      "text/plain": [
       "['tmdb_data_2001.csv.gz',\n",
       " 'tmdb_api_results_2000.json',\n",
       " 'tmdb_api_results_2001.json',\n",
       " 'tmdb_data_2000.csv.gz',\n",
       " 'final_tmdb_data_2001.csv.gz',\n",
       " '.ipynb_checkpoints',\n",
       " 'Data']"
      ]
     },
     "execution_count": 177,
     "metadata": {},
     "output_type": "execute_result"
    }
   ],
   "source": [
    "# Importing Relevent Liberies \n",
    "import os, time,json\n",
    "import tmdbsimple as tmdb \n",
    "import pandas as pd\n",
    "from tqdm.notebook import tqdm_notebook\n",
    "FOLDER = \"Data/Data\"\n",
    "os.makedirs(FOLDER, exist_ok=True)\n",
    "os.listdir(FOLDER)"
   ]
  },
  {
   "cell_type": "code",
   "execution_count": 178,
   "id": "ea2dbb62-2afa-4058-8685-33a5abe031ad",
   "metadata": {},
   "outputs": [
    {
     "data": {
      "text/plain": [
       "dict_keys(['tmdb_api_key', 'tmdb_access_token'])"
      ]
     },
     "execution_count": 178,
     "metadata": {},
     "output_type": "execute_result"
    }
   ],
   "source": [
    "import json\n",
    "with open('/Users/noksmchunu/.secret/tmdb_api.json', 'r') as f:\n",
    "    login = json.load(f)\n",
    "## Display the keys of the loaded dict\n",
    "login.keys()\n"
   ]
  },
  {
   "cell_type": "code",
   "execution_count": 179,
   "id": "dcb37ebb-9cf8-4a13-ba00-4b775dcd22af",
   "metadata": {},
   "outputs": [],
   "source": [
    "import tmdbsimple as tmdb\n",
    "tmdb.API_KEY =  login['tmdb_api_key']\n"
   ]
  },
  {
   "cell_type": "code",
   "execution_count": 180,
   "id": "ef097078-4fbd-49a8-9d91-8cca7fe438e4",
   "metadata": {},
   "outputs": [
    {
     "data": {
      "text/html": [
       "<div>\n",
       "<style scoped>\n",
       "    .dataframe tbody tr th:only-of-type {\n",
       "        vertical-align: middle;\n",
       "    }\n",
       "\n",
       "    .dataframe tbody tr th {\n",
       "        vertical-align: top;\n",
       "    }\n",
       "\n",
       "    .dataframe thead th {\n",
       "        text-align: right;\n",
       "    }\n",
       "</style>\n",
       "<table border=\"1\" class=\"dataframe\">\n",
       "  <thead>\n",
       "    <tr style=\"text-align: right;\">\n",
       "      <th></th>\n",
       "      <th>tconst</th>\n",
       "      <th>titleType</th>\n",
       "      <th>primaryTitle</th>\n",
       "      <th>originalTitle</th>\n",
       "      <th>isAdult</th>\n",
       "      <th>startYear</th>\n",
       "      <th>endYear</th>\n",
       "      <th>runtimeMinutes</th>\n",
       "      <th>genres</th>\n",
       "    </tr>\n",
       "  </thead>\n",
       "  <tbody>\n",
       "    <tr>\n",
       "      <th>0</th>\n",
       "      <td>tt0035423</td>\n",
       "      <td>movie</td>\n",
       "      <td>Kate &amp; Leopold</td>\n",
       "      <td>Kate &amp; Leopold</td>\n",
       "      <td>0</td>\n",
       "      <td>2001</td>\n",
       "      <td>NaN</td>\n",
       "      <td>118</td>\n",
       "      <td>Comedy,Fantasy,Romance</td>\n",
       "    </tr>\n",
       "    <tr>\n",
       "      <th>1</th>\n",
       "      <td>tt0062336</td>\n",
       "      <td>movie</td>\n",
       "      <td>The Tango of the Widower and Its Distorting Mi...</td>\n",
       "      <td>El tango del viudo y su espejo deformante</td>\n",
       "      <td>0</td>\n",
       "      <td>2020</td>\n",
       "      <td>NaN</td>\n",
       "      <td>70</td>\n",
       "      <td>Drama</td>\n",
       "    </tr>\n",
       "    <tr>\n",
       "      <th>2</th>\n",
       "      <td>tt0068865</td>\n",
       "      <td>movie</td>\n",
       "      <td>Lives of Performers</td>\n",
       "      <td>Lives of Performers</td>\n",
       "      <td>0</td>\n",
       "      <td>2016</td>\n",
       "      <td>NaN</td>\n",
       "      <td>90</td>\n",
       "      <td>Drama</td>\n",
       "    </tr>\n",
       "    <tr>\n",
       "      <th>3</th>\n",
       "      <td>tt0069049</td>\n",
       "      <td>movie</td>\n",
       "      <td>The Other Side of the Wind</td>\n",
       "      <td>The Other Side of the Wind</td>\n",
       "      <td>0</td>\n",
       "      <td>2018</td>\n",
       "      <td>NaN</td>\n",
       "      <td>122</td>\n",
       "      <td>Drama</td>\n",
       "    </tr>\n",
       "    <tr>\n",
       "      <th>4</th>\n",
       "      <td>tt0070596</td>\n",
       "      <td>movie</td>\n",
       "      <td>Socialist Realism</td>\n",
       "      <td>El realismo socialista</td>\n",
       "      <td>0</td>\n",
       "      <td>2023</td>\n",
       "      <td>NaN</td>\n",
       "      <td>78</td>\n",
       "      <td>Drama</td>\n",
       "    </tr>\n",
       "  </tbody>\n",
       "</table>\n",
       "</div>"
      ],
      "text/plain": [
       "      tconst titleType                                       primaryTitle  \\\n",
       "0  tt0035423     movie                                     Kate & Leopold   \n",
       "1  tt0062336     movie  The Tango of the Widower and Its Distorting Mi...   \n",
       "2  tt0068865     movie                                Lives of Performers   \n",
       "3  tt0069049     movie                         The Other Side of the Wind   \n",
       "4  tt0070596     movie                                  Socialist Realism   \n",
       "\n",
       "                               originalTitle  isAdult  startYear  endYear  \\\n",
       "0                             Kate & Leopold        0       2001      NaN   \n",
       "1  El tango del viudo y su espejo deformante        0       2020      NaN   \n",
       "2                        Lives of Performers        0       2016      NaN   \n",
       "3                 The Other Side of the Wind        0       2018      NaN   \n",
       "4                     El realismo socialista        0       2023      NaN   \n",
       "\n",
       "   runtimeMinutes                  genres  \n",
       "0             118  Comedy,Fantasy,Romance  \n",
       "1              70                   Drama  \n",
       "2              90                   Drama  \n",
       "3             122                   Drama  \n",
       "4              78                   Drama  "
      ]
     },
     "execution_count": 180,
     "metadata": {},
     "output_type": "execute_result"
    }
   ],
   "source": [
    "basics  = pd.read_csv(\"/Users/noksmchunu/Downloads/title_basics.csv\")\n",
    "basics.head()"
   ]
  },
  {
   "cell_type": "code",
   "execution_count": 181,
   "id": "18dc8470-5d94-4a15-af08-d5d7879649fd",
   "metadata": {},
   "outputs": [],
   "source": [
    "def write_json(new_data, filename): \n",
    "    \"\"\"Appends a list of records (new_data) to a json file (filename). \n",
    "    Adapted from: https://www.geeksforgeeks.org/append-to-json-file-using-python/\"\"\"  \n",
    "    \n",
    "    with open(filename,'r+') as file:\n",
    "        # First we load existing data into a dict.\n",
    "        file_data = json.load(file)\n",
    "        ## Choose extend or append\n",
    "        if (type(new_data) == list) & (type(file_data) == list):\n",
    "            file_data.extend(new_data)\n",
    "        else:\n",
    "             file_data.append(new_data)\n",
    "        # Sets file's current position at offset.\n",
    "        file.seek(0)\n",
    "        # convert back to json.\n",
    "        json.dump(file_data, file)\n",
    "\n",
    "def get_movie_with_rating (movie_id):\n",
    "    \n",
    "    \"\"\"Adapted from source = https://github.com/celiao/tmdbsimple\"\"\"\n",
    "    # Get the movie object for the current id\n",
    "    movie = tmdb.Movies (movie_id)\n",
    "    # save the info releases dictionaries\n",
    "    info = movie.info ()\n",
    "    releases = movie.releases ( )\n",
    "    # Loop through countries in releases\n",
    "    for c in releases[ 'countries']:\n",
    "        # if the country abbreviation==Us\n",
    "        if c['iso_3166_1'] =='US':\n",
    "            ## save a \"certification\" key in info with the certification\n",
    "            info ['certification'] = c['certification']\n",
    "    return info"
   ]
  },
  {
   "cell_type": "markdown",
   "id": "58a8f6d2-1929-4807-987a-4520ae3bf235",
   "metadata": {},
   "source": [
    "Part 4: Use an API to extract ADDITIONAL box office revenue and profit data to add to your IMDB data and perform exploratory data analysis."
   ]
  },
  {
   "cell_type": "code",
   "execution_count": 182,
   "id": "754c7751-7262-4ba5-9c45-00934c5dde12",
   "metadata": {},
   "outputs": [],
   "source": [
    "# Downloading the more movies \n",
    "def download_movies():\n",
    "    Years_to_get  = [2014,2015,2016,2017,2018,2019,2020]\n",
    "    errors = []\n",
    "    # Start of OUTER loop\n",
    "    for YEAR in tqdm_notebook(Years_to_get, desc='YEARS', position=0):\n",
    "        #Defining the JSON file to store results for year\n",
    "        JSON_FILE = f'{FOLDER}tmdb_api_results_{YEAR}.json'\n",
    "        # Check if file exists\n",
    "        file_exists = os.path.isfile(JSON_FILE)\n",
    "        # If it does not exist: create it\n",
    "        if file_exists == False:\n",
    "            # save an empty dict with just \"imdb_id\" to the new json file.\n",
    "            with open(JSON_FILE,'w') as f:\n",
    "                json.dump([{'imdb_id':0}],f)\n",
    "                #Saving new year as the current df\n",
    "        df = basics.loc[ basics['startYear']==YEAR].copy()\n",
    "        # saving movie ids to list\n",
    "        movie_ids = df['tconst'].copy()\n",
    "        # Load existing data from json into a dataframe called \"previous_df\"\n",
    "        previous_df = pd.read_json(JSON_FILE)\n",
    "        # filter out any ids that are already in the JSON_FILE\n",
    "        movie_ids_to_get = movie_ids[~movie_ids.isin(previous_df['imdb_id'])]\n",
    "        #Get index and movie id from list\n",
    "        # INNER Loop\n",
    "        for movie_id in tqdm_notebook(movie_ids_to_get,\n",
    "                                      desc=f'Movies from {YEAR}',\n",
    "                                      position=1,\n",
    "                                      leave=True):\n",
    "            try:\n",
    "                # Retrieve then data for the movie id\n",
    "                temp = get_movie_with_rating(movie_id)  \n",
    "                # Append/extend results to existing file using a pre-made function\n",
    "                write_json(temp,JSON_FILE)\n",
    "                # Short 20 ms sleep to prevent overwhelming server\n",
    "                time.sleep(0.02)\n",
    "                \n",
    "            except Exception as e:\n",
    "\n",
    "                \n",
    "\n",
    "                \n",
    "                errors.append([movie_id, e])\n",
    "                       \n",
    "    final_year_df = pd.read_json(JSON_FILE) \n",
    "    final_year_df.to_csv(f\"{FOLDER}final_tmdb_data_{YEAR}.csv.gz\", compression=\"gzip\", index=False)\n",
    "    print(f\"- Total errors: {len(errors)}\")\n",
    "\n",
    "\n",
    "\n",
    "\n",
    "\n"
   ]
  },
  {
   "cell_type": "code",
   "execution_count": null,
   "id": "5e8b9da0-b863-44f4-9169-5a7b2f758ee9",
   "metadata": {},
   "outputs": [
    {
     "data": {
      "application/vnd.jupyter.widget-view+json": {
       "model_id": "d33ebf5514ed4a9b8e918908ff9ed24f",
       "version_major": 2,
       "version_minor": 0
      },
      "text/plain": [
       "YEARS:   0%|          | 0/7 [00:00<?, ?it/s]"
      ]
     },
     "metadata": {},
     "output_type": "display_data"
    },
    {
     "data": {
      "application/vnd.jupyter.widget-view+json": {
       "model_id": "b29ea171042f43a2a3ab3706f3730200",
       "version_major": 2,
       "version_minor": 0
      },
      "text/plain": [
       "Movies from 2014:   0%|          | 0/3534 [00:00<?, ?it/s]"
      ]
     },
     "metadata": {},
     "output_type": "display_data"
    }
   ],
   "source": [
    "# calling the download_movie function \n",
    "download_movies()"
   ]
  },
  {
   "cell_type": "code",
   "execution_count": null,
   "id": "20e78cd5-f81b-43ef-b2b5-c455ff3c298a",
   "metadata": {},
   "outputs": [],
   "source": []
  },
  {
   "cell_type": "code",
   "execution_count": null,
   "id": "50d51adc-4bec-46da-8cca-9eefb27ad836",
   "metadata": {},
   "outputs": [],
   "source": []
  },
  {
   "cell_type": "code",
   "execution_count": null,
   "id": "690c64e3-b4ca-493d-8d5f-28e74bc45f3f",
   "metadata": {},
   "outputs": [],
   "source": []
  },
  {
   "cell_type": "code",
   "execution_count": null,
   "id": "7672a134-78c7-47d0-9b9c-c59ded0ccd80",
   "metadata": {},
   "outputs": [],
   "source": []
  },
  {
   "cell_type": "code",
   "execution_count": null,
   "id": "a8eb276b-48e5-42b9-9873-e37e7fd30f30",
   "metadata": {},
   "outputs": [],
   "source": []
  }
 ],
 "metadata": {
  "kernelspec": {
   "display_name": "Python 3 (ipykernel)",
   "language": "python",
   "name": "python3"
  },
  "language_info": {
   "codemirror_mode": {
    "name": "ipython",
    "version": 3
   },
   "file_extension": ".py",
   "mimetype": "text/x-python",
   "name": "python",
   "nbconvert_exporter": "python",
   "pygments_lexer": "ipython3",
   "version": "3.10.10"
  },
  "widgets": {
   "application/vnd.jupyter.widget-state+json": {
    "state": {
     "015085cf9ebd46cf925253a440e76326": {
      "model_module": "@jupyter-widgets/base",
      "model_module_version": "2.0.0",
      "model_name": "LayoutModel",
      "state": {}
     },
     "01b179cc32ce4a368af83cb321fabf49": {
      "model_module": "@jupyter-widgets/controls",
      "model_module_version": "2.0.0",
      "model_name": "ProgressStyleModel",
      "state": {
       "description_width": ""
      }
     },
     "02d5073006774138af613ac70df6d5e4": {
      "model_module": "@jupyter-widgets/controls",
      "model_module_version": "2.0.0",
      "model_name": "HTMLStyleModel",
      "state": {
       "description_width": "",
       "font_size": null,
       "text_color": null
      }
     },
     "02df22310cc244699470865b06e2cdf0": {
      "model_module": "@jupyter-widgets/controls",
      "model_module_version": "2.0.0",
      "model_name": "HTMLStyleModel",
      "state": {
       "description_width": "",
       "font_size": null,
       "text_color": null
      }
     },
     "033c09a87aaa48d188383da943214305": {
      "model_module": "@jupyter-widgets/base",
      "model_module_version": "2.0.0",
      "model_name": "LayoutModel",
      "state": {}
     },
     "038edfc0695e44ca86c06edef5183c26": {
      "model_module": "@jupyter-widgets/base",
      "model_module_version": "2.0.0",
      "model_name": "LayoutModel",
      "state": {}
     },
     "0459fa2885704ea0be55ed245859515c": {
      "model_module": "@jupyter-widgets/controls",
      "model_module_version": "2.0.0",
      "model_name": "HTMLStyleModel",
      "state": {
       "description_width": "",
       "font_size": null,
       "text_color": null
      }
     },
     "04d7fd505a6149ea9dd19d54d928019e": {
      "model_module": "@jupyter-widgets/base",
      "model_module_version": "2.0.0",
      "model_name": "LayoutModel",
      "state": {}
     },
     "05032644ed834baeb4489d955ceab6d2": {
      "model_module": "@jupyter-widgets/controls",
      "model_module_version": "2.0.0",
      "model_name": "HTMLStyleModel",
      "state": {
       "description_width": "",
       "font_size": null,
       "text_color": null
      }
     },
     "058ea8eef5dc4311bf9d2f91bc78baf0": {
      "model_module": "@jupyter-widgets/base",
      "model_module_version": "2.0.0",
      "model_name": "LayoutModel",
      "state": {}
     },
     "062ce0571f1f47259487799a8c68dd8e": {
      "model_module": "@jupyter-widgets/base",
      "model_module_version": "2.0.0",
      "model_name": "LayoutModel",
      "state": {}
     },
     "0646b895bd244d85a99cee24d0d2706e": {
      "model_module": "@jupyter-widgets/controls",
      "model_module_version": "2.0.0",
      "model_name": "HTMLModel",
      "state": {
       "layout": "IPY_MODEL_2e8643ef90f7491db344d36bc5f5c759",
       "style": "IPY_MODEL_7498f71c6dad4184be69ca0698528587",
       "value": " 1178/4235 [44:37&lt;47:47,  1.07it/s]"
      }
     },
     "068a0122a6cb4b85ae7c6aaa619e870c": {
      "model_module": "@jupyter-widgets/base",
      "model_module_version": "2.0.0",
      "model_name": "LayoutModel",
      "state": {}
     },
     "07068fc10e2d437599166304a449d396": {
      "model_module": "@jupyter-widgets/controls",
      "model_module_version": "2.0.0",
      "model_name": "ProgressStyleModel",
      "state": {
       "description_width": ""
      }
     },
     "076b2ed0ca1743e580b89ba9a5daf3cc": {
      "model_module": "@jupyter-widgets/base",
      "model_module_version": "2.0.0",
      "model_name": "LayoutModel",
      "state": {}
     },
     "07be4fec310e4edba063a581d216f902": {
      "model_module": "@jupyter-widgets/controls",
      "model_module_version": "2.0.0",
      "model_name": "HTMLStyleModel",
      "state": {
       "description_width": "",
       "font_size": null,
       "text_color": null
      }
     },
     "080bc3131d7d4050a58404f40eb1f812": {
      "model_module": "@jupyter-widgets/controls",
      "model_module_version": "2.0.0",
      "model_name": "ProgressStyleModel",
      "state": {
       "description_width": ""
      }
     },
     "081c3c9850ee498cba170434bfe87fa4": {
      "model_module": "@jupyter-widgets/base",
      "model_module_version": "2.0.0",
      "model_name": "LayoutModel",
      "state": {}
     },
     "083e878cd15c417abb6420ad154bea0d": {
      "model_module": "@jupyter-widgets/controls",
      "model_module_version": "2.0.0",
      "model_name": "FloatProgressModel",
      "state": {
       "bar_style": "success",
       "layout": "IPY_MODEL_eb7c57db1a214822af6f18e231fba55c",
       "max": 1225,
       "style": "IPY_MODEL_d7fc9d307d6c4ca5a182e3caeff5d009",
       "value": 1225
      }
     },
     "091e9f81c17e4894b54c2835b22c59da": {
      "model_module": "@jupyter-widgets/base",
      "model_module_version": "2.0.0",
      "model_name": "LayoutModel",
      "state": {}
     },
     "0926245f0bd0471b8696d70de1e62c12": {
      "model_module": "@jupyter-widgets/controls",
      "model_module_version": "2.0.0",
      "model_name": "HTMLModel",
      "state": {
       "layout": "IPY_MODEL_919318bfcecd49378f86734466e3361a",
       "style": "IPY_MODEL_ce325b1489b347969cf0ebad1784991f",
       "value": " 500/4325 [07:53&lt;40:47,  1.56it/s]"
      }
     },
     "099e1dc5ffa6418c83cb13440de05e67": {
      "model_module": "@jupyter-widgets/controls",
      "model_module_version": "2.0.0",
      "model_name": "HTMLModel",
      "state": {
       "layout": "IPY_MODEL_f580c3690ec643ad9650926bd0f0bdde",
       "style": "IPY_MODEL_2b91a84d3ee9417098e38575b79013e4",
       "value": "YEARS:   0%"
      }
     },
     "09aced8145eb4e729a9a3c9c7889fde8": {
      "model_module": "@jupyter-widgets/base",
      "model_module_version": "2.0.0",
      "model_name": "LayoutModel",
      "state": {}
     },
     "0a2a631028284b8081718eaeabb6d1bc": {
      "model_module": "@jupyter-widgets/controls",
      "model_module_version": "2.0.0",
      "model_name": "HTMLModel",
      "state": {
       "layout": "IPY_MODEL_322e6bb9a1454babbb6d7bd1f9fd6ed2",
       "style": "IPY_MODEL_4fe7c30012ac4bf6ad9341df41c37f19",
       "value": " 0/8 [1:25:25&lt;?, ?it/s]"
      }
     },
     "0a5b5101165647a0acf070bb99a46e75": {
      "model_module": "@jupyter-widgets/controls",
      "model_module_version": "2.0.0",
      "model_name": "HBoxModel",
      "state": {
       "children": [
        "IPY_MODEL_6bf4a71cda054fd1839f28978151a79d",
        "IPY_MODEL_38bc8cdaa9d94ae988ae99897f5ee8e2",
        "IPY_MODEL_c133dada4d624d23b6d810b387bc43e1"
       ],
       "layout": "IPY_MODEL_34255bcf185e483a8556e30d747f26a7"
      }
     },
     "0cb3c04c770a416dbf576afc94e6b506": {
      "model_module": "@jupyter-widgets/controls",
      "model_module_version": "2.0.0",
      "model_name": "HTMLStyleModel",
      "state": {
       "description_width": "",
       "font_size": null,
       "text_color": null
      }
     },
     "0cc97dc1004e4cddbb4c1451aef22272": {
      "model_module": "@jupyter-widgets/base",
      "model_module_version": "2.0.0",
      "model_name": "LayoutModel",
      "state": {}
     },
     "0cd4425571a0417e97ea1899cfb20268": {
      "model_module": "@jupyter-widgets/controls",
      "model_module_version": "2.0.0",
      "model_name": "HTMLStyleModel",
      "state": {
       "description_width": "",
       "font_size": null,
       "text_color": null
      }
     },
     "0d0ccc03cc454d48893588b2abcead03": {
      "model_module": "@jupyter-widgets/controls",
      "model_module_version": "2.0.0",
      "model_name": "FloatProgressModel",
      "state": {
       "bar_style": "danger",
       "layout": "IPY_MODEL_70bb94f574c2409198724037aff3fb42",
       "max": 9,
       "style": "IPY_MODEL_ec6f72a2a6e848a399aa22d2c338779d"
      }
     },
     "0d2ea56023d143d4b20179f9ff8e1099": {
      "model_module": "@jupyter-widgets/controls",
      "model_module_version": "2.0.0",
      "model_name": "HBoxModel",
      "state": {
       "children": [
        "IPY_MODEL_ec6d82e752a041949d9d1766672b7e95",
        "IPY_MODEL_b8dad8993087494dad93d0e64c421816",
        "IPY_MODEL_8bfd187ec8ee430198713050617b73d8"
       ],
       "layout": "IPY_MODEL_0ea99611f7b1401a990be2a575ca9b28"
      }
     },
     "0dd0933571da4b2cac15880dd669a312": {
      "model_module": "@jupyter-widgets/base",
      "model_module_version": "2.0.0",
      "model_name": "LayoutModel",
      "state": {}
     },
     "0de7782a2906455fb5d9b44a1e9a9000": {
      "model_module": "@jupyter-widgets/controls",
      "model_module_version": "2.0.0",
      "model_name": "HTMLStyleModel",
      "state": {
       "description_width": "",
       "font_size": null,
       "text_color": null
      }
     },
     "0dfb5f0e3108442683dc7de504b29a87": {
      "model_module": "@jupyter-widgets/controls",
      "model_module_version": "2.0.0",
      "model_name": "FloatProgressModel",
      "state": {
       "bar_style": "danger",
       "layout": "IPY_MODEL_5879b3f9d84842a095e584b6b5775b13",
       "max": 3818,
       "style": "IPY_MODEL_080bc3131d7d4050a58404f40eb1f812",
       "value": 503
      }
     },
     "0e20bec981bd482fade12cf9ffc6c848": {
      "model_module": "@jupyter-widgets/controls",
      "model_module_version": "2.0.0",
      "model_name": "HTMLStyleModel",
      "state": {
       "description_width": "",
       "font_size": null,
       "text_color": null
      }
     },
     "0e336608913e46078e4b43921b4550ec": {
      "model_module": "@jupyter-widgets/base",
      "model_module_version": "2.0.0",
      "model_name": "LayoutModel",
      "state": {}
     },
     "0ea99611f7b1401a990be2a575ca9b28": {
      "model_module": "@jupyter-widgets/base",
      "model_module_version": "2.0.0",
      "model_name": "LayoutModel",
      "state": {}
     },
     "0f287c0e32844ea9a089e781348cfdfd": {
      "model_module": "@jupyter-widgets/base",
      "model_module_version": "2.0.0",
      "model_name": "LayoutModel",
      "state": {}
     },
     "0f68735705924668bb1bdb6bba90b991": {
      "model_module": "@jupyter-widgets/controls",
      "model_module_version": "2.0.0",
      "model_name": "HTMLStyleModel",
      "state": {
       "description_width": "",
       "font_size": null,
       "text_color": null
      }
     },
     "1037b4728f544928b83aa6caa3b103e3": {
      "model_module": "@jupyter-widgets/base",
      "model_module_version": "2.0.0",
      "model_name": "LayoutModel",
      "state": {}
     },
     "10ffd54c3b77421780620e4e90b9af40": {
      "model_module": "@jupyter-widgets/controls",
      "model_module_version": "2.0.0",
      "model_name": "FloatProgressModel",
      "state": {
       "bar_style": "danger",
       "layout": "IPY_MODEL_69462e091b1b4acea4b4f5acabb5a2c3",
       "max": 11,
       "style": "IPY_MODEL_d25d7ffe33d8473f8003bb0f202f772e",
       "value": 1
      }
     },
     "111cb5add7a24e9fa56b7244b13c469d": {
      "model_module": "@jupyter-widgets/controls",
      "model_module_version": "2.0.0",
      "model_name": "HTMLStyleModel",
      "state": {
       "description_width": "",
       "font_size": null,
       "text_color": null
      }
     },
     "119e56f817ae426fbea0e7e1c532a227": {
      "model_module": "@jupyter-widgets/controls",
      "model_module_version": "2.0.0",
      "model_name": "HTMLStyleModel",
      "state": {
       "description_width": "",
       "font_size": null,
       "text_color": null
      }
     },
     "12465cabdb9c4e68ac05c6901b08059f": {
      "model_module": "@jupyter-widgets/base",
      "model_module_version": "2.0.0",
      "model_name": "LayoutModel",
      "state": {}
     },
     "12c1ecab198b48b185710c67e02d1603": {
      "model_module": "@jupyter-widgets/base",
      "model_module_version": "2.0.0",
      "model_name": "LayoutModel",
      "state": {}
     },
     "13601dced0d5440db977d1ef797134e7": {
      "model_module": "@jupyter-widgets/controls",
      "model_module_version": "2.0.0",
      "model_name": "HTMLModel",
      "state": {
       "layout": "IPY_MODEL_79c1d88987ca407a849c38482919713a",
       "style": "IPY_MODEL_b9d5cdf6fc1443d290476adc59979217",
       "value": "YEARS:   0%"
      }
     },
     "13d70ea6054a48a6be22c11e04fc31bb": {
      "model_module": "@jupyter-widgets/base",
      "model_module_version": "2.0.0",
      "model_name": "LayoutModel",
      "state": {}
     },
     "145d1757883f4ea7865787808f34ebb7": {
      "model_module": "@jupyter-widgets/base",
      "model_module_version": "2.0.0",
      "model_name": "LayoutModel",
      "state": {}
     },
     "14df4664d5004a62af639221791c6d61": {
      "model_module": "@jupyter-widgets/base",
      "model_module_version": "2.0.0",
      "model_name": "LayoutModel",
      "state": {}
     },
     "15640b2e5b6b4482872af0dde7ac05a2": {
      "model_module": "@jupyter-widgets/base",
      "model_module_version": "2.0.0",
      "model_name": "LayoutModel",
      "state": {}
     },
     "1572523842d74324a788afa27acabe7c": {
      "model_module": "@jupyter-widgets/controls",
      "model_module_version": "2.0.0",
      "model_name": "FloatProgressModel",
      "state": {
       "bar_style": "danger",
       "layout": "IPY_MODEL_e09309bcacbe4181bed134ec60cda8c8",
       "max": 4325,
       "style": "IPY_MODEL_e7ae489225be44549d1ac81373d4715b",
       "value": 500
      }
     },
     "15bd2adc7ef14bd4afe2234076002e38": {
      "model_module": "@jupyter-widgets/controls",
      "model_module_version": "2.0.0",
      "model_name": "HTMLModel",
      "state": {
       "layout": "IPY_MODEL_c49855b564df445dbdbd417447500823",
       "style": "IPY_MODEL_0e20bec981bd482fade12cf9ffc6c848",
       "value": " 1476/4525 [24:30&lt;39:06,  1.30it/s]"
      }
     },
     "1602d9f2c849485490c1bbf98bea0630": {
      "model_module": "@jupyter-widgets/controls",
      "model_module_version": "2.0.0",
      "model_name": "HTMLModel",
      "state": {
       "layout": "IPY_MODEL_3ae8cd14b64c471c901516e7f54f7195",
       "style": "IPY_MODEL_e247e33ff7dd47479aff08f95a43ff8b",
       "value": " 469/4727 [19:05&lt;1:01:47,  1.15it/s]"
      }
     },
     "162637fa5ac64806ac6b30f3855e8789": {
      "model_module": "@jupyter-widgets/controls",
      "model_module_version": "2.0.0",
      "model_name": "HTMLModel",
      "state": {
       "layout": "IPY_MODEL_a5440b44a8be4c7582e1a3b8abedc8f7",
       "style": "IPY_MODEL_ffef860390b1458885aa7d2ec43b12f8",
       "value": " 375/3364 [1:25:25&lt;21:35:22, 26.00s/it]"
      }
     },
     "169d5ed288024d9cbd973c0a2169a299": {
      "model_module": "@jupyter-widgets/base",
      "model_module_version": "2.0.0",
      "model_name": "LayoutModel",
      "state": {}
     },
     "17752a1239df48e1bdaa1e1f5483616c": {
      "model_module": "@jupyter-widgets/controls",
      "model_module_version": "2.0.0",
      "model_name": "HTMLStyleModel",
      "state": {
       "description_width": "",
       "font_size": null,
       "text_color": null
      }
     },
     "1785b0cea2a64c8aa3b4137e443460cb": {
      "model_module": "@jupyter-widgets/controls",
      "model_module_version": "2.0.0",
      "model_name": "HTMLModel",
      "state": {
       "layout": "IPY_MODEL_091e9f81c17e4894b54c2835b22c59da",
       "style": "IPY_MODEL_48358ec0ee74454a9191241ca8db4b75",
       "value": " 837/2421 [13:24&lt;18:33,  1.42it/s]"
      }
     },
     "17db1b6bcc1f403bb29fcb21f116d4ca": {
      "model_module": "@jupyter-widgets/base",
      "model_module_version": "2.0.0",
      "model_name": "LayoutModel",
      "state": {}
     },
     "1808cb0aef1c4e1cafee5383f0c0d89b": {
      "model_module": "@jupyter-widgets/controls",
      "model_module_version": "2.0.0",
      "model_name": "HTMLModel",
      "state": {
       "layout": "IPY_MODEL_cd19c0ab86924e618edab88ce119e70e",
       "style": "IPY_MODEL_6afa5c9635074bff8a412f2b0508b2e1",
       "value": "Movies from 2012:  50%"
      }
     },
     "184d65f2180d4589bb5062a00cad055f": {
      "model_module": "@jupyter-widgets/controls",
      "model_module_version": "2.0.0",
      "model_name": "HTMLModel",
      "state": {
       "layout": "IPY_MODEL_0dd0933571da4b2cac15880dd669a312",
       "style": "IPY_MODEL_663e56366cc34ef8b1afaeb5738337d4",
       "value": "Movies from 2012:  33%"
      }
     },
     "18d03d4bb9c34d1797c39d49af8ac037": {
      "model_module": "@jupyter-widgets/controls",
      "model_module_version": "2.0.0",
      "model_name": "HTMLModel",
      "state": {
       "layout": "IPY_MODEL_dcdd83d9c76f48e2b82c2b97233c3c09",
       "style": "IPY_MODEL_e3f7beb232fc473090118833dbb81e6b",
       "value": " 0/7 [00:00&lt;?, ?it/s]"
      }
     },
     "18ec523cd74646f8909bbca8799100d8": {
      "model_module": "@jupyter-widgets/controls",
      "model_module_version": "2.0.0",
      "model_name": "HBoxModel",
      "state": {
       "children": [
        "IPY_MODEL_8323185654b64364bfd2e6bae82a221e",
        "IPY_MODEL_bd8d719716e642fd878563ae10a32db5",
        "IPY_MODEL_1785b0cea2a64c8aa3b4137e443460cb"
       ],
       "layout": "IPY_MODEL_d0ca523092524ae6bdd875cbaeaedf57"
      }
     },
     "19b3878700954b53a68268870188ab31": {
      "model_module": "@jupyter-widgets/base",
      "model_module_version": "2.0.0",
      "model_name": "LayoutModel",
      "state": {}
     },
     "19cff8d362fc45d1aac83d366a85a017": {
      "model_module": "@jupyter-widgets/controls",
      "model_module_version": "2.0.0",
      "model_name": "HTMLStyleModel",
      "state": {
       "description_width": "",
       "font_size": null,
       "text_color": null
      }
     },
     "1a420740ec374420bfa6720f6e34040f": {
      "model_module": "@jupyter-widgets/controls",
      "model_module_version": "2.0.0",
      "model_name": "HTMLModel",
      "state": {
       "layout": "IPY_MODEL_015085cf9ebd46cf925253a440e76326",
       "style": "IPY_MODEL_d1382be1ad0f46a18f2d93315c4a3873",
       "value": " 867/1796 [21:03:06&lt;7:23:33, 28.65s/it]"
      }
     },
     "1af0fa0c319e47fc91554afe99877fd1": {
      "model_module": "@jupyter-widgets/controls",
      "model_module_version": "2.0.0",
      "model_name": "HTMLModel",
      "state": {
       "layout": "IPY_MODEL_e50f03912ee5427cbf5881e0643261b3",
       "style": "IPY_MODEL_635c14e46c15496bb79f35cc8dce789c",
       "value": " 0/8 [07:53&lt;?, ?it/s]"
      }
     },
     "1bb70c060b074c5e8204162bd92be3c3": {
      "model_module": "@jupyter-widgets/controls",
      "model_module_version": "2.0.0",
      "model_name": "HTMLModel",
      "state": {
       "layout": "IPY_MODEL_4f48d48842a2480bb77c15ac5d66d7ad",
       "style": "IPY_MODEL_375d99d0cbeb435fa7e8e4424e55052c",
       "value": "Movies from 2012:  45%"
      }
     },
     "1c130e39031346ce8c8aca81368609e8": {
      "model_module": "@jupyter-widgets/base",
      "model_module_version": "2.0.0",
      "model_name": "LayoutModel",
      "state": {}
     },
     "1c5297ede30e4b889eb27d8e06d27433": {
      "model_module": "@jupyter-widgets/base",
      "model_module_version": "2.0.0",
      "model_name": "LayoutModel",
      "state": {}
     },
     "1c6f063208b24103b367482e30365f3b": {
      "model_module": "@jupyter-widgets/controls",
      "model_module_version": "2.0.0",
      "model_name": "HTMLModel",
      "state": {
       "layout": "IPY_MODEL_8d62c6b5a9b9425385c74b96a8efb598",
       "style": "IPY_MODEL_942fe79630924f22a4726e34e8ae87b6",
       "value": " 0/8 [09:57&lt;?, ?it/s]"
      }
     },
     "1c81c0dd27ba4c7db0c15ba725f0a26e": {
      "model_module": "@jupyter-widgets/controls",
      "model_module_version": "2.0.0",
      "model_name": "HBoxModel",
      "state": {
       "children": [
        "IPY_MODEL_a49d8f00595544adac5a451813f7d413",
        "IPY_MODEL_aa48a66416e34edab3e4d3981ce22631",
        "IPY_MODEL_30f4d0ea68ba401c9e3694e52a5ff4a8"
       ],
       "layout": "IPY_MODEL_8feb53eea3064802a42ea0880c52f8a0"
      }
     },
     "1d2cc98716c1463294174c26be77a842": {
      "model_module": "@jupyter-widgets/base",
      "model_module_version": "2.0.0",
      "model_name": "LayoutModel",
      "state": {}
     },
     "1e18379e54a7480aa4e047cf3f61226f": {
      "model_module": "@jupyter-widgets/base",
      "model_module_version": "2.0.0",
      "model_name": "LayoutModel",
      "state": {}
     },
     "1e80e95221a841faaaaa190d5a34cc98": {
      "model_module": "@jupyter-widgets/controls",
      "model_module_version": "2.0.0",
      "model_name": "HTMLModel",
      "state": {
       "layout": "IPY_MODEL_72a84e71f93540629869d2770e04c3ff",
       "style": "IPY_MODEL_6a94452f704a45d98b600e1b66cde157",
       "value": "YEARS:   0%"
      }
     },
     "1f34a16d3d6749bcbfc2eaa9bf744e3e": {
      "model_module": "@jupyter-widgets/base",
      "model_module_version": "2.0.0",
      "model_name": "LayoutModel",
      "state": {}
     },
     "1fc71a4bf0c34536afc7b779c9a7f847": {
      "model_module": "@jupyter-widgets/base",
      "model_module_version": "2.0.0",
      "model_name": "LayoutModel",
      "state": {}
     },
     "1fe1a0d8c89340a08c5bf885834dfc4c": {
      "model_module": "@jupyter-widgets/controls",
      "model_module_version": "2.0.0",
      "model_name": "FloatProgressModel",
      "state": {
       "bar_style": "danger",
       "layout": "IPY_MODEL_427b7e69dd0649d190a94ec40d0eed76",
       "max": 1482,
       "style": "IPY_MODEL_22c66b27853f4549b57c4c7acc57ac2a"
      }
     },
     "2001ab03ef034df99a3f1e659833c1f7": {
      "model_module": "@jupyter-widgets/controls",
      "model_module_version": "2.0.0",
      "model_name": "HTMLStyleModel",
      "state": {
       "description_width": "",
       "font_size": null,
       "text_color": null
      }
     },
     "201ec10b507c4fd59af8921348e2d5cc": {
      "model_module": "@jupyter-widgets/base",
      "model_module_version": "2.0.0",
      "model_name": "LayoutModel",
      "state": {}
     },
     "204ce01664594498a5d8a9519781077b": {
      "model_module": "@jupyter-widgets/controls",
      "model_module_version": "2.0.0",
      "model_name": "HTMLStyleModel",
      "state": {
       "description_width": "",
       "font_size": null,
       "text_color": null
      }
     },
     "204d48585f3d454195947d30b9e8a659": {
      "model_module": "@jupyter-widgets/controls",
      "model_module_version": "2.0.0",
      "model_name": "FloatProgressModel",
      "state": {
       "bar_style": "danger",
       "layout": "IPY_MODEL_29d7e8bf2eec4309ae01826c3d5d0239",
       "max": 3192,
       "style": "IPY_MODEL_c8d8523b02bb45c6880ad69afe1b0bfc",
       "value": 3107
      }
     },
     "20d4a59604e247308f1841ec55b8e017": {
      "model_module": "@jupyter-widgets/controls",
      "model_module_version": "2.0.0",
      "model_name": "HBoxModel",
      "state": {
       "children": [
        "IPY_MODEL_42c21f0454c548b18e73bf6a5a54b013",
        "IPY_MODEL_e34cee759b87497fb3e7bf174bb4a233",
        "IPY_MODEL_1af0fa0c319e47fc91554afe99877fd1"
       ],
       "layout": "IPY_MODEL_50953f2aabd44e93a92bd4cf6adfbdaf"
      }
     },
     "214f42a0ca3645e28fc6a2add6a596fe": {
      "model_module": "@jupyter-widgets/base",
      "model_module_version": "2.0.0",
      "model_name": "LayoutModel",
      "state": {}
     },
     "216dc9e90c564eef9e98e7225cfabb52": {
      "model_module": "@jupyter-widgets/controls",
      "model_module_version": "2.0.0",
      "model_name": "ProgressStyleModel",
      "state": {
       "description_width": ""
      }
     },
     "22c66b27853f4549b57c4c7acc57ac2a": {
      "model_module": "@jupyter-widgets/controls",
      "model_module_version": "2.0.0",
      "model_name": "ProgressStyleModel",
      "state": {
       "description_width": ""
      }
     },
     "22f477e189b248479a1078b01cff624c": {
      "model_module": "@jupyter-widgets/controls",
      "model_module_version": "2.0.0",
      "model_name": "HTMLModel",
      "state": {
       "layout": "IPY_MODEL_da6412afce8145b59948b14a35043ce6",
       "style": "IPY_MODEL_51b4a6acfb5e4fc78b095714d3d89b2e",
       "value": " 1482/1482 [18:50&lt;00:00,  1.16it/s]"
      }
     },
     "2347d428c3b243018bc385494606ac80": {
      "model_module": "@jupyter-widgets/controls",
      "model_module_version": "2.0.0",
      "model_name": "HTMLModel",
      "state": {
       "layout": "IPY_MODEL_fbc5258375454bd0acf6e19735c07c90",
       "style": "IPY_MODEL_f12fb07c93d74bec936b583351aa52bc",
       "value": " 0/8 [40:12&lt;?, ?it/s]"
      }
     },
     "235779b99674497ebd104480e2ac5692": {
      "model_module": "@jupyter-widgets/controls",
      "model_module_version": "2.0.0",
      "model_name": "ProgressStyleModel",
      "state": {
       "description_width": ""
      }
     },
     "2368da008603413ab3749138d60b1c31": {
      "model_module": "@jupyter-widgets/controls",
      "model_module_version": "2.0.0",
      "model_name": "ProgressStyleModel",
      "state": {
       "description_width": ""
      }
     },
     "23e961450c264365b885a50d4dfdab62": {
      "model_module": "@jupyter-widgets/controls",
      "model_module_version": "2.0.0",
      "model_name": "HTMLStyleModel",
      "state": {
       "description_width": "",
       "font_size": null,
       "text_color": null
      }
     },
     "254f9b8cb9c74796951e806d727c532c": {
      "model_module": "@jupyter-widgets/controls",
      "model_module_version": "2.0.0",
      "model_name": "HBoxModel",
      "state": {
       "children": [
        "IPY_MODEL_35af809a10064373b25a68613bb812ae",
        "IPY_MODEL_eaeaad4463d84a318c329bb221e10b2b",
        "IPY_MODEL_f52e4b812fd04f4bbedc693878d19d57"
       ],
       "layout": "IPY_MODEL_2a73ec47fe834464b09703d0f5b73746"
      }
     },
     "25b664a2debb4b7f857ad73370a72e14": {
      "model_module": "@jupyter-widgets/controls",
      "model_module_version": "2.0.0",
      "model_name": "HTMLStyleModel",
      "state": {
       "description_width": "",
       "font_size": null,
       "text_color": null
      }
     },
     "25dcc13cfd0c4af09f3588200dab6049": {
      "model_module": "@jupyter-widgets/controls",
      "model_module_version": "2.0.0",
      "model_name": "FloatProgressModel",
      "state": {
       "bar_style": "danger",
       "layout": "IPY_MODEL_ee774af92ee744fc96a2c46d0ed4f04d",
       "max": 8,
       "style": "IPY_MODEL_ae5fe37deec24134ae48a44aab44cc0b"
      }
     },
     "2646e16c1ec54789b9dedfc9639098cd": {
      "model_module": "@jupyter-widgets/controls",
      "model_module_version": "2.0.0",
      "model_name": "HBoxModel",
      "state": {
       "children": [
        "IPY_MODEL_a2b4d9b188894730b633415e46aa7217",
        "IPY_MODEL_36e564ad86c4466e950d21b93819093a",
        "IPY_MODEL_5173002fc68a411ebf4905cd665272c2"
       ],
       "layout": "IPY_MODEL_4e372677242b44659256e2d3395b075e"
      }
     },
     "26628a24af1c475eb41e5886195ddf16": {
      "model_module": "@jupyter-widgets/base",
      "model_module_version": "2.0.0",
      "model_name": "LayoutModel",
      "state": {}
     },
     "27cd1b27913d4551bc28dfb5a6138d0b": {
      "model_module": "@jupyter-widgets/base",
      "model_module_version": "2.0.0",
      "model_name": "LayoutModel",
      "state": {}
     },
     "28746bb2a19c43aab46035ac42ddb7bb": {
      "model_module": "@jupyter-widgets/controls",
      "model_module_version": "2.0.0",
      "model_name": "HTMLModel",
      "state": {
       "layout": "IPY_MODEL_068a0122a6cb4b85ae7c6aaa619e870c",
       "style": "IPY_MODEL_2bb533bb3b924cdb9a8871319b578c67",
       "value": " 725/4367 [31:43&lt;2:33:45,  2.53s/it]"
      }
     },
     "28c123798e324b09bc8a47f4a9ae96e4": {
      "model_module": "@jupyter-widgets/controls",
      "model_module_version": "2.0.0",
      "model_name": "ProgressStyleModel",
      "state": {
       "description_width": ""
      }
     },
     "29b55609281241729d730cc27598454a": {
      "model_module": "@jupyter-widgets/controls",
      "model_module_version": "2.0.0",
      "model_name": "HBoxModel",
      "state": {
       "children": [
        "IPY_MODEL_315e138ae0944e9684f9f211d2dbaab5",
        "IPY_MODEL_204d48585f3d454195947d30b9e8a659",
        "IPY_MODEL_8770c20158e948ca98512f244a5f95be"
       ],
       "layout": "IPY_MODEL_04d7fd505a6149ea9dd19d54d928019e"
      }
     },
     "29cf448b15ee416984b061e847eda372": {
      "model_module": "@jupyter-widgets/controls",
      "model_module_version": "2.0.0",
      "model_name": "HTMLModel",
      "state": {
       "layout": "IPY_MODEL_09aced8145eb4e729a9a3c9c7889fde8",
       "style": "IPY_MODEL_6890430117a54e0a9bae5fee369e93af",
       "value": "Movies from 2011: 100%"
      }
     },
     "29d7e8bf2eec4309ae01826c3d5d0239": {
      "model_module": "@jupyter-widgets/base",
      "model_module_version": "2.0.0",
      "model_name": "LayoutModel",
      "state": {}
     },
     "29e52e9c5d0f43129d659fc19dfed741": {
      "model_module": "@jupyter-widgets/controls",
      "model_module_version": "2.0.0",
      "model_name": "HTMLModel",
      "state": {
       "layout": "IPY_MODEL_aea07f7a435f4151962107cbd09a82e9",
       "style": "IPY_MODEL_0459fa2885704ea0be55ed245859515c",
       "value": "Movies from 2014:  22%"
      }
     },
     "29ecdcd3d8b1469aa4608a361e2e3e9a": {
      "model_module": "@jupyter-widgets/controls",
      "model_module_version": "2.0.0",
      "model_name": "ProgressStyleModel",
      "state": {
       "description_width": ""
      }
     },
     "29f40161977b442bb1f87fe63e0e43fc": {
      "model_module": "@jupyter-widgets/controls",
      "model_module_version": "2.0.0",
      "model_name": "HBoxModel",
      "state": {
       "children": [
        "IPY_MODEL_fe2423f67dcc4eeca041d8a17bdb26c2",
        "IPY_MODEL_88e156f506fb4b43b16b738f287dfd06",
        "IPY_MODEL_aaca11e037cd41be8e0bf8a9ee3a58ee"
       ],
       "layout": "IPY_MODEL_7beb3573365445eb9dd1707c05d39ff6"
      }
     },
     "2a73ec47fe834464b09703d0f5b73746": {
      "model_module": "@jupyter-widgets/base",
      "model_module_version": "2.0.0",
      "model_name": "LayoutModel",
      "state": {}
     },
     "2a9cf10db6db4ca299ad1e5da9a62f87": {
      "model_module": "@jupyter-widgets/controls",
      "model_module_version": "2.0.0",
      "model_name": "HBoxModel",
      "state": {
       "children": [
        "IPY_MODEL_8d28352af084466e80396988ef653cbd",
        "IPY_MODEL_94011f3655cc43e69248c8a6642c265c",
        "IPY_MODEL_1c6f063208b24103b367482e30365f3b"
       ],
       "layout": "IPY_MODEL_12c1ecab198b48b185710c67e02d1603"
      }
     },
     "2b35da0215df4023aec379273a747580": {
      "model_module": "@jupyter-widgets/controls",
      "model_module_version": "2.0.0",
      "model_name": "HTMLModel",
      "state": {
       "layout": "IPY_MODEL_79995525013e4ed094e5bb418439db66",
       "style": "IPY_MODEL_25b664a2debb4b7f857ad73370a72e14",
       "value": "YEARS:   9%"
      }
     },
     "2b91a84d3ee9417098e38575b79013e4": {
      "model_module": "@jupyter-widgets/controls",
      "model_module_version": "2.0.0",
      "model_name": "HTMLStyleModel",
      "state": {
       "description_width": "",
       "font_size": null,
       "text_color": null
      }
     },
     "2b9b5e1476a34127b26ab909ed29fa80": {
      "model_module": "@jupyter-widgets/base",
      "model_module_version": "2.0.0",
      "model_name": "LayoutModel",
      "state": {}
     },
     "2bad00c097a845ff914e766d3dd27d73": {
      "model_module": "@jupyter-widgets/base",
      "model_module_version": "2.0.0",
      "model_name": "LayoutModel",
      "state": {}
     },
     "2bb533bb3b924cdb9a8871319b578c67": {
      "model_module": "@jupyter-widgets/controls",
      "model_module_version": "2.0.0",
      "model_name": "HTMLStyleModel",
      "state": {
       "description_width": "",
       "font_size": null,
       "text_color": null
      }
     },
     "2c0285bf3cf442ce8a5c1d01c7681d80": {
      "model_module": "@jupyter-widgets/controls",
      "model_module_version": "2.0.0",
      "model_name": "HTMLStyleModel",
      "state": {
       "description_width": "",
       "font_size": null,
       "text_color": null
      }
     },
     "2e357ffb87e249739ccba4dcf0c38904": {
      "model_module": "@jupyter-widgets/controls",
      "model_module_version": "2.0.0",
      "model_name": "HTMLStyleModel",
      "state": {
       "description_width": "",
       "font_size": null,
       "text_color": null
      }
     },
     "2e7cbd404fc14043a0fb17156bc56d61": {
      "model_module": "@jupyter-widgets/base",
      "model_module_version": "2.0.0",
      "model_name": "LayoutModel",
      "state": {}
     },
     "2e8643ef90f7491db344d36bc5f5c759": {
      "model_module": "@jupyter-widgets/base",
      "model_module_version": "2.0.0",
      "model_name": "LayoutModel",
      "state": {}
     },
     "2eacb06f6ca54722a0f791d7d5bac733": {
      "model_module": "@jupyter-widgets/base",
      "model_module_version": "2.0.0",
      "model_name": "LayoutModel",
      "state": {}
     },
     "2f3602670a834416960341cc8400d85c": {
      "model_module": "@jupyter-widgets/controls",
      "model_module_version": "2.0.0",
      "model_name": "HTMLStyleModel",
      "state": {
       "description_width": "",
       "font_size": null,
       "text_color": null
      }
     },
     "303cba2f4a9f4921b8808d3f5475904c": {
      "model_module": "@jupyter-widgets/base",
      "model_module_version": "2.0.0",
      "model_name": "LayoutModel",
      "state": {}
     },
     "30df4130562041db9248346df1f86026": {
      "model_module": "@jupyter-widgets/controls",
      "model_module_version": "2.0.0",
      "model_name": "ProgressStyleModel",
      "state": {
       "description_width": ""
      }
     },
     "30e3d4b981374e21aa523da28fa6f9a6": {
      "model_module": "@jupyter-widgets/controls",
      "model_module_version": "2.0.0",
      "model_name": "HBoxModel",
      "state": {
       "children": [
        "IPY_MODEL_184d65f2180d4589bb5062a00cad055f",
        "IPY_MODEL_69ae4d1e27154037a7d3acbe5e874c5c",
        "IPY_MODEL_15bd2adc7ef14bd4afe2234076002e38"
       ],
       "layout": "IPY_MODEL_1c130e39031346ce8c8aca81368609e8"
      }
     },
     "30f4d0ea68ba401c9e3694e52a5ff4a8": {
      "model_module": "@jupyter-widgets/controls",
      "model_module_version": "2.0.0",
      "model_name": "HTMLModel",
      "state": {
       "layout": "IPY_MODEL_71b93d063e844e79b5cf0df8912070f0",
       "style": "IPY_MODEL_552b2a4dc5094dc68e2747bce39d47e9",
       "value": " 0/9 [25:05&lt;?, ?it/s]"
      }
     },
     "30f7027b4e3244da8a17d5316398bdda": {
      "model_module": "@jupyter-widgets/controls",
      "model_module_version": "2.0.0",
      "model_name": "FloatProgressModel",
      "state": {
       "bar_style": "success",
       "layout": "IPY_MODEL_cd3982721c514dc7aa51c69221275419",
       "max": 1482,
       "style": "IPY_MODEL_b0d748bac44645d79b9f54bc13d56bbd",
       "value": 1482
      }
     },
     "315e138ae0944e9684f9f211d2dbaab5": {
      "model_module": "@jupyter-widgets/controls",
      "model_module_version": "2.0.0",
      "model_name": "HTMLModel",
      "state": {
       "layout": "IPY_MODEL_864978771a104347b5f4ecfe41e1d00a",
       "style": "IPY_MODEL_42f01350ef4741febee7665aa0756b20",
       "value": "Movies from 2011:  97%"
      }
     },
     "31791249c75a4e46a928414b04794ffa": {
      "model_module": "@jupyter-widgets/controls",
      "model_module_version": "2.0.0",
      "model_name": "FloatProgressModel",
      "state": {
       "bar_style": "danger",
       "layout": "IPY_MODEL_62bfdc3392e0448bba2a399bae7b5cad",
       "max": 4235,
       "style": "IPY_MODEL_8d5814b9fc144fe38daa1b48c1cb4704",
       "value": 1178
      }
     },
     "322e6bb9a1454babbb6d7bd1f9fd6ed2": {
      "model_module": "@jupyter-widgets/base",
      "model_module_version": "2.0.0",
      "model_name": "LayoutModel",
      "state": {}
     },
     "3274c2da9d30498291bf7fc9244eeb53": {
      "model_module": "@jupyter-widgets/base",
      "model_module_version": "2.0.0",
      "model_name": "LayoutModel",
      "state": {}
     },
     "3280198542f047fa9cbb269573c5c113": {
      "model_module": "@jupyter-widgets/controls",
      "model_module_version": "2.0.0",
      "model_name": "HTMLStyleModel",
      "state": {
       "description_width": "",
       "font_size": null,
       "text_color": null
      }
     },
     "32ad16fd74a74071b1a5855bd5dd6c31": {
      "model_module": "@jupyter-widgets/controls",
      "model_module_version": "2.0.0",
      "model_name": "ProgressStyleModel",
      "state": {
       "description_width": ""
      }
     },
     "32c4f6b37f644228995fa87540cd5233": {
      "model_module": "@jupyter-widgets/controls",
      "model_module_version": "2.0.0",
      "model_name": "HTMLModel",
      "state": {
       "layout": "IPY_MODEL_7ecbd881bbcb4da69e72fe52f49480f6",
       "style": "IPY_MODEL_204ce01664594498a5d8a9519781077b",
       "value": " 1225/1225 [09:11&lt;00:00,  1.71it/s]"
      }
     },
     "34255bcf185e483a8556e30d747f26a7": {
      "model_module": "@jupyter-widgets/base",
      "model_module_version": "2.0.0",
      "model_name": "LayoutModel",
      "state": {}
     },
     "34e452db0d3049ccb83c31be9c3d94aa": {
      "model_module": "@jupyter-widgets/controls",
      "model_module_version": "2.0.0",
      "model_name": "HBoxModel",
      "state": {
       "children": [
        "IPY_MODEL_ae45197702224f6e8c61631c1364c9aa",
        "IPY_MODEL_8a495c156a784b39827816c72faae2d8",
        "IPY_MODEL_41e7d698315841708d1548196805d6b2"
       ],
       "layout": "IPY_MODEL_6d525868a545444f8844b6736025bbb9"
      }
     },
     "35af809a10064373b25a68613bb812ae": {
      "model_module": "@jupyter-widgets/controls",
      "model_module_version": "2.0.0",
      "model_name": "HTMLModel",
      "state": {
       "layout": "IPY_MODEL_7812549c3805412fb59acf1b4f95167c",
       "style": "IPY_MODEL_a0d3cc7ba15b4c10b6e6547f991f75bb",
       "value": "Movies from 2014:   9%"
      }
     },
     "35c8163be51145e986f4137641d79002": {
      "model_module": "@jupyter-widgets/controls",
      "model_module_version": "2.0.0",
      "model_name": "HTMLStyleModel",
      "state": {
       "description_width": "",
       "font_size": null,
       "text_color": null
      }
     },
     "36948b3c95b74efe9fa28101e42a6013": {
      "model_module": "@jupyter-widgets/base",
      "model_module_version": "2.0.0",
      "model_name": "LayoutModel",
      "state": {}
     },
     "369f499d8c1d47848ea46068bc6e44cc": {
      "model_module": "@jupyter-widgets/controls",
      "model_module_version": "2.0.0",
      "model_name": "FloatProgressModel",
      "state": {
       "bar_style": "danger",
       "layout": "IPY_MODEL_6d253859bff44e7da1bc51a40c2b8f60",
       "max": 4727,
       "style": "IPY_MODEL_83d8bc23e7de42adb8db92feb16f89e1",
       "value": 469
      }
     },
     "36e564ad86c4466e950d21b93819093a": {
      "model_module": "@jupyter-widgets/controls",
      "model_module_version": "2.0.0",
      "model_name": "FloatProgressModel",
      "state": {
       "bar_style": "danger",
       "layout": "IPY_MODEL_c7f937d2f87b4f1baf6a9a1418e6557c",
       "max": 8,
       "style": "IPY_MODEL_41bf962e282d4a92bfe4aede7fc840ae"
      }
     },
     "37225fb3b26049fbae986d3dc868434a": {
      "model_module": "@jupyter-widgets/base",
      "model_module_version": "2.0.0",
      "model_name": "LayoutModel",
      "state": {}
     },
     "375d99d0cbeb435fa7e8e4424e55052c": {
      "model_module": "@jupyter-widgets/controls",
      "model_module_version": "2.0.0",
      "model_name": "HTMLStyleModel",
      "state": {
       "description_width": "",
       "font_size": null,
       "text_color": null
      }
     },
     "377c1d2ac625499d83961177bebef714": {
      "model_module": "@jupyter-widgets/base",
      "model_module_version": "2.0.0",
      "model_name": "LayoutModel",
      "state": {}
     },
     "378139a95f11420b83dcac955076ff37": {
      "model_module": "@jupyter-widgets/controls",
      "model_module_version": "2.0.0",
      "model_name": "FloatProgressModel",
      "state": {
       "bar_style": "danger",
       "layout": "IPY_MODEL_6050098725c6430c82e08fb482b20b41",
       "max": 7,
       "style": "IPY_MODEL_7c0b63bbd9b948ecb718486e32f2046b"
      }
     },
     "38bc8cdaa9d94ae988ae99897f5ee8e2": {
      "model_module": "@jupyter-widgets/controls",
      "model_module_version": "2.0.0",
      "model_name": "FloatProgressModel",
      "state": {
       "bar_style": "danger",
       "layout": "IPY_MODEL_8fac149b24d348eaaeac7143281f252c",
       "max": 8,
       "style": "IPY_MODEL_d4588617c993423a92fff31069fc470f"
      }
     },
     "38e8b350b5c044808ccf34c5f6b0a78c": {
      "model_module": "@jupyter-widgets/base",
      "model_module_version": "2.0.0",
      "model_name": "LayoutModel",
      "state": {}
     },
     "38ea2dbaafdc4b8b8fbc513b70578f25": {
      "model_module": "@jupyter-widgets/controls",
      "model_module_version": "2.0.0",
      "model_name": "HTMLStyleModel",
      "state": {
       "description_width": "",
       "font_size": null,
       "text_color": null
      }
     },
     "39b49497d362485f92489d472602c2e7": {
      "model_module": "@jupyter-widgets/controls",
      "model_module_version": "2.0.0",
      "model_name": "HTMLModel",
      "state": {
       "layout": "IPY_MODEL_1d2cc98716c1463294174c26be77a842",
       "style": "IPY_MODEL_2f3602670a834416960341cc8400d85c",
       "value": "Movies from 2014:  17%"
      }
     },
     "3a0d59aef76849618e9c9f37ea40e93c": {
      "model_module": "@jupyter-widgets/controls",
      "model_module_version": "2.0.0",
      "model_name": "HTMLModel",
      "state": {
       "layout": "IPY_MODEL_fb92c93c0c7347c3b61359538ee5edcf",
       "style": "IPY_MODEL_88eaacc10b214819a7fe75c5691abc13",
       "value": "Movies from 2013:  12%"
      }
     },
     "3a17adfa8086452687f3c76bbe97900e": {
      "model_module": "@jupyter-widgets/controls",
      "model_module_version": "2.0.0",
      "model_name": "HTMLModel",
      "state": {
       "layout": "IPY_MODEL_0cc97dc1004e4cddbb4c1451aef22272",
       "style": "IPY_MODEL_aab5c1ae625546b7aa28aa50f5bdd1f3",
       "value": " 1240/1940 [23:49&lt;09:37,  1.21it/s]"
      }
     },
     "3a23c7be6c5a457d8b2acfc56f8b4aa3": {
      "model_module": "@jupyter-widgets/controls",
      "model_module_version": "2.0.0",
      "model_name": "HTMLStyleModel",
      "state": {
       "description_width": "",
       "font_size": null,
       "text_color": null
      }
     },
     "3ae8cd14b64c471c901516e7f54f7195": {
      "model_module": "@jupyter-widgets/base",
      "model_module_version": "2.0.0",
      "model_name": "LayoutModel",
      "state": {}
     },
     "3bc1241d90144826b56808254fe59e5e": {
      "model_module": "@jupyter-widgets/controls",
      "model_module_version": "2.0.0",
      "model_name": "HTMLModel",
      "state": {
       "layout": "IPY_MODEL_4975e8ee4629459d8dbe810cff32bb92",
       "style": "IPY_MODEL_db2039225f7c4cad86a440c15f58f3cf",
       "value": " 1715/3117 [40:12&lt;59:30,  2.55s/it]"
      }
     },
     "3c38a439c709428081f6341cbdb4d834": {
      "model_module": "@jupyter-widgets/controls",
      "model_module_version": "2.0.0",
      "model_name": "ProgressStyleModel",
      "state": {
       "description_width": ""
      }
     },
     "3c62dd07364c4f09b6b09eea07d68f89": {
      "model_module": "@jupyter-widgets/controls",
      "model_module_version": "2.0.0",
      "model_name": "HBoxModel",
      "state": {
       "children": [
        "IPY_MODEL_da0aa0d67251496b9547030ca6c1e568",
        "IPY_MODEL_eb4d04682a044bbe970006784872171c",
        "IPY_MODEL_0a2a631028284b8081718eaeabb6d1bc"
       ],
       "layout": "IPY_MODEL_201ec10b507c4fd59af8921348e2d5cc"
      }
     },
     "3ce1f8b8e43f49fcb02ba0c624c4e93f": {
      "model_module": "@jupyter-widgets/controls",
      "model_module_version": "2.0.0",
      "model_name": "HBoxModel",
      "state": {
       "children": [
        "IPY_MODEL_75ac8d4bdfc74c80a3560532b1011d87",
        "IPY_MODEL_eaba442a683c46dcaf4c15971e00d908",
        "IPY_MODEL_e1b639cf0e6c4a22940ad6c9a068581b"
       ],
       "layout": "IPY_MODEL_062ce0571f1f47259487799a8c68dd8e"
      }
     },
     "3e59ce1710c54f49829825d3dc06368b": {
      "model_module": "@jupyter-widgets/controls",
      "model_module_version": "2.0.0",
      "model_name": "FloatProgressModel",
      "state": {
       "bar_style": "danger",
       "layout": "IPY_MODEL_9ea4e8b036ab40818076941f69a1a412",
       "max": 7,
       "style": "IPY_MODEL_8f0c12f10c054f53ace05762a9dee8db"
      }
     },
     "3eebf08b404a4ea0b9adec6a3e2a7b53": {
      "model_module": "@jupyter-widgets/controls",
      "model_module_version": "2.0.0",
      "model_name": "HTMLModel",
      "state": {
       "layout": "IPY_MODEL_b90d07c884f74b2e93ed10b30d426da4",
       "style": "IPY_MODEL_c46a149220514b16b9befaeccc631f9c",
       "value": "Movies from 2013:  55%"
      }
     },
     "3effccdbee8d42f69facd622b7c7147b": {
      "model_module": "@jupyter-widgets/controls",
      "model_module_version": "2.0.0",
      "model_name": "HTMLStyleModel",
      "state": {
       "description_width": "",
       "font_size": null,
       "text_color": null
      }
     },
     "3f6f48d5c8d744249ca54b79191a6a00": {
      "model_module": "@jupyter-widgets/base",
      "model_module_version": "2.0.0",
      "model_name": "LayoutModel",
      "state": {}
     },
     "401fb0eaab5349a29c37f203a2c7235d": {
      "model_module": "@jupyter-widgets/controls",
      "model_module_version": "2.0.0",
      "model_name": "HTMLModel",
      "state": {
       "layout": "IPY_MODEL_5818de99c472419c9b1312dad8351730",
       "style": "IPY_MODEL_868d2765767f4bbaac5ff93b91d52426",
       "value": " 1/11 [1:07:25&lt;3:47:57, 1367.70s/it]"
      }
     },
     "4079cea5b3054f37a6db7816c26e6ec6": {
      "model_module": "@jupyter-widgets/base",
      "model_module_version": "2.0.0",
      "model_name": "LayoutModel",
      "state": {}
     },
     "4134999ce55945fbb393188b92763cdb": {
      "model_module": "@jupyter-widgets/controls",
      "model_module_version": "2.0.0",
      "model_name": "HTMLModel",
      "state": {
       "layout": "IPY_MODEL_9a3b554527514ea3adfc11d048bb1635",
       "style": "IPY_MODEL_895c9a647e5246c5aa4aeed72198c4e5",
       "value": "YEARS:   0%"
      }
     },
     "4159c7febb0f4c5fa61b4b8de4cb162b": {
      "model_module": "@jupyter-widgets/base",
      "model_module_version": "2.0.0",
      "model_name": "LayoutModel",
      "state": {}
     },
     "419b444a6d2e4b99b2d82a7aff5eaa1f": {
      "model_module": "@jupyter-widgets/base",
      "model_module_version": "2.0.0",
      "model_name": "LayoutModel",
      "state": {}
     },
     "41bf962e282d4a92bfe4aede7fc840ae": {
      "model_module": "@jupyter-widgets/controls",
      "model_module_version": "2.0.0",
      "model_name": "ProgressStyleModel",
      "state": {
       "description_width": ""
      }
     },
     "41e7d698315841708d1548196805d6b2": {
      "model_module": "@jupyter-widgets/controls",
      "model_module_version": "2.0.0",
      "model_name": "HTMLModel",
      "state": {
       "layout": "IPY_MODEL_9124a1510cd44fe2aa6ee8c153a24610",
       "style": "IPY_MODEL_64574bd1a1e9442fb830a5174e8f8d33",
       "value": " 1/9 [36:21&lt;2:18:11, 1036.44s/it]"
      }
     },
     "427b7e69dd0649d190a94ec40d0eed76": {
      "model_module": "@jupyter-widgets/base",
      "model_module_version": "2.0.0",
      "model_name": "LayoutModel",
      "state": {}
     },
     "42c21f0454c548b18e73bf6a5a54b013": {
      "model_module": "@jupyter-widgets/controls",
      "model_module_version": "2.0.0",
      "model_name": "HTMLModel",
      "state": {
       "layout": "IPY_MODEL_d2a062568094474abbf1a3bc9c439672",
       "style": "IPY_MODEL_a52ade00be5a4764bee584a568c0c5f1",
       "value": "YEARS:   0%"
      }
     },
     "42f01350ef4741febee7665aa0756b20": {
      "model_module": "@jupyter-widgets/controls",
      "model_module_version": "2.0.0",
      "model_name": "HTMLStyleModel",
      "state": {
       "description_width": "",
       "font_size": null,
       "text_color": null
      }
     },
     "4301db3fb7054e879fd8ce78d65d16fb": {
      "model_module": "@jupyter-widgets/controls",
      "model_module_version": "2.0.0",
      "model_name": "HTMLStyleModel",
      "state": {
       "description_width": "",
       "font_size": null,
       "text_color": null
      }
     },
     "445a28d6210d45bfbfd59678a14683af": {
      "model_module": "@jupyter-widgets/controls",
      "model_module_version": "2.0.0",
      "model_name": "ProgressStyleModel",
      "state": {
       "description_width": ""
      }
     },
     "44a95ca826d343cfa0e5cb2232d4dcb2": {
      "model_module": "@jupyter-widgets/base",
      "model_module_version": "2.0.0",
      "model_name": "LayoutModel",
      "state": {}
     },
     "4527e4671b50442584636bae2819106a": {
      "model_module": "@jupyter-widgets/controls",
      "model_module_version": "2.0.0",
      "model_name": "HBoxModel",
      "state": {
       "children": [
        "IPY_MODEL_5faa47cd5f194db0be6bd2fb662550c0",
        "IPY_MODEL_0d0ccc03cc454d48893588b2abcead03",
        "IPY_MODEL_5d9b5908457c4d3591509c2e52a0c0ae"
       ],
       "layout": "IPY_MODEL_ec90dd612a084c9e84a47c1e5641911d"
      }
     },
     "4773c553fa4a466d83aefef79a8cfae7": {
      "model_module": "@jupyter-widgets/controls",
      "model_module_version": "2.0.0",
      "model_name": "HTMLStyleModel",
      "state": {
       "description_width": "",
       "font_size": null,
       "text_color": null
      }
     },
     "4781d001037243a7a5abce1c6a3bc81b": {
      "model_module": "@jupyter-widgets/base",
      "model_module_version": "2.0.0",
      "model_name": "LayoutModel",
      "state": {}
     },
     "4833b8fd733447e983f0079ad62b0043": {
      "model_module": "@jupyter-widgets/base",
      "model_module_version": "2.0.0",
      "model_name": "LayoutModel",
      "state": {}
     },
     "48358ec0ee74454a9191241ca8db4b75": {
      "model_module": "@jupyter-widgets/controls",
      "model_module_version": "2.0.0",
      "model_name": "HTMLStyleModel",
      "state": {
       "description_width": "",
       "font_size": null,
       "text_color": null
      }
     },
     "48b4be822b4d47b1b61321e6dedc10ce": {
      "model_module": "@jupyter-widgets/controls",
      "model_module_version": "2.0.0",
      "model_name": "HTMLModel",
      "state": {
       "layout": "IPY_MODEL_73be4317ed8949d99c9366cd0ecb19bd",
       "style": "IPY_MODEL_a411149c5ad8442fb46f0946fff9b970",
       "value": " 232/3168 [06:04&lt;54:25,  1.11s/it]"
      }
     },
     "490040b3c73442f7a1c9d339a6bee0e8": {
      "model_module": "@jupyter-widgets/base",
      "model_module_version": "2.0.0",
      "model_name": "LayoutModel",
      "state": {}
     },
     "490ddad4cefd4ce2999060da159f7c98": {
      "model_module": "@jupyter-widgets/controls",
      "model_module_version": "2.0.0",
      "model_name": "HTMLModel",
      "state": {
       "layout": "IPY_MODEL_90eae146c66041e893d2dce27e9b069d",
       "style": "IPY_MODEL_2c0285bf3cf442ce8a5c1d01c7681d80",
       "value": " 262/4529 [15:04&lt;12:59:07, 10.96s/it]"
      }
     },
     "4959dc02444342acb1e3e2e17d96d78c": {
      "model_module": "@jupyter-widgets/controls",
      "model_module_version": "2.0.0",
      "model_name": "HBoxModel",
      "state": {
       "children": [
        "IPY_MODEL_c4f8023c2ff24823be6214f5f35c28b3",
        "IPY_MODEL_9b17e12025f843beaee280bcd9099213",
        "IPY_MODEL_162637fa5ac64806ac6b30f3855e8789"
       ],
       "layout": "IPY_MODEL_ae9a15c3dc6f4c22bf662f667d1f4bbc"
      }
     },
     "495ad22bae444ea3ada3155e02f4b3e1": {
      "model_module": "@jupyter-widgets/controls",
      "model_module_version": "2.0.0",
      "model_name": "HTMLStyleModel",
      "state": {
       "description_width": "",
       "font_size": null,
       "text_color": null
      }
     },
     "4975e8ee4629459d8dbe810cff32bb92": {
      "model_module": "@jupyter-widgets/base",
      "model_module_version": "2.0.0",
      "model_name": "LayoutModel",
      "state": {}
     },
     "49888c936d2f4e9da3bb6b1834d77089": {
      "model_module": "@jupyter-widgets/controls",
      "model_module_version": "2.0.0",
      "model_name": "HTMLModel",
      "state": {
       "layout": "IPY_MODEL_77610b9f67eb485ca861da4a213553f6",
       "style": "IPY_MODEL_61a68b23d63f4c73955c34ca717e6e96",
       "value": " 723/3927 [14:49&lt;48:33,  1.10it/s]"
      }
     },
     "4a7501ee3c534ecdaf8777e4b8f1cef4": {
      "model_module": "@jupyter-widgets/controls",
      "model_module_version": "2.0.0",
      "model_name": "HTMLStyleModel",
      "state": {
       "description_width": "",
       "font_size": null,
       "text_color": null
      }
     },
     "4b1e652d6a434762a8bff1db18885b9e": {
      "model_module": "@jupyter-widgets/controls",
      "model_module_version": "2.0.0",
      "model_name": "HTMLStyleModel",
      "state": {
       "description_width": "",
       "font_size": null,
       "text_color": null
      }
     },
     "4be33b3913064eeabffd7671bb1c88d6": {
      "model_module": "@jupyter-widgets/controls",
      "model_module_version": "2.0.0",
      "model_name": "HTMLStyleModel",
      "state": {
       "description_width": "",
       "font_size": null,
       "text_color": null
      }
     },
     "4c115c3622184e1d9a4aa1116d8d532c": {
      "model_module": "@jupyter-widgets/base",
      "model_module_version": "2.0.0",
      "model_name": "LayoutModel",
      "state": {}
     },
     "4de8dafdb7484253bb6fddee55a0410e": {
      "model_module": "@jupyter-widgets/controls",
      "model_module_version": "2.0.0",
      "model_name": "FloatProgressModel",
      "state": {
       "bar_style": "danger",
       "layout": "IPY_MODEL_99993b8342524fccb5b061a3a5f5b8e7",
       "max": 8,
       "style": "IPY_MODEL_55765342d7f240c781f8b013ca613074"
      }
     },
     "4e372677242b44659256e2d3395b075e": {
      "model_module": "@jupyter-widgets/base",
      "model_module_version": "2.0.0",
      "model_name": "LayoutModel",
      "state": {}
     },
     "4e5ec34766a242d6b0597e5c8974ffb7": {
      "model_module": "@jupyter-widgets/controls",
      "model_module_version": "2.0.0",
      "model_name": "ProgressStyleModel",
      "state": {
       "description_width": ""
      }
     },
     "4f48d48842a2480bb77c15ac5d66d7ad": {
      "model_module": "@jupyter-widgets/base",
      "model_module_version": "2.0.0",
      "model_name": "LayoutModel",
      "state": {}
     },
     "4fcacbdbd2ab46019d0efa8e556ccf4f": {
      "model_module": "@jupyter-widgets/controls",
      "model_module_version": "2.0.0",
      "model_name": "FloatProgressModel",
      "state": {
       "bar_style": "danger",
       "layout": "IPY_MODEL_5d1db4cd7efa4b4fae3090849d5f433c",
       "max": 1482,
       "style": "IPY_MODEL_adce6263b3234d1393079e7e27be834f",
       "value": 589
      }
     },
     "4fe7c30012ac4bf6ad9341df41c37f19": {
      "model_module": "@jupyter-widgets/controls",
      "model_module_version": "2.0.0",
      "model_name": "HTMLStyleModel",
      "state": {
       "description_width": "",
       "font_size": null,
       "text_color": null
      }
     },
     "50953f2aabd44e93a92bd4cf6adfbdaf": {
      "model_module": "@jupyter-widgets/base",
      "model_module_version": "2.0.0",
      "model_name": "LayoutModel",
      "state": {}
     },
     "50b7ada1217f4ec9b022eaf7ef0846f3": {
      "model_module": "@jupyter-widgets/base",
      "model_module_version": "2.0.0",
      "model_name": "LayoutModel",
      "state": {}
     },
     "50b9e9bf27b64957a0f7fad80e51ff16": {
      "model_module": "@jupyter-widgets/controls",
      "model_module_version": "2.0.0",
      "model_name": "HTMLStyleModel",
      "state": {
       "description_width": "",
       "font_size": null,
       "text_color": null
      }
     },
     "51243991115a4aa48a1630804ad4bce9": {
      "model_module": "@jupyter-widgets/controls",
      "model_module_version": "2.0.0",
      "model_name": "HTMLModel",
      "state": {
       "layout": "IPY_MODEL_7b850751422e4e4a9fb0592c8dfeb78d",
       "style": "IPY_MODEL_c84ef489aa4640be89e3231ec7ff555c",
       "value": "Movies from 2012: 100%"
      }
     },
     "5173002fc68a411ebf4905cd665272c2": {
      "model_module": "@jupyter-widgets/controls",
      "model_module_version": "2.0.0",
      "model_name": "HTMLModel",
      "state": {
       "layout": "IPY_MODEL_377c1d2ac625499d83961177bebef714",
       "style": "IPY_MODEL_bbce7c373cfb4ca585506817463292f1",
       "value": " 0/8 [06:04&lt;?, ?it/s]"
      }
     },
     "519e15a362e64b4eae2bb197f716d9c3": {
      "model_module": "@jupyter-widgets/base",
      "model_module_version": "2.0.0",
      "model_name": "LayoutModel",
      "state": {}
     },
     "51b4a6acfb5e4fc78b095714d3d89b2e": {
      "model_module": "@jupyter-widgets/controls",
      "model_module_version": "2.0.0",
      "model_name": "HTMLStyleModel",
      "state": {
       "description_width": "",
       "font_size": null,
       "text_color": null
      }
     },
     "528a77a891594c798682ae6e7d01c8cc": {
      "model_module": "@jupyter-widgets/base",
      "model_module_version": "2.0.0",
      "model_name": "LayoutModel",
      "state": {}
     },
     "5301cfd23eda42b5b583308f81f3a56a": {
      "model_module": "@jupyter-widgets/controls",
      "model_module_version": "2.0.0",
      "model_name": "ProgressStyleModel",
      "state": {
       "description_width": ""
      }
     },
     "53e88a8fe422454c8812eb7ec06add94": {
      "model_module": "@jupyter-widgets/controls",
      "model_module_version": "2.0.0",
      "model_name": "FloatProgressModel",
      "state": {
       "bar_style": "danger",
       "layout": "IPY_MODEL_50b7ada1217f4ec9b022eaf7ef0846f3",
       "max": 10,
       "style": "IPY_MODEL_07068fc10e2d437599166304a449d396",
       "value": 1
      }
     },
     "5444d2fd72fc4085bbed63c0ae03e443": {
      "model_module": "@jupyter-widgets/controls",
      "model_module_version": "2.0.0",
      "model_name": "HBoxModel",
      "state": {
       "children": [
        "IPY_MODEL_3eebf08b404a4ea0b9adec6a3e2a7b53",
        "IPY_MODEL_e83f949bd1ef4536bc0e33778806b686",
        "IPY_MODEL_3bc1241d90144826b56808254fe59e5e"
       ],
       "layout": "IPY_MODEL_cbf6153e23374d8eaa185a0b4dd45284"
      }
     },
     "54a209505d05412fa25eb029b23bdc07": {
      "model_module": "@jupyter-widgets/base",
      "model_module_version": "2.0.0",
      "model_name": "LayoutModel",
      "state": {}
     },
     "552b2a4dc5094dc68e2747bce39d47e9": {
      "model_module": "@jupyter-widgets/controls",
      "model_module_version": "2.0.0",
      "model_name": "HTMLStyleModel",
      "state": {
       "description_width": "",
       "font_size": null,
       "text_color": null
      }
     },
     "553ec2de00a44cb482180358f5e6b058": {
      "model_module": "@jupyter-widgets/base",
      "model_module_version": "2.0.0",
      "model_name": "LayoutModel",
      "state": {}
     },
     "55765342d7f240c781f8b013ca613074": {
      "model_module": "@jupyter-widgets/controls",
      "model_module_version": "2.0.0",
      "model_name": "ProgressStyleModel",
      "state": {
       "description_width": ""
      }
     },
     "558c7c72c1d44bb2b9938c81e5cd3bcf": {
      "model_module": "@jupyter-widgets/controls",
      "model_module_version": "2.0.0",
      "model_name": "HBoxModel",
      "state": {
       "children": [
        "IPY_MODEL_8be82553cfe0463683162135e78fcfa2",
        "IPY_MODEL_f035b82ed1eb4062824cc2960479272e",
        "IPY_MODEL_993b241fedad42aeb569e057833943f0"
       ],
       "layout": "IPY_MODEL_44a95ca826d343cfa0e5cb2232d4dcb2"
      }
     },
     "55fbb54eede7422e8d2abf9418dfaa8b": {
      "model_module": "@jupyter-widgets/base",
      "model_module_version": "2.0.0",
      "model_name": "LayoutModel",
      "state": {}
     },
     "55fdab83ff7f412eac96e2fa27762c99": {
      "model_module": "@jupyter-widgets/base",
      "model_module_version": "2.0.0",
      "model_name": "LayoutModel",
      "state": {}
     },
     "56aec5a4d0a345f1b209c44f84f65af4": {
      "model_module": "@jupyter-widgets/base",
      "model_module_version": "2.0.0",
      "model_name": "LayoutModel",
      "state": {}
     },
     "57fb4d50f14a4c6fbace9a473dea43b7": {
      "model_module": "@jupyter-widgets/controls",
      "model_module_version": "2.0.0",
      "model_name": "HTMLModel",
      "state": {
       "layout": "IPY_MODEL_4781d001037243a7a5abce1c6a3bc81b",
       "style": "IPY_MODEL_d8cad4df03ad40dc95153bab2617fa37",
       "value": " 0/10 [47:27&lt;?, ?it/s]"
      }
     },
     "5818de99c472419c9b1312dad8351730": {
      "model_module": "@jupyter-widgets/base",
      "model_module_version": "2.0.0",
      "model_name": "LayoutModel",
      "state": {}
     },
     "5879b3f9d84842a095e584b6b5775b13": {
      "model_module": "@jupyter-widgets/base",
      "model_module_version": "2.0.0",
      "model_name": "LayoutModel",
      "state": {}
     },
     "599b41a9362b433dbaf3e0b7b8af92b6": {
      "model_module": "@jupyter-widgets/controls",
      "model_module_version": "2.0.0",
      "model_name": "HTMLStyleModel",
      "state": {
       "description_width": "",
       "font_size": null,
       "text_color": null
      }
     },
     "59eb9c694481451ebb97d1d0bd1d9c64": {
      "model_module": "@jupyter-widgets/controls",
      "model_module_version": "2.0.0",
      "model_name": "HBoxModel",
      "state": {
       "children": [
        "IPY_MODEL_8e9f54d13f6c46b0a5bef3003536de77",
        "IPY_MODEL_378139a95f11420b83dcac955076ff37",
        "IPY_MODEL_c8531e70f0324164bfcaf073e2d0e08f"
       ],
       "layout": "IPY_MODEL_17db1b6bcc1f403bb29fcb21f116d4ca"
      }
     },
     "5a3a87c4ec2e453a97460ff2aafcf56a": {
      "model_module": "@jupyter-widgets/controls",
      "model_module_version": "2.0.0",
      "model_name": "HTMLStyleModel",
      "state": {
       "description_width": "",
       "font_size": null,
       "text_color": null
      }
     },
     "5a53145cf45b4a33a62f3eee813a6f0b": {
      "model_module": "@jupyter-widgets/base",
      "model_module_version": "2.0.0",
      "model_name": "LayoutModel",
      "state": {}
     },
     "5a5f275f653a4f378bf5722532c3f25b": {
      "model_module": "@jupyter-widgets/base",
      "model_module_version": "2.0.0",
      "model_name": "LayoutModel",
      "state": {}
     },
     "5abba732bc284688aeec650ade9b5e8a": {
      "model_module": "@jupyter-widgets/controls",
      "model_module_version": "2.0.0",
      "model_name": "HTMLModel",
      "state": {
       "layout": "IPY_MODEL_145d1757883f4ea7865787808f34ebb7",
       "style": "IPY_MODEL_f3b289b68e3e4d1199ec756cb94615c3",
       "value": " 1/10 [33:41&lt;1:22:39, 551.05s/it]"
      }
     },
     "5c41001cbb324f6e9ec172ce7ee80741": {
      "model_module": "@jupyter-widgets/controls",
      "model_module_version": "2.0.0",
      "model_name": "ProgressStyleModel",
      "state": {
       "description_width": ""
      }
     },
     "5ce08ed576ff43d9af55befd6c70033e": {
      "model_module": "@jupyter-widgets/controls",
      "model_module_version": "2.0.0",
      "model_name": "ProgressStyleModel",
      "state": {
       "description_width": ""
      }
     },
     "5d1db4cd7efa4b4fae3090849d5f433c": {
      "model_module": "@jupyter-widgets/base",
      "model_module_version": "2.0.0",
      "model_name": "LayoutModel",
      "state": {}
     },
     "5d76031a188944939b3f0ec290322300": {
      "model_module": "@jupyter-widgets/base",
      "model_module_version": "2.0.0",
      "model_name": "LayoutModel",
      "state": {}
     },
     "5d9b5908457c4d3591509c2e52a0c0ae": {
      "model_module": "@jupyter-widgets/controls",
      "model_module_version": "2.0.0",
      "model_name": "HTMLModel",
      "state": {
       "layout": "IPY_MODEL_d5ba2f50bcf44ce5a26ad2cb1c8c341a",
       "style": "IPY_MODEL_ee579ff1b5214fb1975675596fe5140d",
       "value": " 0/9 [21:03:06&lt;?, ?it/s]"
      }
     },
     "5da327c2a7de41b083f435b63f665bcd": {
      "model_module": "@jupyter-widgets/base",
      "model_module_version": "2.0.0",
      "model_name": "LayoutModel",
      "state": {}
     },
     "5f11704f560143c9966311e9ab7364f1": {
      "model_module": "@jupyter-widgets/controls",
      "model_module_version": "2.0.0",
      "model_name": "ProgressStyleModel",
      "state": {
       "description_width": ""
      }
     },
     "5f7fef1b136d478cb6fea29e505c457e": {
      "model_module": "@jupyter-widgets/controls",
      "model_module_version": "2.0.0",
      "model_name": "FloatProgressModel",
      "state": {
       "bar_style": "danger",
       "layout": "IPY_MODEL_66449c1ed670416ea3e8fe22a250b11e",
       "max": 9,
       "style": "IPY_MODEL_d748c0a471364ba3b05a58b1e375544e"
      }
     },
     "5faa47cd5f194db0be6bd2fb662550c0": {
      "model_module": "@jupyter-widgets/controls",
      "model_module_version": "2.0.0",
      "model_name": "HTMLModel",
      "state": {
       "layout": "IPY_MODEL_db9ada1717fb45dd9f343847293af683",
       "style": "IPY_MODEL_17752a1239df48e1bdaa1e1f5483616c",
       "value": "YEARS:   0%"
      }
     },
     "6050098725c6430c82e08fb482b20b41": {
      "model_module": "@jupyter-widgets/base",
      "model_module_version": "2.0.0",
      "model_name": "LayoutModel",
      "state": {}
     },
     "6070c6c82c9a4c32a75a4117c0382806": {
      "model_module": "@jupyter-widgets/controls",
      "model_module_version": "2.0.0",
      "model_name": "HBoxModel",
      "state": {
       "children": [
        "IPY_MODEL_f97ab04d12a344c5abbe430401248142",
        "IPY_MODEL_0dfb5f0e3108442683dc7de504b29a87",
        "IPY_MODEL_b836b37e98474689b64992ebf75a34be"
       ],
       "layout": "IPY_MODEL_edb818f098d34d188a0869ed91ca4554"
      }
     },
     "60fc3e231cb04eeab0737a5d1535edec": {
      "model_module": "@jupyter-widgets/base",
      "model_module_version": "2.0.0",
      "model_name": "LayoutModel",
      "state": {}
     },
     "61961d045eed4105bafc35b2039d0b29": {
      "model_module": "@jupyter-widgets/controls",
      "model_module_version": "2.0.0",
      "model_name": "HTMLModel",
      "state": {
       "layout": "IPY_MODEL_cdaf46bb228344afa2d4310569a8800b",
       "style": "IPY_MODEL_23e961450c264365b885a50d4dfdab62",
       "value": "YEARS:   0%"
      }
     },
     "61a68b23d63f4c73955c34ca717e6e96": {
      "model_module": "@jupyter-widgets/controls",
      "model_module_version": "2.0.0",
      "model_name": "HTMLStyleModel",
      "state": {
       "description_width": "",
       "font_size": null,
       "text_color": null
      }
     },
     "62a8103cc2f947f6a2afd9f739f0152b": {
      "model_module": "@jupyter-widgets/base",
      "model_module_version": "2.0.0",
      "model_name": "LayoutModel",
      "state": {}
     },
     "62bfdc3392e0448bba2a399bae7b5cad": {
      "model_module": "@jupyter-widgets/base",
      "model_module_version": "2.0.0",
      "model_name": "LayoutModel",
      "state": {}
     },
     "635c14e46c15496bb79f35cc8dce789c": {
      "model_module": "@jupyter-widgets/controls",
      "model_module_version": "2.0.0",
      "model_name": "HTMLStyleModel",
      "state": {
       "description_width": "",
       "font_size": null,
       "text_color": null
      }
     },
     "64574bd1a1e9442fb830a5174e8f8d33": {
      "model_module": "@jupyter-widgets/controls",
      "model_module_version": "2.0.0",
      "model_name": "HTMLStyleModel",
      "state": {
       "description_width": "",
       "font_size": null,
       "text_color": null
      }
     },
     "64b513ba1b16452e89be52576b589bd2": {
      "model_module": "@jupyter-widgets/controls",
      "model_module_version": "2.0.0",
      "model_name": "HBoxModel",
      "state": {
       "children": [
        "IPY_MODEL_f50b3cef6169421f8f894e1111866ca5",
        "IPY_MODEL_31791249c75a4e46a928414b04794ffa",
        "IPY_MODEL_0646b895bd244d85a99cee24d0d2706e"
       ],
       "layout": "IPY_MODEL_5a5f275f653a4f378bf5722532c3f25b"
      }
     },
     "660b256b9c154ed3ad6c6e8af87dd3d4": {
      "model_module": "@jupyter-widgets/base",
      "model_module_version": "2.0.0",
      "model_name": "LayoutModel",
      "state": {}
     },
     "663e56366cc34ef8b1afaeb5738337d4": {
      "model_module": "@jupyter-widgets/controls",
      "model_module_version": "2.0.0",
      "model_name": "HTMLStyleModel",
      "state": {
       "description_width": "",
       "font_size": null,
       "text_color": null
      }
     },
     "66449c1ed670416ea3e8fe22a250b11e": {
      "model_module": "@jupyter-widgets/base",
      "model_module_version": "2.0.0",
      "model_name": "LayoutModel",
      "state": {}
     },
     "66947590fdd447898122f382bbd3ebe3": {
      "model_module": "@jupyter-widgets/base",
      "model_module_version": "2.0.0",
      "model_name": "LayoutModel",
      "state": {}
     },
     "66c5ef5233fd42c3b46ef24dc769ab5c": {
      "model_module": "@jupyter-widgets/base",
      "model_module_version": "2.0.0",
      "model_name": "LayoutModel",
      "state": {}
     },
     "670a3e8f4b3147ae934587ea19a19b2b": {
      "model_module": "@jupyter-widgets/controls",
      "model_module_version": "2.0.0",
      "model_name": "HBoxModel",
      "state": {
       "children": [
        "IPY_MODEL_b8d5352c2f7c4cdda1f5eaa31013ab1d",
        "IPY_MODEL_f7869a89504f49b5b4e16ccd86d17a50",
        "IPY_MODEL_49888c936d2f4e9da3bb6b1834d77089"
       ],
       "layout": "IPY_MODEL_519e15a362e64b4eae2bb197f716d9c3"
      }
     },
     "67a90ac0c9bb4162a3fb2c51048600a7": {
      "model_module": "@jupyter-widgets/base",
      "model_module_version": "2.0.0",
      "model_name": "LayoutModel",
      "state": {}
     },
     "67efab89265a4b2bb1c2ad7b0cfcee8e": {
      "model_module": "@jupyter-widgets/base",
      "model_module_version": "2.0.0",
      "model_name": "LayoutModel",
      "state": {}
     },
     "6830b2cd6579476ebb1a8b7ba5efcd46": {
      "model_module": "@jupyter-widgets/base",
      "model_module_version": "2.0.0",
      "model_name": "LayoutModel",
      "state": {}
     },
     "684a2a864f7d471498491e21a51ad349": {
      "model_module": "@jupyter-widgets/base",
      "model_module_version": "2.0.0",
      "model_name": "LayoutModel",
      "state": {}
     },
     "68618166b0304d4d982b5ef506590b7c": {
      "model_module": "@jupyter-widgets/controls",
      "model_module_version": "2.0.0",
      "model_name": "HTMLModel",
      "state": {
       "layout": "IPY_MODEL_be07282f2aec4e0fb7564e142bc6a4a8",
       "style": "IPY_MODEL_6b6f34d4c02a4a8895dd6fb183eae9ff",
       "value": "YEARS:   0%"
      }
     },
     "6890430117a54e0a9bae5fee369e93af": {
      "model_module": "@jupyter-widgets/controls",
      "model_module_version": "2.0.0",
      "model_name": "HTMLStyleModel",
      "state": {
       "description_width": "",
       "font_size": null,
       "text_color": null
      }
     },
     "68960d224e0e4354baab499751f6ca38": {
      "model_module": "@jupyter-widgets/base",
      "model_module_version": "2.0.0",
      "model_name": "LayoutModel",
      "state": {}
     },
     "69419dbe60f44fc9ba70849859b9d529": {
      "model_module": "@jupyter-widgets/controls",
      "model_module_version": "2.0.0",
      "model_name": "HTMLModel",
      "state": {
       "layout": "IPY_MODEL_1e18379e54a7480aa4e047cf3f61226f",
       "style": "IPY_MODEL_c3704a90978f400b8fed2339264ec4f0",
       "value": "YEARS:  12%"
      }
     },
     "69462e091b1b4acea4b4f5acabb5a2c3": {
      "model_module": "@jupyter-widgets/base",
      "model_module_version": "2.0.0",
      "model_name": "LayoutModel",
      "state": {}
     },
     "6970a442a2bb4541a3bf1ba8d68f2c78": {
      "model_module": "@jupyter-widgets/controls",
      "model_module_version": "2.0.0",
      "model_name": "HTMLModel",
      "state": {
       "layout": "IPY_MODEL_8ebc37db092742cba5beae13becd1217",
       "style": "IPY_MODEL_a956d0bb750e48b49b1df9c2d4f33efa",
       "value": "YEARS:   0%"
      }
     },
     "69ae4d1e27154037a7d3acbe5e874c5c": {
      "model_module": "@jupyter-widgets/controls",
      "model_module_version": "2.0.0",
      "model_name": "FloatProgressModel",
      "state": {
       "bar_style": "danger",
       "layout": "IPY_MODEL_1f34a16d3d6749bcbfc2eaa9bf744e3e",
       "max": 4525,
       "style": "IPY_MODEL_3c38a439c709428081f6341cbdb4d834",
       "value": 1476
      }
     },
     "6a049781d5654b7b895d6089cd55dd6c": {
      "model_module": "@jupyter-widgets/base",
      "model_module_version": "2.0.0",
      "model_name": "LayoutModel",
      "state": {}
     },
     "6a94452f704a45d98b600e1b66cde157": {
      "model_module": "@jupyter-widgets/controls",
      "model_module_version": "2.0.0",
      "model_name": "HTMLStyleModel",
      "state": {
       "description_width": "",
       "font_size": null,
       "text_color": null
      }
     },
     "6afa5c9635074bff8a412f2b0508b2e1": {
      "model_module": "@jupyter-widgets/controls",
      "model_module_version": "2.0.0",
      "model_name": "HTMLStyleModel",
      "state": {
       "description_width": "",
       "font_size": null,
       "text_color": null
      }
     },
     "6b6f34d4c02a4a8895dd6fb183eae9ff": {
      "model_module": "@jupyter-widgets/controls",
      "model_module_version": "2.0.0",
      "model_name": "HTMLStyleModel",
      "state": {
       "description_width": "",
       "font_size": null,
       "text_color": null
      }
     },
     "6bf4a71cda054fd1839f28978151a79d": {
      "model_module": "@jupyter-widgets/controls",
      "model_module_version": "2.0.0",
      "model_name": "HTMLModel",
      "state": {
       "layout": "IPY_MODEL_81ddf7cedcfd4e62bde9804e16f1ff98",
       "style": "IPY_MODEL_2001ab03ef034df99a3f1e659833c1f7",
       "value": "YEARS:   0%"
      }
     },
     "6c114e130b0e4d46ae70d9a03909f456": {
      "model_module": "@jupyter-widgets/controls",
      "model_module_version": "2.0.0",
      "model_name": "HBoxModel",
      "state": {
       "children": [
        "IPY_MODEL_c1a03848cb504a7ea40dd515e52083d4",
        "IPY_MODEL_25dcc13cfd0c4af09f3588200dab6049",
        "IPY_MODEL_7c5c1256fa8945ddbde24d8e65767e57"
       ],
       "layout": "IPY_MODEL_e14cd95b69c849f58cc646543c591e38"
      }
     },
     "6c3fa5e8f512486cb2e17781cfbb6867": {
      "model_module": "@jupyter-widgets/base",
      "model_module_version": "2.0.0",
      "model_name": "LayoutModel",
      "state": {}
     },
     "6c92ff971dd44e68889458b6abc0b656": {
      "model_module": "@jupyter-widgets/controls",
      "model_module_version": "2.0.0",
      "model_name": "ProgressStyleModel",
      "state": {
       "description_width": ""
      }
     },
     "6cc9edc4579547f7999dbb2890c84157": {
      "model_module": "@jupyter-widgets/controls",
      "model_module_version": "2.0.0",
      "model_name": "HTMLStyleModel",
      "state": {
       "description_width": "",
       "font_size": null,
       "text_color": null
      }
     },
     "6cd40fb45b3e419ba33181446d2090ee": {
      "model_module": "@jupyter-widgets/controls",
      "model_module_version": "2.0.0",
      "model_name": "FloatProgressModel",
      "state": {
       "bar_style": "danger",
       "layout": "IPY_MODEL_aac9060cade0433aa28c10462c2cf7f3",
       "max": 3168,
       "style": "IPY_MODEL_8b70160db36f413dab0c1604e06ff05a",
       "value": 232
      }
     },
     "6d253859bff44e7da1bc51a40c2b8f60": {
      "model_module": "@jupyter-widgets/base",
      "model_module_version": "2.0.0",
      "model_name": "LayoutModel",
      "state": {}
     },
     "6d525868a545444f8844b6736025bbb9": {
      "model_module": "@jupyter-widgets/base",
      "model_module_version": "2.0.0",
      "model_name": "LayoutModel",
      "state": {}
     },
     "6dae7f2bdfc6479ea5cbd3feac5547cb": {
      "model_module": "@jupyter-widgets/controls",
      "model_module_version": "2.0.0",
      "model_name": "ProgressStyleModel",
      "state": {
       "description_width": ""
      }
     },
     "6ddd101d5d144194a4464fb93378d909": {
      "model_module": "@jupyter-widgets/controls",
      "model_module_version": "2.0.0",
      "model_name": "HTMLStyleModel",
      "state": {
       "description_width": "",
       "font_size": null,
       "text_color": null
      }
     },
     "6e7895df074b491881e8bb9b89d43e0f": {
      "model_module": "@jupyter-widgets/controls",
      "model_module_version": "2.0.0",
      "model_name": "HTMLStyleModel",
      "state": {
       "description_width": "",
       "font_size": null,
       "text_color": null
      }
     },
     "6f0b054f1e32461b8013ef7855a1bbb0": {
      "model_module": "@jupyter-widgets/controls",
      "model_module_version": "2.0.0",
      "model_name": "HTMLModel",
      "state": {
       "layout": "IPY_MODEL_660b256b9c154ed3ad6c6e8af87dd3d4",
       "style": "IPY_MODEL_3a23c7be6c5a457d8b2acfc56f8b4aa3",
       "value": "Movies from 2013:   0%"
      }
     },
     "6f217e89fb934070b197f628ad6e3f38": {
      "model_module": "@jupyter-widgets/base",
      "model_module_version": "2.0.0",
      "model_name": "LayoutModel",
      "state": {}
     },
     "7029fb03582842b3b043e6a05f459009": {
      "model_module": "@jupyter-widgets/base",
      "model_module_version": "2.0.0",
      "model_name": "LayoutModel",
      "state": {}
     },
     "70bb94f574c2409198724037aff3fb42": {
      "model_module": "@jupyter-widgets/base",
      "model_module_version": "2.0.0",
      "model_name": "LayoutModel",
      "state": {}
     },
     "70d6acae8d7241188de35c9c575ba48d": {
      "model_module": "@jupyter-widgets/controls",
      "model_module_version": "2.0.0",
      "model_name": "HTMLModel",
      "state": {
       "layout": "IPY_MODEL_67efab89265a4b2bb1c2ad7b0cfcee8e",
       "style": "IPY_MODEL_ceedb22ab99b44698775e3dce9387c4d",
       "value": " 1/8 [27:43&lt;2:11:53, 1130.54s/it]"
      }
     },
     "71322167dde1422c98efa42924e858ba": {
      "model_module": "@jupyter-widgets/base",
      "model_module_version": "2.0.0",
      "model_name": "LayoutModel",
      "state": {}
     },
     "71b93d063e844e79b5cf0df8912070f0": {
      "model_module": "@jupyter-widgets/base",
      "model_module_version": "2.0.0",
      "model_name": "LayoutModel",
      "state": {}
     },
     "724b14b95d87476fa2fd375d6fe211eb": {
      "model_module": "@jupyter-widgets/base",
      "model_module_version": "2.0.0",
      "model_name": "LayoutModel",
      "state": {}
     },
     "72a84e71f93540629869d2770e04c3ff": {
      "model_module": "@jupyter-widgets/base",
      "model_module_version": "2.0.0",
      "model_name": "LayoutModel",
      "state": {}
     },
     "72eedf9e531b43d8b045ba4897b35daf": {
      "model_module": "@jupyter-widgets/base",
      "model_module_version": "2.0.0",
      "model_name": "LayoutModel",
      "state": {}
     },
     "73612e8e122f44fabd1e83cc4e700227": {
      "model_module": "@jupyter-widgets/controls",
      "model_module_version": "2.0.0",
      "model_name": "FloatProgressModel",
      "state": {
       "bar_style": "danger",
       "layout": "IPY_MODEL_419b444a6d2e4b99b2d82a7aff5eaa1f",
       "max": 8,
       "style": "IPY_MODEL_4e5ec34766a242d6b0597e5c8974ffb7"
      }
     },
     "738f465330674ecb844fe3b05d8a8041": {
      "model_module": "@jupyter-widgets/base",
      "model_module_version": "2.0.0",
      "model_name": "LayoutModel",
      "state": {}
     },
     "73be4317ed8949d99c9366cd0ecb19bd": {
      "model_module": "@jupyter-widgets/base",
      "model_module_version": "2.0.0",
      "model_name": "LayoutModel",
      "state": {}
     },
     "7432bf45fc4b4a1d926fd664c8eaa1d9": {
      "model_module": "@jupyter-widgets/controls",
      "model_module_version": "2.0.0",
      "model_name": "HTMLStyleModel",
      "state": {
       "description_width": "",
       "font_size": null,
       "text_color": null
      }
     },
     "7498f71c6dad4184be69ca0698528587": {
      "model_module": "@jupyter-widgets/controls",
      "model_module_version": "2.0.0",
      "model_name": "HTMLStyleModel",
      "state": {
       "description_width": "",
       "font_size": null,
       "text_color": null
      }
     },
     "759b3eea0cb94a9b8b099f544727101c": {
      "model_module": "@jupyter-widgets/controls",
      "model_module_version": "2.0.0",
      "model_name": "ProgressStyleModel",
      "state": {
       "description_width": ""
      }
     },
     "75ac8d4bdfc74c80a3560532b1011d87": {
      "model_module": "@jupyter-widgets/controls",
      "model_module_version": "2.0.0",
      "model_name": "HTMLModel",
      "state": {
       "layout": "IPY_MODEL_daea1fd4358b4bbabdcbc9a553714d7b",
       "style": "IPY_MODEL_35c8163be51145e986f4137641d79002",
       "value": "Movies from 2010: 100%"
      }
     },
     "75be0e68f343483687481615061ad5a4": {
      "model_module": "@jupyter-widgets/controls",
      "model_module_version": "2.0.0",
      "model_name": "ProgressStyleModel",
      "state": {
       "description_width": ""
      }
     },
     "76ce52e64be44e0083737b61e7992fc1": {
      "model_module": "@jupyter-widgets/controls",
      "model_module_version": "2.0.0",
      "model_name": "FloatProgressModel",
      "state": {
       "bar_style": "danger",
       "layout": "IPY_MODEL_93e78b9bae0043f3a35b16b8e01de987",
       "max": 8,
       "style": "IPY_MODEL_d99e5afb4c7846b78a1a775aff4857cf"
      }
     },
     "76e543bc35f34e5088416490d49719a4": {
      "model_module": "@jupyter-widgets/controls",
      "model_module_version": "2.0.0",
      "model_name": "HTMLStyleModel",
      "state": {
       "description_width": "",
       "font_size": null,
       "text_color": null
      }
     },
     "7708ac791f2d48589112284fbacc2934": {
      "model_module": "@jupyter-widgets/controls",
      "model_module_version": "2.0.0",
      "model_name": "FloatProgressModel",
      "state": {
       "bar_style": "danger",
       "layout": "IPY_MODEL_c4183a897c6740fc9e794a1ecac83c76",
       "max": 10,
       "style": "IPY_MODEL_f9d4a01925ee49ebb15e4d1ba4fd6c00"
      }
     },
     "77610b9f67eb485ca861da4a213553f6": {
      "model_module": "@jupyter-widgets/base",
      "model_module_version": "2.0.0",
      "model_name": "LayoutModel",
      "state": {}
     },
     "7812549c3805412fb59acf1b4f95167c": {
      "model_module": "@jupyter-widgets/base",
      "model_module_version": "2.0.0",
      "model_name": "LayoutModel",
      "state": {}
     },
     "78193853d15849269df547b1b609affb": {
      "model_module": "@jupyter-widgets/controls",
      "model_module_version": "2.0.0",
      "model_name": "HTMLModel",
      "state": {
       "layout": "IPY_MODEL_738f465330674ecb844fe3b05d8a8041",
       "style": "IPY_MODEL_4b1e652d6a434762a8bff1db18885b9e",
       "value": "Movies from 2013: 100%"
      }
     },
     "781f51227a7849cea06d89add246cdf9": {
      "model_module": "@jupyter-widgets/controls",
      "model_module_version": "2.0.0",
      "model_name": "HBoxModel",
      "state": {
       "children": [
        "IPY_MODEL_903916d900a84e0fb7324d59112e4578",
        "IPY_MODEL_909e8c2d0c7d448b8fcb163d64293456",
        "IPY_MODEL_c6bbfcbaa2bd40278025675775d43d98"
       ],
       "layout": "IPY_MODEL_724b14b95d87476fa2fd375d6fe211eb"
      }
     },
     "78bf5676f16c4297880480752964f3a5": {
      "model_module": "@jupyter-widgets/controls",
      "model_module_version": "2.0.0",
      "model_name": "FloatProgressModel",
      "state": {
       "bar_style": "danger",
       "layout": "IPY_MODEL_c43a62b046b34803a6ce5730dc8d59db",
       "max": 3534,
       "style": "IPY_MODEL_6dae7f2bdfc6479ea5cbd3feac5547cb",
       "value": 5
      }
     },
     "78c2292758074825856eef51d33da5ef": {
      "model_module": "@jupyter-widgets/controls",
      "model_module_version": "2.0.0",
      "model_name": "HTMLStyleModel",
      "state": {
       "description_width": "",
       "font_size": null,
       "text_color": null
      }
     },
     "7915084421b741d39403e91f52c54c05": {
      "model_module": "@jupyter-widgets/controls",
      "model_module_version": "2.0.0",
      "model_name": "HBoxModel",
      "state": {
       "children": [
        "IPY_MODEL_3a0d59aef76849618e9c9f37ea40e93c",
        "IPY_MODEL_1572523842d74324a788afa27acabe7c",
        "IPY_MODEL_0926245f0bd0471b8696d70de1e62c12"
       ],
       "layout": "IPY_MODEL_169d5ed288024d9cbd973c0a2169a299"
      }
     },
     "7960221a858b4b7a946b06959dff7b4d": {
      "model_module": "@jupyter-widgets/base",
      "model_module_version": "2.0.0",
      "model_name": "LayoutModel",
      "state": {}
     },
     "7994fdd3a62540ca869f47e9a3c29ff3": {
      "model_module": "@jupyter-widgets/base",
      "model_module_version": "2.0.0",
      "model_name": "LayoutModel",
      "state": {}
     },
     "79995525013e4ed094e5bb418439db66": {
      "model_module": "@jupyter-widgets/base",
      "model_module_version": "2.0.0",
      "model_name": "LayoutModel",
      "state": {}
     },
     "79c1d88987ca407a849c38482919713a": {
      "model_module": "@jupyter-widgets/base",
      "model_module_version": "2.0.0",
      "model_name": "LayoutModel",
      "state": {}
     },
     "79f42d572a3c4c60bb762e24fc9c809b": {
      "model_module": "@jupyter-widgets/controls",
      "model_module_version": "2.0.0",
      "model_name": "HBoxModel",
      "state": {
       "children": [
        "IPY_MODEL_69419dbe60f44fc9ba70849859b9d529",
        "IPY_MODEL_a1e959b6aa144bf3afcf60d1923a0186",
        "IPY_MODEL_70d6acae8d7241188de35c9c575ba48d"
       ],
       "layout": "IPY_MODEL_8e0903e0ac7949d39f5dc90dfedc016c"
      }
     },
     "79fd5a03173d408abaca8fe6652ba822": {
      "model_module": "@jupyter-widgets/base",
      "model_module_version": "2.0.0",
      "model_name": "LayoutModel",
      "state": {}
     },
     "7a646ef63ee042f3bb7fd3533bfd864a": {
      "model_module": "@jupyter-widgets/base",
      "model_module_version": "2.0.0",
      "model_name": "LayoutModel",
      "state": {}
     },
     "7ac2800372924c1fac74f0d96492ee63": {
      "model_module": "@jupyter-widgets/controls",
      "model_module_version": "2.0.0",
      "model_name": "FloatProgressModel",
      "state": {
       "bar_style": "danger",
       "layout": "IPY_MODEL_a5f34bdd2d7340c8b19ab20a44bf6751",
       "max": 7,
       "style": "IPY_MODEL_235779b99674497ebd104480e2ac5692"
      }
     },
     "7af5b99d382949ee98477206825f3618": {
      "model_module": "@jupyter-widgets/controls",
      "model_module_version": "2.0.0",
      "model_name": "HTMLModel",
      "state": {
       "layout": "IPY_MODEL_68960d224e0e4354baab499751f6ca38",
       "style": "IPY_MODEL_90a03051912c43adaf34b5ae5763d518",
       "value": "YEARS:   0%"
      }
     },
     "7b850751422e4e4a9fb0592c8dfeb78d": {
      "model_module": "@jupyter-widgets/base",
      "model_module_version": "2.0.0",
      "model_name": "LayoutModel",
      "state": {}
     },
     "7beb3573365445eb9dd1707c05d39ff6": {
      "model_module": "@jupyter-widgets/base",
      "model_module_version": "2.0.0",
      "model_name": "LayoutModel",
      "state": {}
     },
     "7c0b63bbd9b948ecb718486e32f2046b": {
      "model_module": "@jupyter-widgets/controls",
      "model_module_version": "2.0.0",
      "model_name": "ProgressStyleModel",
      "state": {
       "description_width": ""
      }
     },
     "7c2cd7efc64c4ea99a76a8d00b425100": {
      "model_module": "@jupyter-widgets/controls",
      "model_module_version": "2.0.0",
      "model_name": "HTMLStyleModel",
      "state": {
       "description_width": "",
       "font_size": null,
       "text_color": null
      }
     },
     "7c5c1256fa8945ddbde24d8e65767e57": {
      "model_module": "@jupyter-widgets/controls",
      "model_module_version": "2.0.0",
      "model_name": "HTMLModel",
      "state": {
       "layout": "IPY_MODEL_b024a81e3efa4748b055800804c55741",
       "style": "IPY_MODEL_0cb3c04c770a416dbf576afc94e6b506",
       "value": " 0/8 [01:23&lt;?, ?it/s]"
      }
     },
     "7e65393cf93849f8b034863fda917fd4": {
      "model_module": "@jupyter-widgets/base",
      "model_module_version": "2.0.0",
      "model_name": "LayoutModel",
      "state": {}
     },
     "7ecbd881bbcb4da69e72fe52f49480f6": {
      "model_module": "@jupyter-widgets/base",
      "model_module_version": "2.0.0",
      "model_name": "LayoutModel",
      "state": {}
     },
     "8061716ab144414c8a607d5b1ca94e80": {
      "model_module": "@jupyter-widgets/controls",
      "model_module_version": "2.0.0",
      "model_name": "HTMLStyleModel",
      "state": {
       "description_width": "",
       "font_size": null,
       "text_color": null
      }
     },
     "80e0a6263d814317997b6c13cdca510f": {
      "model_module": "@jupyter-widgets/base",
      "model_module_version": "2.0.0",
      "model_name": "LayoutModel",
      "state": {}
     },
     "81ddf7cedcfd4e62bde9804e16f1ff98": {
      "model_module": "@jupyter-widgets/base",
      "model_module_version": "2.0.0",
      "model_name": "LayoutModel",
      "state": {}
     },
     "82acb678f29e496094a1d549cf9fa4d7": {
      "model_module": "@jupyter-widgets/base",
      "model_module_version": "2.0.0",
      "model_name": "LayoutModel",
      "state": {}
     },
     "8323185654b64364bfd2e6bae82a221e": {
      "model_module": "@jupyter-widgets/controls",
      "model_module_version": "2.0.0",
      "model_name": "HTMLModel",
      "state": {
       "layout": "IPY_MODEL_d70a80228f974f2886c74f3bf2c8be42",
       "style": "IPY_MODEL_9fc26bc4a87d4175bec5a264c5db6eb3",
       "value": "Movies from 2010:  35%"
      }
     },
     "83a3aaa7b0e24d4b8f84dcacee3e5f81": {
      "model_module": "@jupyter-widgets/base",
      "model_module_version": "2.0.0",
      "model_name": "LayoutModel",
      "state": {}
     },
     "83d8bc23e7de42adb8db92feb16f89e1": {
      "model_module": "@jupyter-widgets/controls",
      "model_module_version": "2.0.0",
      "model_name": "ProgressStyleModel",
      "state": {
       "description_width": ""
      }
     },
     "856f47746c6649d29100fa773b08fbc2": {
      "model_module": "@jupyter-widgets/base",
      "model_module_version": "2.0.0",
      "model_name": "LayoutModel",
      "state": {}
     },
     "864104c4eb5847f98ddfc0ad12720668": {
      "model_module": "@jupyter-widgets/controls",
      "model_module_version": "2.0.0",
      "model_name": "HBoxModel",
      "state": {
       "children": [
        "IPY_MODEL_51243991115a4aa48a1630804ad4bce9",
        "IPY_MODEL_c171f4d5094c4c60b01a12f5d9c91fa6",
        "IPY_MODEL_ad1b968b57be48a9ab29378723c9793b"
       ],
       "layout": "IPY_MODEL_081c3c9850ee498cba170434bfe87fa4"
      }
     },
     "864978771a104347b5f4ecfe41e1d00a": {
      "model_module": "@jupyter-widgets/base",
      "model_module_version": "2.0.0",
      "model_name": "LayoutModel",
      "state": {}
     },
     "868d2765767f4bbaac5ff93b91d52426": {
      "model_module": "@jupyter-widgets/controls",
      "model_module_version": "2.0.0",
      "model_name": "HTMLStyleModel",
      "state": {
       "description_width": "",
       "font_size": null,
       "text_color": null
      }
     },
     "876d1666d76d41bca44cd9d9271e9cdf": {
      "model_module": "@jupyter-widgets/controls",
      "model_module_version": "2.0.0",
      "model_name": "HBoxModel",
      "state": {
       "children": [
        "IPY_MODEL_099e1dc5ffa6418c83cb13440de05e67",
        "IPY_MODEL_cd1a874a3e6f479689e92c5c69127972",
        "IPY_MODEL_f9c9274e594b4a398972cd6865b24da8"
       ],
       "layout": "IPY_MODEL_9f0d1794f9064d9d8046dbc29d61c0e4"
      }
     },
     "8770c20158e948ca98512f244a5f95be": {
      "model_module": "@jupyter-widgets/controls",
      "model_module_version": "2.0.0",
      "model_name": "HTMLModel",
      "state": {
       "layout": "IPY_MODEL_27cd1b27913d4551bc28dfb5a6138d0b",
       "style": "IPY_MODEL_02d5073006774138af613ac70df6d5e4",
       "value": " 3107/3192 [47:27&lt;00:49,  1.71it/s]"
      }
     },
     "8893edd0daee47a4909d007e8d22564e": {
      "model_module": "@jupyter-widgets/controls",
      "model_module_version": "2.0.0",
      "model_name": "HTMLStyleModel",
      "state": {
       "description_width": "",
       "font_size": null,
       "text_color": null
      }
     },
     "88e156f506fb4b43b16b738f287dfd06": {
      "model_module": "@jupyter-widgets/controls",
      "model_module_version": "2.0.0",
      "model_name": "FloatProgressModel",
      "state": {
       "bar_style": "danger",
       "layout": "IPY_MODEL_1fc71a4bf0c34536afc7b779c9a7f847",
       "max": 1482,
       "style": "IPY_MODEL_cc843a7256334066a532c8824acf6ec6",
       "value": 21
      }
     },
     "88eaacc10b214819a7fe75c5691abc13": {
      "model_module": "@jupyter-widgets/controls",
      "model_module_version": "2.0.0",
      "model_name": "HTMLStyleModel",
      "state": {
       "description_width": "",
       "font_size": null,
       "text_color": null
      }
     },
     "892e40ef2ac745cbb6f0214dbd83acc5": {
      "model_module": "@jupyter-widgets/controls",
      "model_module_version": "2.0.0",
      "model_name": "HBoxModel",
      "state": {
       "children": [
        "IPY_MODEL_1e80e95221a841faaaaa190d5a34cc98",
        "IPY_MODEL_7ac2800372924c1fac74f0d96492ee63",
        "IPY_MODEL_e9d9d8c0555249be9ca94967870aec66"
       ],
       "layout": "IPY_MODEL_83a3aaa7b0e24d4b8f84dcacee3e5f81"
      }
     },
     "895c9a647e5246c5aa4aeed72198c4e5": {
      "model_module": "@jupyter-widgets/controls",
      "model_module_version": "2.0.0",
      "model_name": "HTMLStyleModel",
      "state": {
       "description_width": "",
       "font_size": null,
       "text_color": null
      }
     },
     "89709ca0c84a4c62a6159cd78e4c4025": {
      "model_module": "@jupyter-widgets/controls",
      "model_module_version": "2.0.0",
      "model_name": "HTMLStyleModel",
      "state": {
       "description_width": "",
       "font_size": null,
       "text_color": null
      }
     },
     "897974c40f924f768dac80552b80b24e": {
      "model_module": "@jupyter-widgets/base",
      "model_module_version": "2.0.0",
      "model_name": "LayoutModel",
      "state": {}
     },
     "89cfc8d2531a465cb11eb257d44fd8a1": {
      "model_module": "@jupyter-widgets/controls",
      "model_module_version": "2.0.0",
      "model_name": "HTMLStyleModel",
      "state": {
       "description_width": "",
       "font_size": null,
       "text_color": null
      }
     },
     "8a495c156a784b39827816c72faae2d8": {
      "model_module": "@jupyter-widgets/controls",
      "model_module_version": "2.0.0",
      "model_name": "FloatProgressModel",
      "state": {
       "bar_style": "danger",
       "layout": "IPY_MODEL_4079cea5b3054f37a6db7816c26e6ec6",
       "max": 9,
       "style": "IPY_MODEL_928745ac0d24475292b052b0c8783e4e",
       "value": 1
      }
     },
     "8a9f3f1e4620487da83f061ecdfe3a6f": {
      "model_module": "@jupyter-widgets/controls",
      "model_module_version": "2.0.0",
      "model_name": "HTMLStyleModel",
      "state": {
       "description_width": "",
       "font_size": null,
       "text_color": null
      }
     },
     "8aef1ca7ad324eb4a62570a244078821": {
      "model_module": "@jupyter-widgets/base",
      "model_module_version": "2.0.0",
      "model_name": "LayoutModel",
      "state": {}
     },
     "8b55c7cbc6ee43788119c126470150ec": {
      "model_module": "@jupyter-widgets/controls",
      "model_module_version": "2.0.0",
      "model_name": "HBoxModel",
      "state": {
       "children": [
        "IPY_MODEL_9cdc543d8fd84d0d94064591130a4440",
        "IPY_MODEL_4fcacbdbd2ab46019d0efa8e556ccf4f",
        "IPY_MODEL_dcdb2129d42e4bc7bc92dd93efb23188"
       ],
       "layout": "IPY_MODEL_8aef1ca7ad324eb4a62570a244078821"
      }
     },
     "8b70160db36f413dab0c1604e06ff05a": {
      "model_module": "@jupyter-widgets/controls",
      "model_module_version": "2.0.0",
      "model_name": "ProgressStyleModel",
      "state": {
       "description_width": ""
      }
     },
     "8b826563a4f740e2a80038522458fb6f": {
      "model_module": "@jupyter-widgets/controls",
      "model_module_version": "2.0.0",
      "model_name": "HTMLStyleModel",
      "state": {
       "description_width": "",
       "font_size": null,
       "text_color": null
      }
     },
     "8be82553cfe0463683162135e78fcfa2": {
      "model_module": "@jupyter-widgets/controls",
      "model_module_version": "2.0.0",
      "model_name": "HTMLModel",
      "state": {
       "layout": "IPY_MODEL_897974c40f924f768dac80552b80b24e",
       "style": "IPY_MODEL_8893edd0daee47a4909d007e8d22564e",
       "value": "YEARS:   0%"
      }
     },
     "8bfd187ec8ee430198713050617b73d8": {
      "model_module": "@jupyter-widgets/controls",
      "model_module_version": "2.0.0",
      "model_name": "HTMLModel",
      "state": {
       "layout": "IPY_MODEL_8ee63cfead58414590f4acc6115c287b",
       "style": "IPY_MODEL_e9320cad47cb48d4b18dfd4e0c920cde",
       "value": " 236/1940 [10:47&lt;15:04,  1.88it/s]"
      }
     },
     "8c9fae4fdbe940c9a5b88397b05f9e5a": {
      "model_module": "@jupyter-widgets/controls",
      "model_module_version": "2.0.0",
      "model_name": "HBoxModel",
      "state": {
       "children": [
        "IPY_MODEL_2b35da0215df4023aec379273a747580",
        "IPY_MODEL_10ffd54c3b77421780620e4e90b9af40",
        "IPY_MODEL_401fb0eaab5349a29c37f203a2c7235d"
       ],
       "layout": "IPY_MODEL_d8e7b9153737488d89d218eb191064ad"
      }
     },
     "8d28352af084466e80396988ef653cbd": {
      "model_module": "@jupyter-widgets/controls",
      "model_module_version": "2.0.0",
      "model_name": "HTMLModel",
      "state": {
       "layout": "IPY_MODEL_5d76031a188944939b3f0ec290322300",
       "style": "IPY_MODEL_a133a1a28c4440beb40141e4d1ab52dd",
       "value": "YEARS:   0%"
      }
     },
     "8d5814b9fc144fe38daa1b48c1cb4704": {
      "model_module": "@jupyter-widgets/controls",
      "model_module_version": "2.0.0",
      "model_name": "ProgressStyleModel",
      "state": {
       "description_width": ""
      }
     },
     "8d62c6b5a9b9425385c74b96a8efb598": {
      "model_module": "@jupyter-widgets/base",
      "model_module_version": "2.0.0",
      "model_name": "LayoutModel",
      "state": {}
     },
     "8e0903e0ac7949d39f5dc90dfedc016c": {
      "model_module": "@jupyter-widgets/base",
      "model_module_version": "2.0.0",
      "model_name": "LayoutModel",
      "state": {}
     },
     "8e0d8326645246679dc4f38b46607d67": {
      "model_module": "@jupyter-widgets/controls",
      "model_module_version": "2.0.0",
      "model_name": "HTMLModel",
      "state": {
       "layout": "IPY_MODEL_214f42a0ca3645e28fc6a2add6a596fe",
       "style": "IPY_MODEL_07be4fec310e4edba063a581d216f902",
       "value": "Movies from 2013:  22%"
      }
     },
     "8e9f54d13f6c46b0a5bef3003536de77": {
      "model_module": "@jupyter-widgets/controls",
      "model_module_version": "2.0.0",
      "model_name": "HTMLModel",
      "state": {
       "layout": "IPY_MODEL_7029fb03582842b3b043e6a05f459009",
       "style": "IPY_MODEL_0de7782a2906455fb5d9b44a1e9a9000",
       "value": "YEARS:   0%"
      }
     },
     "8ebc37db092742cba5beae13becd1217": {
      "model_module": "@jupyter-widgets/base",
      "model_module_version": "2.0.0",
      "model_name": "LayoutModel",
      "state": {}
     },
     "8ee63cfead58414590f4acc6115c287b": {
      "model_module": "@jupyter-widgets/base",
      "model_module_version": "2.0.0",
      "model_name": "LayoutModel",
      "state": {}
     },
     "8f0c12f10c054f53ace05762a9dee8db": {
      "model_module": "@jupyter-widgets/controls",
      "model_module_version": "2.0.0",
      "model_name": "ProgressStyleModel",
      "state": {
       "description_width": ""
      }
     },
     "8f7aceaa193945e584db8bfd5c21751c": {
      "model_module": "@jupyter-widgets/controls",
      "model_module_version": "2.0.0",
      "model_name": "HTMLStyleModel",
      "state": {
       "description_width": "",
       "font_size": null,
       "text_color": null
      }
     },
     "8fac149b24d348eaaeac7143281f252c": {
      "model_module": "@jupyter-widgets/base",
      "model_module_version": "2.0.0",
      "model_name": "LayoutModel",
      "state": {}
     },
     "8feb53eea3064802a42ea0880c52f8a0": {
      "model_module": "@jupyter-widgets/base",
      "model_module_version": "2.0.0",
      "model_name": "LayoutModel",
      "state": {}
     },
     "8febe276f8374de29294e43c1d70485b": {
      "model_module": "@jupyter-widgets/base",
      "model_module_version": "2.0.0",
      "model_name": "LayoutModel",
      "state": {}
     },
     "903916d900a84e0fb7324d59112e4578": {
      "model_module": "@jupyter-widgets/controls",
      "model_module_version": "2.0.0",
      "model_name": "HTMLModel",
      "state": {
       "layout": "IPY_MODEL_2eacb06f6ca54722a0f791d7d5bac733",
       "style": "IPY_MODEL_a07724c3091e4e37882859b269304d5d",
       "value": "YEARS:   0%"
      }
     },
     "909e8c2d0c7d448b8fcb163d64293456": {
      "model_module": "@jupyter-widgets/controls",
      "model_module_version": "2.0.0",
      "model_name": "FloatProgressModel",
      "state": {
       "bar_style": "danger",
       "layout": "IPY_MODEL_d134022802974b3ca32b05e0487ed3e4",
       "max": 11,
       "style": "IPY_MODEL_01b179cc32ce4a368af83cb321fabf49"
      }
     },
     "90a03051912c43adaf34b5ae5763d518": {
      "model_module": "@jupyter-widgets/controls",
      "model_module_version": "2.0.0",
      "model_name": "HTMLStyleModel",
      "state": {
       "description_width": "",
       "font_size": null,
       "text_color": null
      }
     },
     "90e5366eb759460b83fe79f3334e4b51": {
      "model_module": "@jupyter-widgets/controls",
      "model_module_version": "2.0.0",
      "model_name": "HBoxModel",
      "state": {
       "children": [
        "IPY_MODEL_ef2d5f73fe024119a92b0dfce4605f7a",
        "IPY_MODEL_369f499d8c1d47848ea46068bc6e44cc",
        "IPY_MODEL_1602d9f2c849485490c1bbf98bea0630"
       ],
       "layout": "IPY_MODEL_038edfc0695e44ca86c06edef5183c26"
      }
     },
     "90eae146c66041e893d2dce27e9b069d": {
      "model_module": "@jupyter-widgets/base",
      "model_module_version": "2.0.0",
      "model_name": "LayoutModel",
      "state": {}
     },
     "9124a1510cd44fe2aa6ee8c153a24610": {
      "model_module": "@jupyter-widgets/base",
      "model_module_version": "2.0.0",
      "model_name": "LayoutModel",
      "state": {}
     },
     "919318bfcecd49378f86734466e3361a": {
      "model_module": "@jupyter-widgets/base",
      "model_module_version": "2.0.0",
      "model_name": "LayoutModel",
      "state": {}
     },
     "91afb87f59cb46df8421ab2b2d5997ec": {
      "model_module": "@jupyter-widgets/base",
      "model_module_version": "2.0.0",
      "model_name": "LayoutModel",
      "state": {}
     },
     "928745ac0d24475292b052b0c8783e4e": {
      "model_module": "@jupyter-widgets/controls",
      "model_module_version": "2.0.0",
      "model_name": "ProgressStyleModel",
      "state": {
       "description_width": ""
      }
     },
     "931ff1ea85664076914e7d387985a6eb": {
      "model_module": "@jupyter-widgets/base",
      "model_module_version": "2.0.0",
      "model_name": "LayoutModel",
      "state": {}
     },
     "9328d90698af4c6d9f8481094dfd8571": {
      "model_module": "@jupyter-widgets/controls",
      "model_module_version": "2.0.0",
      "model_name": "ProgressStyleModel",
      "state": {
       "description_width": ""
      }
     },
     "93666fa6aedc49118c1313fe7eddf5a6": {
      "model_module": "@jupyter-widgets/controls",
      "model_module_version": "2.0.0",
      "model_name": "FloatProgressModel",
      "state": {
       "bar_style": "danger",
       "layout": "IPY_MODEL_38e8b350b5c044808ccf34c5f6b0a78c",
       "max": 1940,
       "style": "IPY_MODEL_cfc23792be5b4362b12b698ae53bf40d",
       "value": 1240
      }
     },
     "93e78b9bae0043f3a35b16b8e01de987": {
      "model_module": "@jupyter-widgets/base",
      "model_module_version": "2.0.0",
      "model_name": "LayoutModel",
      "state": {}
     },
     "94011f3655cc43e69248c8a6642c265c": {
      "model_module": "@jupyter-widgets/controls",
      "model_module_version": "2.0.0",
      "model_name": "FloatProgressModel",
      "state": {
       "bar_style": "danger",
       "layout": "IPY_MODEL_9c4541b1d2e14d929cadbc08662ad6a7",
       "max": 8,
       "style": "IPY_MODEL_b42097165714410193a728e791d0fcaa"
      }
     },
     "942fe79630924f22a4726e34e8ae87b6": {
      "model_module": "@jupyter-widgets/controls",
      "model_module_version": "2.0.0",
      "model_name": "HTMLStyleModel",
      "state": {
       "description_width": "",
       "font_size": null,
       "text_color": null
      }
     },
     "953caaec9ba3423bae7c5083531cd20c": {
      "model_module": "@jupyter-widgets/base",
      "model_module_version": "2.0.0",
      "model_name": "LayoutModel",
      "state": {}
     },
     "958e6f5a4b774115bebfbf7b24050441": {
      "model_module": "@jupyter-widgets/controls",
      "model_module_version": "2.0.0",
      "model_name": "HTMLStyleModel",
      "state": {
       "description_width": "",
       "font_size": null,
       "text_color": null
      }
     },
     "96510579075e464eb8ab608cb5b87bde": {
      "model_module": "@jupyter-widgets/controls",
      "model_module_version": "2.0.0",
      "model_name": "HTMLStyleModel",
      "state": {
       "description_width": "",
       "font_size": null,
       "text_color": null
      }
     },
     "970847426aaf465683ef94d447fd66a8": {
      "model_module": "@jupyter-widgets/controls",
      "model_module_version": "2.0.0",
      "model_name": "HBoxModel",
      "state": {
       "children": [
        "IPY_MODEL_bdd19304481942ad972d533ebef0b2fd",
        "IPY_MODEL_d3623c14d2124f3a91a0012cc7e983e8",
        "IPY_MODEL_1a420740ec374420bfa6720f6e34040f"
       ],
       "layout": "IPY_MODEL_37225fb3b26049fbae986d3dc868434a"
      }
     },
     "993b241fedad42aeb569e057833943f0": {
      "model_module": "@jupyter-widgets/controls",
      "model_module_version": "2.0.0",
      "model_name": "HTMLModel",
      "state": {
       "layout": "IPY_MODEL_c9c293a7941b4b70bebfb98152f884fc",
       "style": "IPY_MODEL_d57c87f4dbda459cbf3a3a851c300a99",
       "value": " 0/9 [04:08&lt;?, ?it/s]"
      }
     },
     "99993b8342524fccb5b061a3a5f5b8e7": {
      "model_module": "@jupyter-widgets/base",
      "model_module_version": "2.0.0",
      "model_name": "LayoutModel",
      "state": {}
     },
     "99cdebd1dfbb472cb120f54dc6792a83": {
      "model_module": "@jupyter-widgets/base",
      "model_module_version": "2.0.0",
      "model_name": "LayoutModel",
      "state": {}
     },
     "9a3b554527514ea3adfc11d048bb1635": {
      "model_module": "@jupyter-widgets/base",
      "model_module_version": "2.0.0",
      "model_name": "LayoutModel",
      "state": {}
     },
     "9b17e12025f843beaee280bcd9099213": {
      "model_module": "@jupyter-widgets/controls",
      "model_module_version": "2.0.0",
      "model_name": "FloatProgressModel",
      "state": {
       "bar_style": "danger",
       "layout": "IPY_MODEL_c67d3e4d93af4a34bf6c302126fcdcc9",
       "max": 3364,
       "style": "IPY_MODEL_cd222498d6714e9683453a46d5bd3727",
       "value": 375
      }
     },
     "9c4541b1d2e14d929cadbc08662ad6a7": {
      "model_module": "@jupyter-widgets/base",
      "model_module_version": "2.0.0",
      "model_name": "LayoutModel",
      "state": {}
     },
     "9cd8288ca70c4fe4b23e005d16b40d21": {
      "model_module": "@jupyter-widgets/controls",
      "model_module_version": "2.0.0",
      "model_name": "HBoxModel",
      "state": {
       "children": [
        "IPY_MODEL_f22901e4ba4e46d58caff051561839c1",
        "IPY_MODEL_7708ac791f2d48589112284fbacc2934",
        "IPY_MODEL_57fb4d50f14a4c6fbace9a473dea43b7"
       ],
       "layout": "IPY_MODEL_7994fdd3a62540ca869f47e9a3c29ff3"
      }
     },
     "9cdc543d8fd84d0d94064591130a4440": {
      "model_module": "@jupyter-widgets/controls",
      "model_module_version": "2.0.0",
      "model_name": "HTMLModel",
      "state": {
       "layout": "IPY_MODEL_a4561a0349224106a02bfc5f5f424246",
       "style": "IPY_MODEL_b846eec2dd374c25bdd7e3a892634f88",
       "value": "Movies from 2013:  40%"
      }
     },
     "9e06c2cdcb4648708329384c5eebcab3": {
      "model_module": "@jupyter-widgets/base",
      "model_module_version": "2.0.0",
      "model_name": "LayoutModel",
      "state": {}
     },
     "9e5facf782384f449ee5489e9373a01e": {
      "model_module": "@jupyter-widgets/controls",
      "model_module_version": "2.0.0",
      "model_name": "HBoxModel",
      "state": {
       "children": [
        "IPY_MODEL_78193853d15849269df547b1b609affb",
        "IPY_MODEL_30f7027b4e3244da8a17d5316398bdda",
        "IPY_MODEL_22f477e189b248479a1078b01cff624c"
       ],
       "layout": "IPY_MODEL_4833b8fd733447e983f0079ad62b0043"
      }
     },
     "9ea4e8b036ab40818076941f69a1a412": {
      "model_module": "@jupyter-widgets/base",
      "model_module_version": "2.0.0",
      "model_name": "LayoutModel",
      "state": {}
     },
     "9f0d1794f9064d9d8046dbc29d61c0e4": {
      "model_module": "@jupyter-widgets/base",
      "model_module_version": "2.0.0",
      "model_name": "LayoutModel",
      "state": {}
     },
     "9fc26bc4a87d4175bec5a264c5db6eb3": {
      "model_module": "@jupyter-widgets/controls",
      "model_module_version": "2.0.0",
      "model_name": "HTMLStyleModel",
      "state": {
       "description_width": "",
       "font_size": null,
       "text_color": null
      }
     },
     "a07724c3091e4e37882859b269304d5d": {
      "model_module": "@jupyter-widgets/controls",
      "model_module_version": "2.0.0",
      "model_name": "HTMLStyleModel",
      "state": {
       "description_width": "",
       "font_size": null,
       "text_color": null
      }
     },
     "a0d3cc7ba15b4c10b6e6547f991f75bb": {
      "model_module": "@jupyter-widgets/controls",
      "model_module_version": "2.0.0",
      "model_name": "HTMLStyleModel",
      "state": {
       "description_width": "",
       "font_size": null,
       "text_color": null
      }
     },
     "a133a1a28c4440beb40141e4d1ab52dd": {
      "model_module": "@jupyter-widgets/controls",
      "model_module_version": "2.0.0",
      "model_name": "HTMLStyleModel",
      "state": {
       "description_width": "",
       "font_size": null,
       "text_color": null
      }
     },
     "a1ceb4368320435aa4e71a9da058ad05": {
      "model_module": "@jupyter-widgets/controls",
      "model_module_version": "2.0.0",
      "model_name": "HTMLStyleModel",
      "state": {
       "description_width": "",
       "font_size": null,
       "text_color": null
      }
     },
     "a1e1ee64a6f04de8aefe2fdf0a5c1a51": {
      "model_module": "@jupyter-widgets/base",
      "model_module_version": "2.0.0",
      "model_name": "LayoutModel",
      "state": {}
     },
     "a1e959b6aa144bf3afcf60d1923a0186": {
      "model_module": "@jupyter-widgets/controls",
      "model_module_version": "2.0.0",
      "model_name": "FloatProgressModel",
      "state": {
       "bar_style": "danger",
       "layout": "IPY_MODEL_79fd5a03173d408abaca8fe6652ba822",
       "max": 8,
       "style": "IPY_MODEL_5c41001cbb324f6e9ec172ce7ee80741",
       "value": 1
      }
     },
     "a25feca8ceea451daa202f59722f6750": {
      "model_module": "@jupyter-widgets/base",
      "model_module_version": "2.0.0",
      "model_name": "LayoutModel",
      "state": {}
     },
     "a261b1d9dc8844b9be4979f9bbe3ec58": {
      "model_module": "@jupyter-widgets/base",
      "model_module_version": "2.0.0",
      "model_name": "LayoutModel",
      "state": {}
     },
     "a2b4d9b188894730b633415e46aa7217": {
      "model_module": "@jupyter-widgets/controls",
      "model_module_version": "2.0.0",
      "model_name": "HTMLModel",
      "state": {
       "layout": "IPY_MODEL_67a90ac0c9bb4162a3fb2c51048600a7",
       "style": "IPY_MODEL_958e6f5a4b774115bebfbf7b24050441",
       "value": "YEARS:   0%"
      }
     },
     "a36d6bdef0b24156b1ac37fd883e3db7": {
      "model_module": "@jupyter-widgets/controls",
      "model_module_version": "2.0.0",
      "model_name": "HBoxModel",
      "state": {
       "children": [
        "IPY_MODEL_29cf448b15ee416984b061e847eda372",
        "IPY_MODEL_083e878cd15c417abb6420ad154bea0d",
        "IPY_MODEL_32c4f6b37f644228995fa87540cd5233"
       ],
       "layout": "IPY_MODEL_db7cf35013c649b1b56d96f3f0a5260c"
      }
     },
     "a377016bdb494eac9def54bcc0a78f90": {
      "model_module": "@jupyter-widgets/controls",
      "model_module_version": "2.0.0",
      "model_name": "HTMLModel",
      "state": {
       "layout": "IPY_MODEL_f6ad595688f440988e61c51fb28c1a5d",
       "style": "IPY_MODEL_b49943f253834126b28bce055dc2ebec",
       "value": "YEARS:   0%"
      }
     },
     "a411149c5ad8442fb46f0946fff9b970": {
      "model_module": "@jupyter-widgets/controls",
      "model_module_version": "2.0.0",
      "model_name": "HTMLStyleModel",
      "state": {
       "description_width": "",
       "font_size": null,
       "text_color": null
      }
     },
     "a4485422685448b0a605a365303e9d52": {
      "model_module": "@jupyter-widgets/controls",
      "model_module_version": "2.0.0",
      "model_name": "HBoxModel",
      "state": {
       "children": [
        "IPY_MODEL_e5571308227b495db019c2ca1918047e",
        "IPY_MODEL_6cd40fb45b3e419ba33181446d2090ee",
        "IPY_MODEL_48b4be822b4d47b1b61321e6dedc10ce"
       ],
       "layout": "IPY_MODEL_c1b0bc0fe226415cb2ea7a034cda914f"
      }
     },
     "a4561a0349224106a02bfc5f5f424246": {
      "model_module": "@jupyter-widgets/base",
      "model_module_version": "2.0.0",
      "model_name": "LayoutModel",
      "state": {}
     },
     "a49d8f00595544adac5a451813f7d413": {
      "model_module": "@jupyter-widgets/controls",
      "model_module_version": "2.0.0",
      "model_name": "HTMLModel",
      "state": {
       "layout": "IPY_MODEL_dc55937639d2420982f0e85a187fa6af",
       "style": "IPY_MODEL_8f7aceaa193945e584db8bfd5c21751c",
       "value": "YEARS:   0%"
      }
     },
     "a52ade00be5a4764bee584a568c0c5f1": {
      "model_module": "@jupyter-widgets/controls",
      "model_module_version": "2.0.0",
      "model_name": "HTMLStyleModel",
      "state": {
       "description_width": "",
       "font_size": null,
       "text_color": null
      }
     },
     "a5440b44a8be4c7582e1a3b8abedc8f7": {
      "model_module": "@jupyter-widgets/base",
      "model_module_version": "2.0.0",
      "model_name": "LayoutModel",
      "state": {}
     },
     "a5f34bdd2d7340c8b19ab20a44bf6751": {
      "model_module": "@jupyter-widgets/base",
      "model_module_version": "2.0.0",
      "model_name": "LayoutModel",
      "state": {}
     },
     "a639b77b72124cc6aa79c0d0cfc1127b": {
      "model_module": "@jupyter-widgets/base",
      "model_module_version": "2.0.0",
      "model_name": "LayoutModel",
      "state": {}
     },
     "a66a147e5280462caf39d98d6503ec9e": {
      "model_module": "@jupyter-widgets/controls",
      "model_module_version": "2.0.0",
      "model_name": "HTMLStyleModel",
      "state": {
       "description_width": "",
       "font_size": null,
       "text_color": null
      }
     },
     "a7052608890344ca8a1592f6d2fe6253": {
      "model_module": "@jupyter-widgets/controls",
      "model_module_version": "2.0.0",
      "model_name": "HTMLStyleModel",
      "state": {
       "description_width": "",
       "font_size": null,
       "text_color": null
      }
     },
     "a729e29ff51f4996b763111b1eb78d4d": {
      "model_module": "@jupyter-widgets/controls",
      "model_module_version": "2.0.0",
      "model_name": "HTMLModel",
      "state": {
       "layout": "IPY_MODEL_7e65393cf93849f8b034863fda917fd4",
       "style": "IPY_MODEL_4be33b3913064eeabffd7671bb1c88d6",
       "value": " 792/3534 [50:40&lt;56:27,  1.24s/it]"
      }
     },
     "a7cd9929a9484a6fa0ebd4db66a8ee71": {
      "model_module": "@jupyter-widgets/controls",
      "model_module_version": "2.0.0",
      "model_name": "HTMLModel",
      "state": {
       "layout": "IPY_MODEL_71322167dde1422c98efa42924e858ba",
       "style": "IPY_MODEL_6e7895df074b491881e8bb9b89d43e0f",
       "value": " 0/9 [19:03&lt;?, ?it/s]"
      }
     },
     "a956d0bb750e48b49b1df9c2d4f33efa": {
      "model_module": "@jupyter-widgets/controls",
      "model_module_version": "2.0.0",
      "model_name": "HTMLStyleModel",
      "state": {
       "description_width": "",
       "font_size": null,
       "text_color": null
      }
     },
     "a9c1c5e4d3c8416fb3a631c49874e61a": {
      "model_module": "@jupyter-widgets/controls",
      "model_module_version": "2.0.0",
      "model_name": "HBoxModel",
      "state": {
       "children": [
        "IPY_MODEL_1808cb0aef1c4e1cafee5383f0c0d89b",
        "IPY_MODEL_e444680c11514a3db70c671837cd566e",
        "IPY_MODEL_db53292901094d34b598b18ff031c508"
       ],
       "layout": "IPY_MODEL_a25feca8ceea451daa202f59722f6750"
      }
     },
     "a9fe7eb502034e64b01fb62868e66481": {
      "model_module": "@jupyter-widgets/controls",
      "model_module_version": "2.0.0",
      "model_name": "HBoxModel",
      "state": {
       "children": [
        "IPY_MODEL_61961d045eed4105bafc35b2039d0b29",
        "IPY_MODEL_73612e8e122f44fabd1e83cc4e700227",
        "IPY_MODEL_e28f25a94ba24d569393b498a051d635"
       ],
       "layout": "IPY_MODEL_3274c2da9d30498291bf7fc9244eeb53"
      }
     },
     "aa2e08f26b8b4b33861adc48f5b3b456": {
      "model_module": "@jupyter-widgets/controls",
      "model_module_version": "2.0.0",
      "model_name": "HBoxModel",
      "state": {
       "children": [
        "IPY_MODEL_68618166b0304d4d982b5ef506590b7c",
        "IPY_MODEL_3e59ce1710c54f49829825d3dc06368b",
        "IPY_MODEL_b140cfc674134b9a8088f00f7a671917"
       ],
       "layout": "IPY_MODEL_303cba2f4a9f4921b8808d3f5475904c"
      }
     },
     "aa370b7affa94b68a97ef75fcc065957": {
      "model_module": "@jupyter-widgets/controls",
      "model_module_version": "2.0.0",
      "model_name": "ProgressStyleModel",
      "state": {
       "description_width": ""
      }
     },
     "aa48a66416e34edab3e4d3981ce22631": {
      "model_module": "@jupyter-widgets/controls",
      "model_module_version": "2.0.0",
      "model_name": "FloatProgressModel",
      "state": {
       "bar_style": "danger",
       "layout": "IPY_MODEL_54a209505d05412fa25eb029b23bdc07",
       "max": 9,
       "style": "IPY_MODEL_b110519c101e4cef9c969aaadfbc7b92"
      }
     },
     "aab5c1ae625546b7aa28aa50f5bdd1f3": {
      "model_module": "@jupyter-widgets/controls",
      "model_module_version": "2.0.0",
      "model_name": "HTMLStyleModel",
      "state": {
       "description_width": "",
       "font_size": null,
       "text_color": null
      }
     },
     "aac9060cade0433aa28c10462c2cf7f3": {
      "model_module": "@jupyter-widgets/base",
      "model_module_version": "2.0.0",
      "model_name": "LayoutModel",
      "state": {}
     },
     "aaca11e037cd41be8e0bf8a9ee3a58ee": {
      "model_module": "@jupyter-widgets/controls",
      "model_module_version": "2.0.0",
      "model_name": "HTMLModel",
      "state": {
       "layout": "IPY_MODEL_684a2a864f7d471498491e21a51ad349",
       "style": "IPY_MODEL_b04245a872d44f47954b458f0b064f09",
       "value": " 21/1482 [01:23&lt;1:43:17,  4.24s/it]"
      }
     },
     "abd9f37f00ae4f30b923784e775d4f7d": {
      "model_module": "@jupyter-widgets/base",
      "model_module_version": "2.0.0",
      "model_name": "LayoutModel",
      "state": {}
     },
     "ac94a15b556f45669b5a6e564e554fbe": {
      "model_module": "@jupyter-widgets/controls",
      "model_module_version": "2.0.0",
      "model_name": "HBoxModel",
      "state": {
       "children": [
        "IPY_MODEL_13601dced0d5440db977d1ef797134e7",
        "IPY_MODEL_c75c86b07d9f46b1ba067db7905811ac",
        "IPY_MODEL_b6ca528fd07946468b5161e0a12cd7f2"
       ],
       "layout": "IPY_MODEL_80e0a6263d814317997b6c13cdca510f"
      }
     },
     "ad1b968b57be48a9ab29378723c9793b": {
      "model_module": "@jupyter-widgets/controls",
      "model_module_version": "2.0.0",
      "model_name": "HTMLModel",
      "state": {
       "layout": "IPY_MODEL_72eedf9e531b43d8b045ba4897b35daf",
       "style": "IPY_MODEL_495ad22bae444ea3ada3155e02f4b3e1",
       "value": " 1673/1673 [17:16&lt;00:00,  1.89it/s]"
      }
     },
     "ada6b1892e0946ebb41bd49e1d0815cf": {
      "model_module": "@jupyter-widgets/controls",
      "model_module_version": "2.0.0",
      "model_name": "HTMLStyleModel",
      "state": {
       "description_width": "",
       "font_size": null,
       "text_color": null
      }
     },
     "adce6263b3234d1393079e7e27be834f": {
      "model_module": "@jupyter-widgets/controls",
      "model_module_version": "2.0.0",
      "model_name": "ProgressStyleModel",
      "state": {
       "description_width": ""
      }
     },
     "ae45197702224f6e8c61631c1364c9aa": {
      "model_module": "@jupyter-widgets/controls",
      "model_module_version": "2.0.0",
      "model_name": "HTMLModel",
      "state": {
       "layout": "IPY_MODEL_36948b3c95b74efe9fa28101e42a6013",
       "style": "IPY_MODEL_8061716ab144414c8a607d5b1ca94e80",
       "value": "YEARS:  11%"
      }
     },
     "ae5fe37deec24134ae48a44aab44cc0b": {
      "model_module": "@jupyter-widgets/controls",
      "model_module_version": "2.0.0",
      "model_name": "ProgressStyleModel",
      "state": {
       "description_width": ""
      }
     },
     "ae9a15c3dc6f4c22bf662f667d1f4bbc": {
      "model_module": "@jupyter-widgets/base",
      "model_module_version": "2.0.0",
      "model_name": "LayoutModel",
      "state": {}
     },
     "aea07f7a435f4151962107cbd09a82e9": {
      "model_module": "@jupyter-widgets/base",
      "model_module_version": "2.0.0",
      "model_name": "LayoutModel",
      "state": {}
     },
     "b024a81e3efa4748b055800804c55741": {
      "model_module": "@jupyter-widgets/base",
      "model_module_version": "2.0.0",
      "model_name": "LayoutModel",
      "state": {}
     },
     "b04245a872d44f47954b458f0b064f09": {
      "model_module": "@jupyter-widgets/controls",
      "model_module_version": "2.0.0",
      "model_name": "HTMLStyleModel",
      "state": {
       "description_width": "",
       "font_size": null,
       "text_color": null
      }
     },
     "b062294dcba54c7ebb54c8560a3845d7": {
      "model_module": "@jupyter-widgets/controls",
      "model_module_version": "2.0.0",
      "model_name": "HTMLModel",
      "state": {
       "layout": "IPY_MODEL_91afb87f59cb46df8421ab2b2d5997ec",
       "style": "IPY_MODEL_6cc9edc4579547f7999dbb2890c84157",
       "value": "YEARS:  10%"
      }
     },
     "b0d748bac44645d79b9f54bc13d56bbd": {
      "model_module": "@jupyter-widgets/controls",
      "model_module_version": "2.0.0",
      "model_name": "ProgressStyleModel",
      "state": {
       "description_width": ""
      }
     },
     "b110519c101e4cef9c969aaadfbc7b92": {
      "model_module": "@jupyter-widgets/controls",
      "model_module_version": "2.0.0",
      "model_name": "ProgressStyleModel",
      "state": {
       "description_width": ""
      }
     },
     "b140cfc674134b9a8088f00f7a671917": {
      "model_module": "@jupyter-widgets/controls",
      "model_module_version": "2.0.0",
      "model_name": "HTMLModel",
      "state": {
       "layout": "IPY_MODEL_19b3878700954b53a68268870188ab31",
       "style": "IPY_MODEL_8b826563a4f740e2a80038522458fb6f",
       "value": " 0/7 [00:52&lt;?, ?it/s]"
      }
     },
     "b29ea171042f43a2a3ab3706f3730200": {
      "model_module": "@jupyter-widgets/controls",
      "model_module_version": "2.0.0",
      "model_name": "HBoxModel",
      "state": {
       "children": [
        "IPY_MODEL_29e52e9c5d0f43129d659fc19dfed741",
        "IPY_MODEL_d5cdc91bb75e41e4bf26780cb1a255af",
        "IPY_MODEL_a729e29ff51f4996b763111b1eb78d4d"
       ],
       "layout": "IPY_MODEL_ec9f1c95acad4502a285aaeb07810218"
      }
     },
     "b3018035ace84659ae691f2b13611b3d": {
      "model_module": "@jupyter-widgets/controls",
      "model_module_version": "2.0.0",
      "model_name": "ProgressStyleModel",
      "state": {
       "description_width": ""
      }
     },
     "b42097165714410193a728e791d0fcaa": {
      "model_module": "@jupyter-widgets/controls",
      "model_module_version": "2.0.0",
      "model_name": "ProgressStyleModel",
      "state": {
       "description_width": ""
      }
     },
     "b4682bba382f4a198d20f837a38af6f3": {
      "model_module": "@jupyter-widgets/controls",
      "model_module_version": "2.0.0",
      "model_name": "HBoxModel",
      "state": {
       "children": [
        "IPY_MODEL_eedb4a2db010480ab42c176c0e938e5f",
        "IPY_MODEL_fa29579b267642fbb952980bc5a10444",
        "IPY_MODEL_490ddad4cefd4ce2999060da159f7c98"
       ],
       "layout": "IPY_MODEL_553ec2de00a44cb482180358f5e6b058"
      }
     },
     "b49943f253834126b28bce055dc2ebec": {
      "model_module": "@jupyter-widgets/controls",
      "model_module_version": "2.0.0",
      "model_name": "HTMLStyleModel",
      "state": {
       "description_width": "",
       "font_size": null,
       "text_color": null
      }
     },
     "b51919e5550a4a93ba38c09f61776fc9": {
      "model_module": "@jupyter-widgets/controls",
      "model_module_version": "2.0.0",
      "model_name": "ProgressStyleModel",
      "state": {
       "description_width": ""
      }
     },
     "b51e68f25191495697c63de6c2ffee08": {
      "model_module": "@jupyter-widgets/controls",
      "model_module_version": "2.0.0",
      "model_name": "HTMLModel",
      "state": {
       "layout": "IPY_MODEL_1037b4728f544928b83aa6caa3b103e3",
       "style": "IPY_MODEL_111cb5add7a24e9fa56b7244b13c469d",
       "value": " 0/1482 [00:30&lt;?, ?it/s]"
      }
     },
     "b53353e9600841f5ad11a05b41144adc": {
      "model_module": "@jupyter-widgets/controls",
      "model_module_version": "2.0.0",
      "model_name": "HTMLModel",
      "state": {
       "layout": "IPY_MODEL_7960221a858b4b7a946b06959dff7b4d",
       "style": "IPY_MODEL_4301db3fb7054e879fd8ce78d65d16fb",
       "value": " 0/8 [23:49&lt;?, ?it/s]"
      }
     },
     "b5c5410c79cd46f4b39996096826df84": {
      "model_module": "@jupyter-widgets/base",
      "model_module_version": "2.0.0",
      "model_name": "LayoutModel",
      "state": {}
     },
     "b6ca528fd07946468b5161e0a12cd7f2": {
      "model_module": "@jupyter-widgets/controls",
      "model_module_version": "2.0.0",
      "model_name": "HTMLModel",
      "state": {
       "layout": "IPY_MODEL_e53adc562dc74e8ba82f5c85c4e13e44",
       "style": "IPY_MODEL_0f68735705924668bb1bdb6bba90b991",
       "value": " 0/7 [31:43&lt;?, ?it/s]"
      }
     },
     "b836b37e98474689b64992ebf75a34be": {
      "model_module": "@jupyter-widgets/controls",
      "model_module_version": "2.0.0",
      "model_name": "HTMLModel",
      "state": {
       "layout": "IPY_MODEL_bd1a342ac92243be94cbd77d687d1172",
       "style": "IPY_MODEL_3280198542f047fa9cbb269573c5c113",
       "value": " 503/3818 [42:43&lt;60:37:04, 65.83s/it]"
      }
     },
     "b83b6c9088744ae089df944bfe8052f7": {
      "model_module": "@jupyter-widgets/controls",
      "model_module_version": "2.0.0",
      "model_name": "HTMLModel",
      "state": {
       "layout": "IPY_MODEL_eeadbea25dd3467bbec498228dc24393",
       "style": "IPY_MODEL_76e543bc35f34e5088416490d49719a4",
       "value": "YEARS:   0%"
      }
     },
     "b846eec2dd374c25bdd7e3a892634f88": {
      "model_module": "@jupyter-widgets/controls",
      "model_module_version": "2.0.0",
      "model_name": "HTMLStyleModel",
      "state": {
       "description_width": "",
       "font_size": null,
       "text_color": null
      }
     },
     "b870630cb7fd4c1c83664837c2bfc364": {
      "model_module": "@jupyter-widgets/base",
      "model_module_version": "2.0.0",
      "model_name": "LayoutModel",
      "state": {}
     },
     "b8d5352c2f7c4cdda1f5eaa31013ab1d": {
      "model_module": "@jupyter-widgets/controls",
      "model_module_version": "2.0.0",
      "model_name": "HTMLModel",
      "state": {
       "layout": "IPY_MODEL_931ff1ea85664076914e7d387985a6eb",
       "style": "IPY_MODEL_7432bf45fc4b4a1d926fd664c8eaa1d9",
       "value": "Movies from 2013:  18%"
      }
     },
     "b8dad8993087494dad93d0e64c421816": {
      "model_module": "@jupyter-widgets/controls",
      "model_module_version": "2.0.0",
      "model_name": "FloatProgressModel",
      "state": {
       "bar_style": "danger",
       "layout": "IPY_MODEL_490040b3c73442f7a1c9d339a6bee0e8",
       "max": 1940,
       "style": "IPY_MODEL_9328d90698af4c6d9f8481094dfd8571",
       "value": 236
      }
     },
     "b90d07c884f74b2e93ed10b30d426da4": {
      "model_module": "@jupyter-widgets/base",
      "model_module_version": "2.0.0",
      "model_name": "LayoutModel",
      "state": {}
     },
     "b92892704e1c45dda4de6fd087544ef6": {
      "model_module": "@jupyter-widgets/controls",
      "model_module_version": "2.0.0",
      "model_name": "HTMLModel",
      "state": {
       "layout": "IPY_MODEL_6a049781d5654b7b895d6089cd55dd6c",
       "style": "IPY_MODEL_89709ca0c84a4c62a6159cd78e4c4025",
       "value": "Movies from 2012:  20%"
      }
     },
     "b9d5cdf6fc1443d290476adc59979217": {
      "model_module": "@jupyter-widgets/controls",
      "model_module_version": "2.0.0",
      "model_name": "HTMLStyleModel",
      "state": {
       "description_width": "",
       "font_size": null,
       "text_color": null
      }
     },
     "baa32f44f13b4f8da03313971f9b3b9a": {
      "model_module": "@jupyter-widgets/controls",
      "model_module_version": "2.0.0",
      "model_name": "HTMLStyleModel",
      "state": {
       "description_width": "",
       "font_size": null,
       "text_color": null
      }
     },
     "bb08067a0b414e3c8626f567bfc78ebf": {
      "model_module": "@jupyter-widgets/base",
      "model_module_version": "2.0.0",
      "model_name": "LayoutModel",
      "state": {}
     },
     "bb5e08e84c1749ad967fad263b1a43bb": {
      "model_module": "@jupyter-widgets/controls",
      "model_module_version": "2.0.0",
      "model_name": "HBoxModel",
      "state": {
       "children": [
        "IPY_MODEL_b92892704e1c45dda4de6fd087544ef6",
        "IPY_MODEL_da192a959ad148e488e07bbb5ceae188",
        "IPY_MODEL_e911b0e93c50468bafc39d164e423981"
       ],
       "layout": "IPY_MODEL_d7e5bdea6ec548388ed06893739abd17"
      }
     },
     "bbce7c373cfb4ca585506817463292f1": {
      "model_module": "@jupyter-widgets/controls",
      "model_module_version": "2.0.0",
      "model_name": "HTMLStyleModel",
      "state": {
       "description_width": "",
       "font_size": null,
       "text_color": null
      }
     },
     "bc1f4e66a55349288ce18f1e11789e42": {
      "model_module": "@jupyter-widgets/controls",
      "model_module_version": "2.0.0",
      "model_name": "ProgressStyleModel",
      "state": {
       "description_width": ""
      }
     },
     "bd1a342ac92243be94cbd77d687d1172": {
      "model_module": "@jupyter-widgets/base",
      "model_module_version": "2.0.0",
      "model_name": "LayoutModel",
      "state": {}
     },
     "bd8d719716e642fd878563ae10a32db5": {
      "model_module": "@jupyter-widgets/controls",
      "model_module_version": "2.0.0",
      "model_name": "FloatProgressModel",
      "state": {
       "bar_style": "danger",
       "layout": "IPY_MODEL_dc15b91a36d94214b4e7fc790b57ff27",
       "max": 2421,
       "style": "IPY_MODEL_5ce08ed576ff43d9af55befd6c70033e",
       "value": 837
      }
     },
     "bdd19304481942ad972d533ebef0b2fd": {
      "model_module": "@jupyter-widgets/controls",
      "model_module_version": "2.0.0",
      "model_name": "HTMLModel",
      "state": {
       "layout": "IPY_MODEL_62a8103cc2f947f6a2afd9f739f0152b",
       "style": "IPY_MODEL_7c2cd7efc64c4ea99a76a8d00b425100",
       "value": "Movies from 2012:  48%"
      }
     },
     "be07282f2aec4e0fb7564e142bc6a4a8": {
      "model_module": "@jupyter-widgets/base",
      "model_module_version": "2.0.0",
      "model_name": "LayoutModel",
      "state": {}
     },
     "c0170a1fa85a485fbf77efbb1b0853fe": {
      "model_module": "@jupyter-widgets/controls",
      "model_module_version": "2.0.0",
      "model_name": "FloatProgressModel",
      "state": {
       "bar_style": "danger",
       "layout": "IPY_MODEL_14df4664d5004a62af639221791c6d61",
       "max": 8,
       "style": "IPY_MODEL_b51919e5550a4a93ba38c09f61776fc9"
      }
     },
     "c133dada4d624d23b6d810b387bc43e1": {
      "model_module": "@jupyter-widgets/controls",
      "model_module_version": "2.0.0",
      "model_name": "HTMLModel",
      "state": {
       "layout": "IPY_MODEL_b5c5410c79cd46f4b39996096826df84",
       "style": "IPY_MODEL_78c2292758074825856eef51d33da5ef",
       "value": " 0/8 [10:47&lt;?, ?it/s]"
      }
     },
     "c171f4d5094c4c60b01a12f5d9c91fa6": {
      "model_module": "@jupyter-widgets/controls",
      "model_module_version": "2.0.0",
      "model_name": "FloatProgressModel",
      "state": {
       "bar_style": "success",
       "layout": "IPY_MODEL_a261b1d9dc8844b9be4979f9bbe3ec58",
       "max": 1673,
       "style": "IPY_MODEL_759b3eea0cb94a9b8b099f544727101c",
       "value": 1673
      }
     },
     "c1a03848cb504a7ea40dd515e52083d4": {
      "model_module": "@jupyter-widgets/controls",
      "model_module_version": "2.0.0",
      "model_name": "HTMLModel",
      "state": {
       "layout": "IPY_MODEL_953caaec9ba3423bae7c5083531cd20c",
       "style": "IPY_MODEL_a1ceb4368320435aa4e71a9da058ad05",
       "value": "YEARS:   0%"
      }
     },
     "c1b0bc0fe226415cb2ea7a034cda914f": {
      "model_module": "@jupyter-widgets/base",
      "model_module_version": "2.0.0",
      "model_name": "LayoutModel",
      "state": {}
     },
     "c3704a90978f400b8fed2339264ec4f0": {
      "model_module": "@jupyter-widgets/controls",
      "model_module_version": "2.0.0",
      "model_name": "HTMLStyleModel",
      "state": {
       "description_width": "",
       "font_size": null,
       "text_color": null
      }
     },
     "c3d7a463388a4a5d84ca22d8fe487be0": {
      "model_module": "@jupyter-widgets/controls",
      "model_module_version": "2.0.0",
      "model_name": "HBoxModel",
      "state": {
       "children": [
        "IPY_MODEL_b83b6c9088744ae089df944bfe8052f7",
        "IPY_MODEL_c0170a1fa85a485fbf77efbb1b0853fe",
        "IPY_MODEL_d7b81cf6f1b646e2a59939ede2ccff0b"
       ],
       "layout": "IPY_MODEL_55fbb54eede7422e8d2abf9418dfaa8b"
      }
     },
     "c3fa8c53f4b14d43ba7bd7913f8f8ee1": {
      "model_module": "@jupyter-widgets/controls",
      "model_module_version": "2.0.0",
      "model_name": "FloatProgressModel",
      "state": {
       "bar_style": "danger",
       "layout": "IPY_MODEL_cd358ae4b6e249a29b1ea8ed775d2864",
       "max": 4367,
       "style": "IPY_MODEL_b3018035ace84659ae691f2b13611b3d",
       "value": 725
      }
     },
     "c4183a897c6740fc9e794a1ecac83c76": {
      "model_module": "@jupyter-widgets/base",
      "model_module_version": "2.0.0",
      "model_name": "LayoutModel",
      "state": {}
     },
     "c43a62b046b34803a6ce5730dc8d59db": {
      "model_module": "@jupyter-widgets/base",
      "model_module_version": "2.0.0",
      "model_name": "LayoutModel",
      "state": {}
     },
     "c46a149220514b16b9befaeccc631f9c": {
      "model_module": "@jupyter-widgets/controls",
      "model_module_version": "2.0.0",
      "model_name": "HTMLStyleModel",
      "state": {
       "description_width": "",
       "font_size": null,
       "text_color": null
      }
     },
     "c49855b564df445dbdbd417447500823": {
      "model_module": "@jupyter-widgets/base",
      "model_module_version": "2.0.0",
      "model_name": "LayoutModel",
      "state": {}
     },
     "c4b0b135253545038b30ba584f34681a": {
      "model_module": "@jupyter-widgets/controls",
      "model_module_version": "2.0.0",
      "model_name": "HTMLStyleModel",
      "state": {
       "description_width": "",
       "font_size": null,
       "text_color": null
      }
     },
     "c4f8023c2ff24823be6214f5f35c28b3": {
      "model_module": "@jupyter-widgets/controls",
      "model_module_version": "2.0.0",
      "model_name": "HTMLModel",
      "state": {
       "layout": "IPY_MODEL_033c09a87aaa48d188383da943214305",
       "style": "IPY_MODEL_5a3a87c4ec2e453a97460ff2aafcf56a",
       "value": "Movies from 2013:  11%"
      }
     },
     "c5ae7fcf5bf744f6ba840b28a7fd886d": {
      "model_module": "@jupyter-widgets/base",
      "model_module_version": "2.0.0",
      "model_name": "LayoutModel",
      "state": {}
     },
     "c67d3e4d93af4a34bf6c302126fcdcc9": {
      "model_module": "@jupyter-widgets/base",
      "model_module_version": "2.0.0",
      "model_name": "LayoutModel",
      "state": {}
     },
     "c6b3705c1b484df0b56da5094caf42df": {
      "model_module": "@jupyter-widgets/base",
      "model_module_version": "2.0.0",
      "model_name": "LayoutModel",
      "state": {}
     },
     "c6bbfcbaa2bd40278025675775d43d98": {
      "model_module": "@jupyter-widgets/controls",
      "model_module_version": "2.0.0",
      "model_name": "HTMLModel",
      "state": {
       "layout": "IPY_MODEL_a1e1ee64a6f04de8aefe2fdf0a5c1a51",
       "style": "IPY_MODEL_c8a643ea04e04d51bdb7089e995d05ed",
       "value": " 0/11 [13:24&lt;?, ?it/s]"
      }
     },
     "c6c1c7e0c6004c4c8558dfd504a544f6": {
      "model_module": "@jupyter-widgets/controls",
      "model_module_version": "2.0.0",
      "model_name": "ProgressStyleModel",
      "state": {
       "description_width": ""
      }
     },
     "c75c86b07d9f46b1ba067db7905811ac": {
      "model_module": "@jupyter-widgets/controls",
      "model_module_version": "2.0.0",
      "model_name": "FloatProgressModel",
      "state": {
       "bar_style": "danger",
       "layout": "IPY_MODEL_0e336608913e46078e4b43921b4550ec",
       "max": 7,
       "style": "IPY_MODEL_216dc9e90c564eef9e98e7225cfabb52"
      }
     },
     "c7f937d2f87b4f1baf6a9a1418e6557c": {
      "model_module": "@jupyter-widgets/base",
      "model_module_version": "2.0.0",
      "model_name": "LayoutModel",
      "state": {}
     },
     "c84ef489aa4640be89e3231ec7ff555c": {
      "model_module": "@jupyter-widgets/controls",
      "model_module_version": "2.0.0",
      "model_name": "HTMLStyleModel",
      "state": {
       "description_width": "",
       "font_size": null,
       "text_color": null
      }
     },
     "c8531e70f0324164bfcaf073e2d0e08f": {
      "model_module": "@jupyter-widgets/controls",
      "model_module_version": "2.0.0",
      "model_name": "HTMLModel",
      "state": {
       "layout": "IPY_MODEL_856f47746c6649d29100fa773b08fbc2",
       "style": "IPY_MODEL_2e357ffb87e249739ccba4dcf0c38904",
       "value": " 0/7 [42:43&lt;?, ?it/s]"
      }
     },
     "c8a643ea04e04d51bdb7089e995d05ed": {
      "model_module": "@jupyter-widgets/controls",
      "model_module_version": "2.0.0",
      "model_name": "HTMLStyleModel",
      "state": {
       "description_width": "",
       "font_size": null,
       "text_color": null
      }
     },
     "c8d8523b02bb45c6880ad69afe1b0bfc": {
      "model_module": "@jupyter-widgets/controls",
      "model_module_version": "2.0.0",
      "model_name": "ProgressStyleModel",
      "state": {
       "description_width": ""
      }
     },
     "c9c293a7941b4b70bebfb98152f884fc": {
      "model_module": "@jupyter-widgets/base",
      "model_module_version": "2.0.0",
      "model_name": "LayoutModel",
      "state": {}
     },
     "cbf6153e23374d8eaa185a0b4dd45284": {
      "model_module": "@jupyter-widgets/base",
      "model_module_version": "2.0.0",
      "model_name": "LayoutModel",
      "state": {}
     },
     "cc6d89c2c6be4efd93cbb39ad4a0b6cc": {
      "model_module": "@jupyter-widgets/controls",
      "model_module_version": "2.0.0",
      "model_name": "HBoxModel",
      "state": {
       "children": [
        "IPY_MODEL_f6f0ba75fb12497eae2b405284e2f470",
        "IPY_MODEL_93666fa6aedc49118c1313fe7eddf5a6",
        "IPY_MODEL_3a17adfa8086452687f3c76bbe97900e"
       ],
       "layout": "IPY_MODEL_4c115c3622184e1d9a4aa1116d8d532c"
      }
     },
     "cc843a7256334066a532c8824acf6ec6": {
      "model_module": "@jupyter-widgets/controls",
      "model_module_version": "2.0.0",
      "model_name": "ProgressStyleModel",
      "state": {
       "description_width": ""
      }
     },
     "cd19c0ab86924e618edab88ce119e70e": {
      "model_module": "@jupyter-widgets/base",
      "model_module_version": "2.0.0",
      "model_name": "LayoutModel",
      "state": {}
     },
     "cd1a874a3e6f479689e92c5c69127972": {
      "model_module": "@jupyter-widgets/controls",
      "model_module_version": "2.0.0",
      "model_name": "FloatProgressModel",
      "state": {
       "bar_style": "danger",
       "layout": "IPY_MODEL_bb08067a0b414e3c8626f567bfc78ebf",
       "max": 8,
       "style": "IPY_MODEL_6c92ff971dd44e68889458b6abc0b656"
      }
     },
     "cd222498d6714e9683453a46d5bd3727": {
      "model_module": "@jupyter-widgets/controls",
      "model_module_version": "2.0.0",
      "model_name": "ProgressStyleModel",
      "state": {
       "description_width": ""
      }
     },
     "cd358ae4b6e249a29b1ea8ed775d2864": {
      "model_module": "@jupyter-widgets/base",
      "model_module_version": "2.0.0",
      "model_name": "LayoutModel",
      "state": {}
     },
     "cd3982721c514dc7aa51c69221275419": {
      "model_module": "@jupyter-widgets/base",
      "model_module_version": "2.0.0",
      "model_name": "LayoutModel",
      "state": {}
     },
     "cd8cbe37bfca4333a82cc6e458370494": {
      "model_module": "@jupyter-widgets/controls",
      "model_module_version": "2.0.0",
      "model_name": "HTMLStyleModel",
      "state": {
       "description_width": "",
       "font_size": null,
       "text_color": null
      }
     },
     "cdaf46bb228344afa2d4310569a8800b": {
      "model_module": "@jupyter-widgets/base",
      "model_module_version": "2.0.0",
      "model_name": "LayoutModel",
      "state": {}
     },
     "ce325b1489b347969cf0ebad1784991f": {
      "model_module": "@jupyter-widgets/controls",
      "model_module_version": "2.0.0",
      "model_name": "HTMLStyleModel",
      "state": {
       "description_width": "",
       "font_size": null,
       "text_color": null
      }
     },
     "ceedb22ab99b44698775e3dce9387c4d": {
      "model_module": "@jupyter-widgets/controls",
      "model_module_version": "2.0.0",
      "model_name": "HTMLStyleModel",
      "state": {
       "description_width": "",
       "font_size": null,
       "text_color": null
      }
     },
     "cfc23792be5b4362b12b698ae53bf40d": {
      "model_module": "@jupyter-widgets/controls",
      "model_module_version": "2.0.0",
      "model_name": "ProgressStyleModel",
      "state": {
       "description_width": ""
      }
     },
     "cfc5f4bb1e79454ca6ac54765066c6e9": {
      "model_module": "@jupyter-widgets/base",
      "model_module_version": "2.0.0",
      "model_name": "LayoutModel",
      "state": {}
     },
     "cfc8e5e8a3494c619a3870e6fef3d062": {
      "model_module": "@jupyter-widgets/controls",
      "model_module_version": "2.0.0",
      "model_name": "HBoxModel",
      "state": {
       "children": [
        "IPY_MODEL_1bb70c060b074c5e8204162bd92be3c3",
        "IPY_MODEL_e9171726e70b4eb9bc6bcab13a651655",
        "IPY_MODEL_d8de6a7b0e8d4954bc4e9d092964b325"
       ],
       "layout": "IPY_MODEL_66c5ef5233fd42c3b46ef24dc769ab5c"
      }
     },
     "d0454fb512254e2cbacd84ac3ef02cfe": {
      "model_module": "@jupyter-widgets/base",
      "model_module_version": "2.0.0",
      "model_name": "LayoutModel",
      "state": {}
     },
     "d0ca523092524ae6bdd875cbaeaedf57": {
      "model_module": "@jupyter-widgets/base",
      "model_module_version": "2.0.0",
      "model_name": "LayoutModel",
      "state": {}
     },
     "d134022802974b3ca32b05e0487ed3e4": {
      "model_module": "@jupyter-widgets/base",
      "model_module_version": "2.0.0",
      "model_name": "LayoutModel",
      "state": {}
     },
     "d1382be1ad0f46a18f2d93315c4a3873": {
      "model_module": "@jupyter-widgets/controls",
      "model_module_version": "2.0.0",
      "model_name": "HTMLStyleModel",
      "state": {
       "description_width": "",
       "font_size": null,
       "text_color": null
      }
     },
     "d13b2cab3f3d41d2b8be97486745521a": {
      "model_module": "@jupyter-widgets/controls",
      "model_module_version": "2.0.0",
      "model_name": "HBoxModel",
      "state": {
       "children": [
        "IPY_MODEL_39b49497d362485f92489d472602c2e7",
        "IPY_MODEL_c3fa8c53f4b14d43ba7bd7913f8f8ee1",
        "IPY_MODEL_28746bb2a19c43aab46035ac42ddb7bb"
       ],
       "layout": "IPY_MODEL_e8803e2ed03f4ffcab5af0553f75f480"
      }
     },
     "d25d7ffe33d8473f8003bb0f202f772e": {
      "model_module": "@jupyter-widgets/controls",
      "model_module_version": "2.0.0",
      "model_name": "ProgressStyleModel",
      "state": {
       "description_width": ""
      }
     },
     "d2a062568094474abbf1a3bc9c439672": {
      "model_module": "@jupyter-widgets/base",
      "model_module_version": "2.0.0",
      "model_name": "LayoutModel",
      "state": {}
     },
     "d2c8b0b274fa4ce58fc80c14250c05d0": {
      "model_module": "@jupyter-widgets/base",
      "model_module_version": "2.0.0",
      "model_name": "LayoutModel",
      "state": {}
     },
     "d32cf12ba8a4498ba72c90d03a490b95": {
      "model_module": "@jupyter-widgets/controls",
      "model_module_version": "2.0.0",
      "model_name": "HBoxModel",
      "state": {
       "children": [
        "IPY_MODEL_f48ea857a3d5426a995864c05855f823",
        "IPY_MODEL_78bf5676f16c4297880480752964f3a5",
        "IPY_MODEL_d66d43db25a145d5a31e9102d59069cd"
       ],
       "layout": "IPY_MODEL_56aec5a4d0a345f1b209c44f84f65af4"
      }
     },
     "d33ebf5514ed4a9b8e918908ff9ed24f": {
      "model_module": "@jupyter-widgets/controls",
      "model_module_version": "2.0.0",
      "model_name": "HBoxModel",
      "state": {
       "children": [
        "IPY_MODEL_4134999ce55945fbb393188b92763cdb",
        "IPY_MODEL_d441eaf2a22e4bb5aefba39258d906f9",
        "IPY_MODEL_18d03d4bb9c34d1797c39d49af8ac037"
       ],
       "layout": "IPY_MODEL_66947590fdd447898122f382bbd3ebe3"
      }
     },
     "d3623c14d2124f3a91a0012cc7e983e8": {
      "model_module": "@jupyter-widgets/controls",
      "model_module_version": "2.0.0",
      "model_name": "FloatProgressModel",
      "state": {
       "bar_style": "danger",
       "layout": "IPY_MODEL_de733405985e4909a1c8bc23dd014575",
       "max": 1796,
       "style": "IPY_MODEL_29ecdcd3d8b1469aa4608a361e2e3e9a",
       "value": 867
      }
     },
     "d365ec86c7954d9cb1fe30172b2bf1c8": {
      "model_module": "@jupyter-widgets/base",
      "model_module_version": "2.0.0",
      "model_name": "LayoutModel",
      "state": {}
     },
     "d3e3a16e6feb454b991f421ebf33e7b9": {
      "model_module": "@jupyter-widgets/controls",
      "model_module_version": "2.0.0",
      "model_name": "HTMLStyleModel",
      "state": {
       "description_width": "",
       "font_size": null,
       "text_color": null
      }
     },
     "d441eaf2a22e4bb5aefba39258d906f9": {
      "model_module": "@jupyter-widgets/controls",
      "model_module_version": "2.0.0",
      "model_name": "FloatProgressModel",
      "state": {
       "layout": "IPY_MODEL_d0454fb512254e2cbacd84ac3ef02cfe",
       "max": 7,
       "style": "IPY_MODEL_445a28d6210d45bfbfd59678a14683af"
      }
     },
     "d4588617c993423a92fff31069fc470f": {
      "model_module": "@jupyter-widgets/controls",
      "model_module_version": "2.0.0",
      "model_name": "ProgressStyleModel",
      "state": {
       "description_width": ""
      }
     },
     "d53c00bab743427782a3f96719b6fa67": {
      "model_module": "@jupyter-widgets/base",
      "model_module_version": "2.0.0",
      "model_name": "LayoutModel",
      "state": {}
     },
     "d57c87f4dbda459cbf3a3a851c300a99": {
      "model_module": "@jupyter-widgets/controls",
      "model_module_version": "2.0.0",
      "model_name": "HTMLStyleModel",
      "state": {
       "description_width": "",
       "font_size": null,
       "text_color": null
      }
     },
     "d58db399d7904181929b2b15fc138389": {
      "model_module": "@jupyter-widgets/controls",
      "model_module_version": "2.0.0",
      "model_name": "HBoxModel",
      "state": {
       "children": [
        "IPY_MODEL_a377016bdb494eac9def54bcc0a78f90",
        "IPY_MODEL_5f7fef1b136d478cb6fea29e505c457e",
        "IPY_MODEL_a7cd9929a9484a6fa0ebd4db66a8ee71"
       ],
       "layout": "IPY_MODEL_f44eb6e539eb40679d92851e1ad9ea18"
      }
     },
     "d5ba2f50bcf44ce5a26ad2cb1c8c341a": {
      "model_module": "@jupyter-widgets/base",
      "model_module_version": "2.0.0",
      "model_name": "LayoutModel",
      "state": {}
     },
     "d5c7206a223449c2a6ed755a3a8d8f0e": {
      "model_module": "@jupyter-widgets/controls",
      "model_module_version": "2.0.0",
      "model_name": "HBoxModel",
      "state": {
       "children": [
        "IPY_MODEL_b062294dcba54c7ebb54c8560a3845d7",
        "IPY_MODEL_53e88a8fe422454c8812eb7ec06add94",
        "IPY_MODEL_5abba732bc284688aeec650ade9b5e8a"
       ],
       "layout": "IPY_MODEL_528a77a891594c798682ae6e7d01c8cc"
      }
     },
     "d5cdc91bb75e41e4bf26780cb1a255af": {
      "model_module": "@jupyter-widgets/controls",
      "model_module_version": "2.0.0",
      "model_name": "FloatProgressModel",
      "state": {
       "layout": "IPY_MODEL_60fc3e231cb04eeab0737a5d1535edec",
       "max": 3534,
       "style": "IPY_MODEL_5f11704f560143c9966311e9ab7364f1",
       "value": 792
      }
     },
     "d66d43db25a145d5a31e9102d59069cd": {
      "model_module": "@jupyter-widgets/controls",
      "model_module_version": "2.0.0",
      "model_name": "HTMLModel",
      "state": {
       "layout": "IPY_MODEL_c6b3705c1b484df0b56da5094caf42df",
       "style": "IPY_MODEL_19cff8d362fc45d1aac83d366a85a017",
       "value": " 5/3534 [00:52&lt;34:56,  1.68it/s]"
      }
     },
     "d67254ed9d864bc1b1f5e32b2b1b2ace": {
      "model_module": "@jupyter-widgets/controls",
      "model_module_version": "2.0.0",
      "model_name": "HBoxModel",
      "state": {
       "children": [
        "IPY_MODEL_6f0b054f1e32461b8013ef7855a1bbb0",
        "IPY_MODEL_1fe1a0d8c89340a08c5bf885834dfc4c",
        "IPY_MODEL_b51e68f25191495697c63de6c2ffee08"
       ],
       "layout": "IPY_MODEL_55fdab83ff7f412eac96e2fa27762c99"
      }
     },
     "d70a80228f974f2886c74f3bf2c8be42": {
      "model_module": "@jupyter-widgets/base",
      "model_module_version": "2.0.0",
      "model_name": "LayoutModel",
      "state": {}
     },
     "d748c0a471364ba3b05a58b1e375544e": {
      "model_module": "@jupyter-widgets/controls",
      "model_module_version": "2.0.0",
      "model_name": "ProgressStyleModel",
      "state": {
       "description_width": ""
      }
     },
     "d7b81cf6f1b646e2a59939ede2ccff0b": {
      "model_module": "@jupyter-widgets/controls",
      "model_module_version": "2.0.0",
      "model_name": "HTMLModel",
      "state": {
       "layout": "IPY_MODEL_b870630cb7fd4c1c83664837c2bfc364",
       "style": "IPY_MODEL_a7052608890344ca8a1592f6d2fe6253",
       "value": " 0/8 [00:30&lt;?, ?it/s]"
      }
     },
     "d7e5bdea6ec548388ed06893739abd17": {
      "model_module": "@jupyter-widgets/base",
      "model_module_version": "2.0.0",
      "model_name": "LayoutModel",
      "state": {}
     },
     "d7fc9d307d6c4ca5a182e3caeff5d009": {
      "model_module": "@jupyter-widgets/controls",
      "model_module_version": "2.0.0",
      "model_name": "ProgressStyleModel",
      "state": {
       "description_width": ""
      }
     },
     "d8cad4df03ad40dc95153bab2617fa37": {
      "model_module": "@jupyter-widgets/controls",
      "model_module_version": "2.0.0",
      "model_name": "HTMLStyleModel",
      "state": {
       "description_width": "",
       "font_size": null,
       "text_color": null
      }
     },
     "d8de6a7b0e8d4954bc4e9d092964b325": {
      "model_module": "@jupyter-widgets/controls",
      "model_module_version": "2.0.0",
      "model_name": "HTMLModel",
      "state": {
       "layout": "IPY_MODEL_6f217e89fb934070b197f628ad6e3f38",
       "style": "IPY_MODEL_f8fe624ab04c4bab99ecb7757cd010ee",
       "value": " 1443/3215 [25:05&lt;30:43,  1.04s/it]"
      }
     },
     "d8e7b9153737488d89d218eb191064ad": {
      "model_module": "@jupyter-widgets/base",
      "model_module_version": "2.0.0",
      "model_name": "LayoutModel",
      "state": {}
     },
     "d92d724d837d4e8fa9111a7470fb8702": {
      "model_module": "@jupyter-widgets/controls",
      "model_module_version": "2.0.0",
      "model_name": "ProgressStyleModel",
      "state": {
       "description_width": ""
      }
     },
     "d99e5afb4c7846b78a1a775aff4857cf": {
      "model_module": "@jupyter-widgets/controls",
      "model_module_version": "2.0.0",
      "model_name": "ProgressStyleModel",
      "state": {
       "description_width": ""
      }
     },
     "da0aa0d67251496b9547030ca6c1e568": {
      "model_module": "@jupyter-widgets/controls",
      "model_module_version": "2.0.0",
      "model_name": "HTMLModel",
      "state": {
       "layout": "IPY_MODEL_e556bde7ad4a416cb60554f1fcf879dc",
       "style": "IPY_MODEL_cd8cbe37bfca4333a82cc6e458370494",
       "value": "YEARS:   0%"
      }
     },
     "da192a959ad148e488e07bbb5ceae188": {
      "model_module": "@jupyter-widgets/controls",
      "model_module_version": "2.0.0",
      "model_name": "FloatProgressModel",
      "state": {
       "bar_style": "danger",
       "layout": "IPY_MODEL_4159c7febb0f4c5fa61b4b8de4cb162b",
       "max": 1673,
       "style": "IPY_MODEL_d92d724d837d4e8fa9111a7470fb8702",
       "value": 335
      }
     },
     "da6412afce8145b59948b14a35043ce6": {
      "model_module": "@jupyter-widgets/base",
      "model_module_version": "2.0.0",
      "model_name": "LayoutModel",
      "state": {}
     },
     "daea1fd4358b4bbabdcbc9a553714d7b": {
      "model_module": "@jupyter-widgets/base",
      "model_module_version": "2.0.0",
      "model_name": "LayoutModel",
      "state": {}
     },
     "db2039225f7c4cad86a440c15f58f3cf": {
      "model_module": "@jupyter-widgets/controls",
      "model_module_version": "2.0.0",
      "model_name": "HTMLStyleModel",
      "state": {
       "description_width": "",
       "font_size": null,
       "text_color": null
      }
     },
     "db53292901094d34b598b18ff031c508": {
      "model_module": "@jupyter-widgets/controls",
      "model_module_version": "2.0.0",
      "model_name": "HTMLModel",
      "state": {
       "layout": "IPY_MODEL_6c3fa5e8f512486cb2e17781cfbb6867",
       "style": "IPY_MODEL_baa32f44f13b4f8da03313971f9b3b9a",
       "value": " 1127/2249 [19:03&lt;10:51,  1.72it/s]"
      }
     },
     "db7cf35013c649b1b56d96f3f0a5260c": {
      "model_module": "@jupyter-widgets/base",
      "model_module_version": "2.0.0",
      "model_name": "LayoutModel",
      "state": {}
     },
     "db9ada1717fb45dd9f343847293af683": {
      "model_module": "@jupyter-widgets/base",
      "model_module_version": "2.0.0",
      "model_name": "LayoutModel",
      "state": {}
     },
     "dc15b91a36d94214b4e7fc790b57ff27": {
      "model_module": "@jupyter-widgets/base",
      "model_module_version": "2.0.0",
      "model_name": "LayoutModel",
      "state": {}
     },
     "dc55937639d2420982f0e85a187fa6af": {
      "model_module": "@jupyter-widgets/base",
      "model_module_version": "2.0.0",
      "model_name": "LayoutModel",
      "state": {}
     },
     "dcdb2129d42e4bc7bc92dd93efb23188": {
      "model_module": "@jupyter-widgets/controls",
      "model_module_version": "2.0.0",
      "model_name": "HTMLModel",
      "state": {
       "layout": "IPY_MODEL_9e06c2cdcb4648708329384c5eebcab3",
       "style": "IPY_MODEL_a66a147e5280462caf39d98d6503ec9e",
       "value": " 589/1482 [09:57&lt;09:18,  1.60it/s]"
      }
     },
     "dcdd83d9c76f48e2b82c2b97233c3c09": {
      "model_module": "@jupyter-widgets/base",
      "model_module_version": "2.0.0",
      "model_name": "LayoutModel",
      "state": {}
     },
     "dcef079e48d94576981c00dbe3fa99bd": {
      "model_module": "@jupyter-widgets/controls",
      "model_module_version": "2.0.0",
      "model_name": "ProgressStyleModel",
      "state": {
       "description_width": ""
      }
     },
     "de268fa412c44acf90d248b873db1e03": {
      "model_module": "@jupyter-widgets/base",
      "model_module_version": "2.0.0",
      "model_name": "LayoutModel",
      "state": {}
     },
     "de33889600da4415a95383f2dc5b725d": {
      "model_module": "@jupyter-widgets/controls",
      "model_module_version": "2.0.0",
      "model_name": "HBoxModel",
      "state": {
       "children": [
        "IPY_MODEL_8e0d8326645246679dc4f38b46607d67",
        "IPY_MODEL_f52850d1e93d42508d19e12b58bb467d",
        "IPY_MODEL_ee982baf49614390b4d48bf82c68ef9a"
       ],
       "layout": "IPY_MODEL_26628a24af1c475eb41e5886195ddf16"
      }
     },
     "de733405985e4909a1c8bc23dd014575": {
      "model_module": "@jupyter-widgets/base",
      "model_module_version": "2.0.0",
      "model_name": "LayoutModel",
      "state": {}
     },
     "e09309bcacbe4181bed134ec60cda8c8": {
      "model_module": "@jupyter-widgets/base",
      "model_module_version": "2.0.0",
      "model_name": "LayoutModel",
      "state": {}
     },
     "e14cd95b69c849f58cc646543c591e38": {
      "model_module": "@jupyter-widgets/base",
      "model_module_version": "2.0.0",
      "model_name": "LayoutModel",
      "state": {}
     },
     "e1b639cf0e6c4a22940ad6c9a068581b": {
      "model_module": "@jupyter-widgets/controls",
      "model_module_version": "2.0.0",
      "model_name": "HTMLModel",
      "state": {
       "layout": "IPY_MODEL_15640b2e5b6b4482872af0dde7ac05a2",
       "style": "IPY_MODEL_599b41a9362b433dbaf3e0b7b8af92b6",
       "value": " 1948/1948 [22:47&lt;00:00,  1.14it/s]"
      }
     },
     "e1c1a0b86296410ab4e1deb89facc53d": {
      "model_module": "@jupyter-widgets/base",
      "model_module_version": "2.0.0",
      "model_name": "LayoutModel",
      "state": {}
     },
     "e247e33ff7dd47479aff08f95a43ff8b": {
      "model_module": "@jupyter-widgets/controls",
      "model_module_version": "2.0.0",
      "model_name": "HTMLStyleModel",
      "state": {
       "description_width": "",
       "font_size": null,
       "text_color": null
      }
     },
     "e28f25a94ba24d569393b498a051d635": {
      "model_module": "@jupyter-widgets/controls",
      "model_module_version": "2.0.0",
      "model_name": "HTMLModel",
      "state": {
       "layout": "IPY_MODEL_d365ec86c7954d9cb1fe30172b2bf1c8",
       "style": "IPY_MODEL_05032644ed834baeb4489d955ceab6d2",
       "value": " 0/8 [14:49&lt;?, ?it/s]"
      }
     },
     "e34cee759b87497fb3e7bf174bb4a233": {
      "model_module": "@jupyter-widgets/controls",
      "model_module_version": "2.0.0",
      "model_name": "FloatProgressModel",
      "state": {
       "bar_style": "danger",
       "layout": "IPY_MODEL_5da327c2a7de41b083f435b63f665bcd",
       "max": 8,
       "style": "IPY_MODEL_30df4130562041db9248346df1f86026"
      }
     },
     "e3f7beb232fc473090118833dbb81e6b": {
      "model_module": "@jupyter-widgets/controls",
      "model_module_version": "2.0.0",
      "model_name": "HTMLStyleModel",
      "state": {
       "description_width": "",
       "font_size": null,
       "text_color": null
      }
     },
     "e444680c11514a3db70c671837cd566e": {
      "model_module": "@jupyter-widgets/controls",
      "model_module_version": "2.0.0",
      "model_name": "FloatProgressModel",
      "state": {
       "bar_style": "danger",
       "layout": "IPY_MODEL_058ea8eef5dc4311bf9d2f91bc78baf0",
       "max": 2249,
       "style": "IPY_MODEL_5301cfd23eda42b5b583308f81f3a56a",
       "value": 1127
      }
     },
     "e50f03912ee5427cbf5881e0643261b3": {
      "model_module": "@jupyter-widgets/base",
      "model_module_version": "2.0.0",
      "model_name": "LayoutModel",
      "state": {}
     },
     "e53adc562dc74e8ba82f5c85c4e13e44": {
      "model_module": "@jupyter-widgets/base",
      "model_module_version": "2.0.0",
      "model_name": "LayoutModel",
      "state": {}
     },
     "e556bde7ad4a416cb60554f1fcf879dc": {
      "model_module": "@jupyter-widgets/base",
      "model_module_version": "2.0.0",
      "model_name": "LayoutModel",
      "state": {}
     },
     "e5571308227b495db019c2ca1918047e": {
      "model_module": "@jupyter-widgets/controls",
      "model_module_version": "2.0.0",
      "model_name": "HTMLModel",
      "state": {
       "layout": "IPY_MODEL_2b9b5e1476a34127b26ab909ed29fa80",
       "style": "IPY_MODEL_c4b0b135253545038b30ba584f34681a",
       "value": "Movies from 2013:   7%"
      }
     },
     "e7ae489225be44549d1ac81373d4715b": {
      "model_module": "@jupyter-widgets/controls",
      "model_module_version": "2.0.0",
      "model_name": "ProgressStyleModel",
      "state": {
       "description_width": ""
      }
     },
     "e83f949bd1ef4536bc0e33778806b686": {
      "model_module": "@jupyter-widgets/controls",
      "model_module_version": "2.0.0",
      "model_name": "FloatProgressModel",
      "state": {
       "bar_style": "danger",
       "layout": "IPY_MODEL_2e7cbd404fc14043a0fb17156bc56d61",
       "max": 3117,
       "style": "IPY_MODEL_dcef079e48d94576981c00dbe3fa99bd",
       "value": 1715
      }
     },
     "e8803e2ed03f4ffcab5af0553f75f480": {
      "model_module": "@jupyter-widgets/base",
      "model_module_version": "2.0.0",
      "model_name": "LayoutModel",
      "state": {}
     },
     "e911b0e93c50468bafc39d164e423981": {
      "model_module": "@jupyter-widgets/controls",
      "model_module_version": "2.0.0",
      "model_name": "HTMLModel",
      "state": {
       "layout": "IPY_MODEL_12465cabdb9c4e68ac05c6901b08059f",
       "style": "IPY_MODEL_0cd4425571a0417e97ea1899cfb20268",
       "value": " 335/1673 [04:08&lt;09:09,  2.44it/s]"
      }
     },
     "e9171726e70b4eb9bc6bcab13a651655": {
      "model_module": "@jupyter-widgets/controls",
      "model_module_version": "2.0.0",
      "model_name": "FloatProgressModel",
      "state": {
       "bar_style": "danger",
       "layout": "IPY_MODEL_cfc5f4bb1e79454ca6ac54765066c6e9",
       "max": 3215,
       "style": "IPY_MODEL_28c123798e324b09bc8a47f4a9ae96e4",
       "value": 1443
      }
     },
     "e9320cad47cb48d4b18dfd4e0c920cde": {
      "model_module": "@jupyter-widgets/controls",
      "model_module_version": "2.0.0",
      "model_name": "HTMLStyleModel",
      "state": {
       "description_width": "",
       "font_size": null,
       "text_color": null
      }
     },
     "e9d9d8c0555249be9ca94967870aec66": {
      "model_module": "@jupyter-widgets/controls",
      "model_module_version": "2.0.0",
      "model_name": "HTMLModel",
      "state": {
       "layout": "IPY_MODEL_f68e4e85f7a34c1db29ebd71dd33c465",
       "style": "IPY_MODEL_d3e3a16e6feb454b991f421ebf33e7b9",
       "value": " 0/7 [15:04&lt;?, ?it/s]"
      }
     },
     "eaba442a683c46dcaf4c15971e00d908": {
      "model_module": "@jupyter-widgets/controls",
      "model_module_version": "2.0.0",
      "model_name": "FloatProgressModel",
      "state": {
       "bar_style": "success",
       "layout": "IPY_MODEL_99cdebd1dfbb472cb120f54dc6792a83",
       "max": 1948,
       "style": "IPY_MODEL_2368da008603413ab3749138d60b1c31",
       "value": 1948
      }
     },
     "eaeaad4463d84a318c329bb221e10b2b": {
      "model_module": "@jupyter-widgets/controls",
      "model_module_version": "2.0.0",
      "model_name": "FloatProgressModel",
      "state": {
       "bar_style": "danger",
       "layout": "IPY_MODEL_6830b2cd6579476ebb1a8b7ba5efcd46",
       "max": 4907,
       "style": "IPY_MODEL_bc1f4e66a55349288ce18f1e11789e42",
       "value": 462
      }
     },
     "eb4d04682a044bbe970006784872171c": {
      "model_module": "@jupyter-widgets/controls",
      "model_module_version": "2.0.0",
      "model_name": "FloatProgressModel",
      "state": {
       "bar_style": "danger",
       "layout": "IPY_MODEL_7a646ef63ee042f3bb7fd3533bfd864a",
       "max": 8,
       "style": "IPY_MODEL_c6c1c7e0c6004c4c8558dfd504a544f6"
      }
     },
     "eb7c57db1a214822af6f18e231fba55c": {
      "model_module": "@jupyter-widgets/base",
      "model_module_version": "2.0.0",
      "model_name": "LayoutModel",
      "state": {}
     },
     "ec6d82e752a041949d9d1766672b7e95": {
      "model_module": "@jupyter-widgets/controls",
      "model_module_version": "2.0.0",
      "model_name": "HTMLModel",
      "state": {
       "layout": "IPY_MODEL_076b2ed0ca1743e580b89ba9a5daf3cc",
       "style": "IPY_MODEL_6ddd101d5d144194a4464fb93378d909",
       "value": "Movies from 2013:  12%"
      }
     },
     "ec6f72a2a6e848a399aa22d2c338779d": {
      "model_module": "@jupyter-widgets/controls",
      "model_module_version": "2.0.0",
      "model_name": "ProgressStyleModel",
      "state": {
       "description_width": ""
      }
     },
     "ec90dd612a084c9e84a47c1e5641911d": {
      "model_module": "@jupyter-widgets/base",
      "model_module_version": "2.0.0",
      "model_name": "LayoutModel",
      "state": {}
     },
     "ec9f1c95acad4502a285aaeb07810218": {
      "model_module": "@jupyter-widgets/base",
      "model_module_version": "2.0.0",
      "model_name": "LayoutModel",
      "state": {}
     },
     "edb818f098d34d188a0869ed91ca4554": {
      "model_module": "@jupyter-widgets/base",
      "model_module_version": "2.0.0",
      "model_name": "LayoutModel",
      "state": {}
     },
     "ee579ff1b5214fb1975675596fe5140d": {
      "model_module": "@jupyter-widgets/controls",
      "model_module_version": "2.0.0",
      "model_name": "HTMLStyleModel",
      "state": {
       "description_width": "",
       "font_size": null,
       "text_color": null
      }
     },
     "ee774af92ee744fc96a2c46d0ed4f04d": {
      "model_module": "@jupyter-widgets/base",
      "model_module_version": "2.0.0",
      "model_name": "LayoutModel",
      "state": {}
     },
     "ee982baf49614390b4d48bf82c68ef9a": {
      "model_module": "@jupyter-widgets/controls",
      "model_module_version": "2.0.0",
      "model_name": "HTMLModel",
      "state": {
       "layout": "IPY_MODEL_c5ae7fcf5bf744f6ba840b28a7fd886d",
       "style": "IPY_MODEL_96510579075e464eb8ab608cb5b87bde",
       "value": " 331/1482 [03:38&lt;09:27,  2.03it/s]"
      }
     },
     "eeadbea25dd3467bbec498228dc24393": {
      "model_module": "@jupyter-widgets/base",
      "model_module_version": "2.0.0",
      "model_name": "LayoutModel",
      "state": {}
     },
     "eedb4a2db010480ab42c176c0e938e5f": {
      "model_module": "@jupyter-widgets/controls",
      "model_module_version": "2.0.0",
      "model_name": "HTMLModel",
      "state": {
       "layout": "IPY_MODEL_3f6f48d5c8d744249ca54b79191a6a00",
       "style": "IPY_MODEL_119e56f817ae426fbea0e7e1c532a227",
       "value": "Movies from 2014:   6%"
      }
     },
     "ef2d5f73fe024119a92b0dfce4605f7a": {
      "model_module": "@jupyter-widgets/controls",
      "model_module_version": "2.0.0",
      "model_name": "HTMLModel",
      "state": {
       "layout": "IPY_MODEL_e1c1a0b86296410ab4e1deb89facc53d",
       "style": "IPY_MODEL_02df22310cc244699470865b06e2cdf0",
       "value": "Movies from 2013:  10%"
      }
     },
     "eff247c0fccc49539cb00a9c32bc62f1": {
      "model_module": "@jupyter-widgets/base",
      "model_module_version": "2.0.0",
      "model_name": "LayoutModel",
      "state": {}
     },
     "f035b82ed1eb4062824cc2960479272e": {
      "model_module": "@jupyter-widgets/controls",
      "model_module_version": "2.0.0",
      "model_name": "FloatProgressModel",
      "state": {
       "bar_style": "danger",
       "layout": "IPY_MODEL_0f287c0e32844ea9a089e781348cfdfd",
       "max": 9,
       "style": "IPY_MODEL_75be0e68f343483687481615061ad5a4"
      }
     },
     "f12fb07c93d74bec936b583351aa52bc": {
      "model_module": "@jupyter-widgets/controls",
      "model_module_version": "2.0.0",
      "model_name": "HTMLStyleModel",
      "state": {
       "description_width": "",
       "font_size": null,
       "text_color": null
      }
     },
     "f1f5ed7d774d483e95396b61d2f7a87e": {
      "model_module": "@jupyter-widgets/base",
      "model_module_version": "2.0.0",
      "model_name": "LayoutModel",
      "state": {}
     },
     "f22901e4ba4e46d58caff051561839c1": {
      "model_module": "@jupyter-widgets/controls",
      "model_module_version": "2.0.0",
      "model_name": "HTMLModel",
      "state": {
       "layout": "IPY_MODEL_1c5297ede30e4b889eb27d8e06d27433",
       "style": "IPY_MODEL_50b9e9bf27b64957a0f7fad80e51ff16",
       "value": "YEARS:   0%"
      }
     },
     "f3b289b68e3e4d1199ec756cb94615c3": {
      "model_module": "@jupyter-widgets/controls",
      "model_module_version": "2.0.0",
      "model_name": "HTMLStyleModel",
      "state": {
       "description_width": "",
       "font_size": null,
       "text_color": null
      }
     },
     "f44eb6e539eb40679d92851e1ad9ea18": {
      "model_module": "@jupyter-widgets/base",
      "model_module_version": "2.0.0",
      "model_name": "LayoutModel",
      "state": {}
     },
     "f48ea857a3d5426a995864c05855f823": {
      "model_module": "@jupyter-widgets/controls",
      "model_module_version": "2.0.0",
      "model_name": "HTMLModel",
      "state": {
       "layout": "IPY_MODEL_d2c8b0b274fa4ce58fc80c14250c05d0",
       "style": "IPY_MODEL_ada6b1892e0946ebb41bd49e1d0815cf",
       "value": "Movies from 2014:   0%"
      }
     },
     "f50b3cef6169421f8f894e1111866ca5": {
      "model_module": "@jupyter-widgets/controls",
      "model_module_version": "2.0.0",
      "model_name": "HTMLModel",
      "state": {
       "layout": "IPY_MODEL_eff247c0fccc49539cb00a9c32bc62f1",
       "style": "IPY_MODEL_8a9f3f1e4620487da83f061ecdfe3a6f",
       "value": "Movies from 2011:  28%"
      }
     },
     "f52850d1e93d42508d19e12b58bb467d": {
      "model_module": "@jupyter-widgets/controls",
      "model_module_version": "2.0.0",
      "model_name": "FloatProgressModel",
      "state": {
       "bar_style": "danger",
       "layout": "IPY_MODEL_8febe276f8374de29294e43c1d70485b",
       "max": 1482,
       "style": "IPY_MODEL_fc5086a3af994fdbb15f3932715c1a1a",
       "value": 331
      }
     },
     "f52e4b812fd04f4bbedc693878d19d57": {
      "model_module": "@jupyter-widgets/controls",
      "model_module_version": "2.0.0",
      "model_name": "HTMLModel",
      "state": {
       "layout": "IPY_MODEL_a639b77b72124cc6aa79c0d0cfc1127b",
       "style": "IPY_MODEL_3effccdbee8d42f69facd622b7c7147b",
       "value": " 462/4907 [08:53&lt;1:15:15,  1.02s/it]"
      }
     },
     "f580c3690ec643ad9650926bd0f0bdde": {
      "model_module": "@jupyter-widgets/base",
      "model_module_version": "2.0.0",
      "model_name": "LayoutModel",
      "state": {}
     },
     "f5d017fedb8046db9c43e32c14604ce0": {
      "model_module": "@jupyter-widgets/controls",
      "model_module_version": "2.0.0",
      "model_name": "HBoxModel",
      "state": {
       "children": [
        "IPY_MODEL_6970a442a2bb4541a3bf1ba8d68f2c78",
        "IPY_MODEL_4de8dafdb7484253bb6fddee55a0410e",
        "IPY_MODEL_b53353e9600841f5ad11a05b41144adc"
       ],
       "layout": "IPY_MODEL_d53c00bab743427782a3f96719b6fa67"
      }
     },
     "f60e6cf29e90427a9551fa53f3627dc0": {
      "model_module": "@jupyter-widgets/controls",
      "model_module_version": "2.0.0",
      "model_name": "HBoxModel",
      "state": {
       "children": [
        "IPY_MODEL_7af5b99d382949ee98477206825f3618",
        "IPY_MODEL_76ce52e64be44e0083737b61e7992fc1",
        "IPY_MODEL_2347d428c3b243018bc385494606ac80"
       ],
       "layout": "IPY_MODEL_f1f5ed7d774d483e95396b61d2f7a87e"
      }
     },
     "f68e4e85f7a34c1db29ebd71dd33c465": {
      "model_module": "@jupyter-widgets/base",
      "model_module_version": "2.0.0",
      "model_name": "LayoutModel",
      "state": {}
     },
     "f6ad595688f440988e61c51fb28c1a5d": {
      "model_module": "@jupyter-widgets/base",
      "model_module_version": "2.0.0",
      "model_name": "LayoutModel",
      "state": {}
     },
     "f6f0ba75fb12497eae2b405284e2f470": {
      "model_module": "@jupyter-widgets/controls",
      "model_module_version": "2.0.0",
      "model_name": "HTMLModel",
      "state": {
       "layout": "IPY_MODEL_82acb678f29e496094a1d549cf9fa4d7",
       "style": "IPY_MODEL_89cfc8d2531a465cb11eb257d44fd8a1",
       "value": "Movies from 2013:  64%"
      }
     },
     "f7869a89504f49b5b4e16ccd86d17a50": {
      "model_module": "@jupyter-widgets/controls",
      "model_module_version": "2.0.0",
      "model_name": "FloatProgressModel",
      "state": {
       "bar_style": "danger",
       "layout": "IPY_MODEL_de268fa412c44acf90d248b873db1e03",
       "max": 3927,
       "style": "IPY_MODEL_aa370b7affa94b68a97ef75fcc065957",
       "value": 723
      }
     },
     "f8fe624ab04c4bab99ecb7757cd010ee": {
      "model_module": "@jupyter-widgets/controls",
      "model_module_version": "2.0.0",
      "model_name": "HTMLStyleModel",
      "state": {
       "description_width": "",
       "font_size": null,
       "text_color": null
      }
     },
     "f97ab04d12a344c5abbe430401248142": {
      "model_module": "@jupyter-widgets/controls",
      "model_module_version": "2.0.0",
      "model_name": "HTMLModel",
      "state": {
       "layout": "IPY_MODEL_2bad00c097a845ff914e766d3dd27d73",
       "style": "IPY_MODEL_38ea2dbaafdc4b8b8fbc513b70578f25",
       "value": "Movies from 2014:  13%"
      }
     },
     "f9c9274e594b4a398972cd6865b24da8": {
      "model_module": "@jupyter-widgets/controls",
      "model_module_version": "2.0.0",
      "model_name": "HTMLModel",
      "state": {
       "layout": "IPY_MODEL_abd9f37f00ae4f30b923784e775d4f7d",
       "style": "IPY_MODEL_4773c553fa4a466d83aefef79a8cfae7",
       "value": " 0/8 [03:38&lt;?, ?it/s]"
      }
     },
     "f9d4a01925ee49ebb15e4d1ba4fd6c00": {
      "model_module": "@jupyter-widgets/controls",
      "model_module_version": "2.0.0",
      "model_name": "ProgressStyleModel",
      "state": {
       "description_width": ""
      }
     },
     "fa29579b267642fbb952980bc5a10444": {
      "model_module": "@jupyter-widgets/controls",
      "model_module_version": "2.0.0",
      "model_name": "FloatProgressModel",
      "state": {
       "bar_style": "danger",
       "layout": "IPY_MODEL_13d70ea6054a48a6be22c11e04fc31bb",
       "max": 4529,
       "style": "IPY_MODEL_32ad16fd74a74071b1a5855bd5dd6c31",
       "value": 262
      }
     },
     "fb92c93c0c7347c3b61359538ee5edcf": {
      "model_module": "@jupyter-widgets/base",
      "model_module_version": "2.0.0",
      "model_name": "LayoutModel",
      "state": {}
     },
     "fbc5258375454bd0acf6e19735c07c90": {
      "model_module": "@jupyter-widgets/base",
      "model_module_version": "2.0.0",
      "model_name": "LayoutModel",
      "state": {}
     },
     "fc5086a3af994fdbb15f3932715c1a1a": {
      "model_module": "@jupyter-widgets/controls",
      "model_module_version": "2.0.0",
      "model_name": "ProgressStyleModel",
      "state": {
       "description_width": ""
      }
     },
     "fe2423f67dcc4eeca041d8a17bdb26c2": {
      "model_module": "@jupyter-widgets/controls",
      "model_module_version": "2.0.0",
      "model_name": "HTMLModel",
      "state": {
       "layout": "IPY_MODEL_5a53145cf45b4a33a62f3eee813a6f0b",
       "style": "IPY_MODEL_4a7501ee3c534ecdaf8777e4b8f1cef4",
       "value": "Movies from 2013:   1%"
      }
     },
     "ffef860390b1458885aa7d2ec43b12f8": {
      "model_module": "@jupyter-widgets/controls",
      "model_module_version": "2.0.0",
      "model_name": "HTMLStyleModel",
      "state": {
       "description_width": "",
       "font_size": null,
       "text_color": null
      }
     }
    },
    "version_major": 2,
    "version_minor": 0
   }
  }
 },
 "nbformat": 4,
 "nbformat_minor": 5
}
