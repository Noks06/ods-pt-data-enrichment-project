{
 "cells": [
  {
   "cell_type": "markdown",
   "id": "329d49e8-83cc-4406-912a-3e29de1ff5ed",
   "metadata": {},
   "source": [
    "# Project 3 Part 4\n",
    " Nokuthula Mchunu"
   ]
  },
  {
   "cell_type": "code",
   "execution_count": 63,
   "id": "ba763e81-aa7b-427e-b21c-d8821351db62",
   "metadata": {},
   "outputs": [
    {
     "data": {
      "text/plain": [
       "['tmdb_data_2001.csv.gz',\n",
       " 'tmdb_api_results_2000.json',\n",
       " 'tmdb_api_results_2001.json',\n",
       " 'tmdb_data_2000.csv.gz',\n",
       " 'final_tmdb_data_2001.csv.gz',\n",
       " '.ipynb_checkpoints',\n",
       " 'Data',\n",
       " 'tmdb_results_combined.csv.gz']"
      ]
     },
     "execution_count": 63,
     "metadata": {},
     "output_type": "execute_result"
    }
   ],
   "source": [
    "# Importing Relevent Liberies \n",
    "import os, time,json\n",
    "import tmdbsimple as tmdb \n",
    "import pandas as pd\n",
    "from tqdm.notebook import tqdm_notebook\n",
    "FOLDER = \"Data/Data\"\n",
    "os.makedirs(FOLDER, exist_ok=True)\n",
    "os.listdir(FOLDER)"
   ]
  },
  {
   "cell_type": "code",
   "execution_count": 64,
   "id": "ea2dbb62-2afa-4058-8685-33a5abe031ad",
   "metadata": {},
   "outputs": [
    {
     "data": {
      "text/plain": [
       "dict_keys(['tmdb_api_key', 'tmdb_access_token'])"
      ]
     },
     "execution_count": 64,
     "metadata": {},
     "output_type": "execute_result"
    }
   ],
   "source": [
    "import json\n",
    "with open('/Users/noksmchunu/.secret/tmdb_api.json', 'r') as f:\n",
    "    login = json.load(f)\n",
    "## Display the keys of the loaded dict\n",
    "login.keys()\n",
    "\n"
   ]
  },
  {
   "cell_type": "code",
   "execution_count": 65,
   "id": "dcb37ebb-9cf8-4a13-ba00-4b775dcd22af",
   "metadata": {},
   "outputs": [],
   "source": [
    "import tmdbsimple as tmdb\n",
    "tmdb.API_KEY =  login['tmdb_api_key']\n"
   ]
  },
  {
   "cell_type": "code",
   "execution_count": 66,
   "id": "ef097078-4fbd-49a8-9d91-8cca7fe438e4",
   "metadata": {},
   "outputs": [
    {
     "data": {
      "text/html": [
       "<div>\n",
       "<style scoped>\n",
       "    .dataframe tbody tr th:only-of-type {\n",
       "        vertical-align: middle;\n",
       "    }\n",
       "\n",
       "    .dataframe tbody tr th {\n",
       "        vertical-align: top;\n",
       "    }\n",
       "\n",
       "    .dataframe thead th {\n",
       "        text-align: right;\n",
       "    }\n",
       "</style>\n",
       "<table border=\"1\" class=\"dataframe\">\n",
       "  <thead>\n",
       "    <tr style=\"text-align: right;\">\n",
       "      <th></th>\n",
       "      <th>tconst</th>\n",
       "      <th>titleType</th>\n",
       "      <th>primaryTitle</th>\n",
       "      <th>originalTitle</th>\n",
       "      <th>isAdult</th>\n",
       "      <th>startYear</th>\n",
       "      <th>endYear</th>\n",
       "      <th>runtimeMinutes</th>\n",
       "      <th>genres</th>\n",
       "    </tr>\n",
       "  </thead>\n",
       "  <tbody>\n",
       "    <tr>\n",
       "      <th>0</th>\n",
       "      <td>tt0035423</td>\n",
       "      <td>movie</td>\n",
       "      <td>Kate &amp; Leopold</td>\n",
       "      <td>Kate &amp; Leopold</td>\n",
       "      <td>0</td>\n",
       "      <td>2001</td>\n",
       "      <td>NaN</td>\n",
       "      <td>118</td>\n",
       "      <td>Comedy,Fantasy,Romance</td>\n",
       "    </tr>\n",
       "    <tr>\n",
       "      <th>1</th>\n",
       "      <td>tt0062336</td>\n",
       "      <td>movie</td>\n",
       "      <td>The Tango of the Widower and Its Distorting Mi...</td>\n",
       "      <td>El tango del viudo y su espejo deformante</td>\n",
       "      <td>0</td>\n",
       "      <td>2020</td>\n",
       "      <td>NaN</td>\n",
       "      <td>70</td>\n",
       "      <td>Drama</td>\n",
       "    </tr>\n",
       "    <tr>\n",
       "      <th>2</th>\n",
       "      <td>tt0068865</td>\n",
       "      <td>movie</td>\n",
       "      <td>Lives of Performers</td>\n",
       "      <td>Lives of Performers</td>\n",
       "      <td>0</td>\n",
       "      <td>2016</td>\n",
       "      <td>NaN</td>\n",
       "      <td>90</td>\n",
       "      <td>Drama</td>\n",
       "    </tr>\n",
       "    <tr>\n",
       "      <th>3</th>\n",
       "      <td>tt0069049</td>\n",
       "      <td>movie</td>\n",
       "      <td>The Other Side of the Wind</td>\n",
       "      <td>The Other Side of the Wind</td>\n",
       "      <td>0</td>\n",
       "      <td>2018</td>\n",
       "      <td>NaN</td>\n",
       "      <td>122</td>\n",
       "      <td>Drama</td>\n",
       "    </tr>\n",
       "    <tr>\n",
       "      <th>4</th>\n",
       "      <td>tt0070596</td>\n",
       "      <td>movie</td>\n",
       "      <td>Socialist Realism</td>\n",
       "      <td>El realismo socialista</td>\n",
       "      <td>0</td>\n",
       "      <td>2023</td>\n",
       "      <td>NaN</td>\n",
       "      <td>78</td>\n",
       "      <td>Drama</td>\n",
       "    </tr>\n",
       "  </tbody>\n",
       "</table>\n",
       "</div>"
      ],
      "text/plain": [
       "      tconst titleType                                       primaryTitle  \\\n",
       "0  tt0035423     movie                                     Kate & Leopold   \n",
       "1  tt0062336     movie  The Tango of the Widower and Its Distorting Mi...   \n",
       "2  tt0068865     movie                                Lives of Performers   \n",
       "3  tt0069049     movie                         The Other Side of the Wind   \n",
       "4  tt0070596     movie                                  Socialist Realism   \n",
       "\n",
       "                               originalTitle  isAdult  startYear  endYear  \\\n",
       "0                             Kate & Leopold        0       2001      NaN   \n",
       "1  El tango del viudo y su espejo deformante        0       2020      NaN   \n",
       "2                        Lives of Performers        0       2016      NaN   \n",
       "3                 The Other Side of the Wind        0       2018      NaN   \n",
       "4                     El realismo socialista        0       2023      NaN   \n",
       "\n",
       "   runtimeMinutes                  genres  \n",
       "0             118  Comedy,Fantasy,Romance  \n",
       "1              70                   Drama  \n",
       "2              90                   Drama  \n",
       "3             122                   Drama  \n",
       "4              78                   Drama  "
      ]
     },
     "execution_count": 66,
     "metadata": {},
     "output_type": "execute_result"
    }
   ],
   "source": [
    "basics  = pd.read_csv(\"/Users/noksmchunu/Downloads/title_basics.csv\")\n",
    "basics.head()"
   ]
  },
  {
   "cell_type": "code",
   "execution_count": 67,
   "id": "18dc8470-5d94-4a15-af08-d5d7879649fd",
   "metadata": {},
   "outputs": [],
   "source": [
    "def write_json(new_data, filename): \n",
    "    \"\"\"Appends a list of records (new_data) to a json file (filename). \n",
    "    Adapted from: https://www.geeksforgeeks.org/append-to-json-file-using-python/\"\"\"  \n",
    "    \n",
    "    with open(filename,'r+') as file:\n",
    "        # First we load existing data into a dict.\n",
    "        file_data = json.load(file)\n",
    "        ## Choose extend or append\n",
    "        if (type(new_data) == list) & (type(file_data) == list):\n",
    "            file_data.extend(new_data)\n",
    "        else:\n",
    "             file_data.append(new_data)\n",
    "        # Sets file's current position at offset.\n",
    "        file.seek(0)\n",
    "        # convert back to json.\n",
    "        json.dump(file_data, file)\n",
    "\n",
    "def get_movie_with_rating (movie_id):\n",
    "    \n",
    "    \"\"\"Adapted from source = https://github.com/celiao/tmdbsimple\"\"\"\n",
    "    # Get the movie object for the current id\n",
    "    movie = tmdb.Movies (movie_id)\n",
    "    # save the info releases dictionaries\n",
    "    info = movie.info ()\n",
    "    releases = movie.releases ( )\n",
    "    # Loop through countries in releases\n",
    "    for c in releases[ 'countries']:\n",
    "        # if the country abbreviation==Us\n",
    "        if c['iso_3166_1'] =='US':\n",
    "            ## save a \"certification\" key in info with the certification\n",
    "            info ['certification'] = c['certification']\n",
    "    return info"
   ]
  },
  {
   "cell_type": "markdown",
   "id": "58a8f6d2-1929-4807-987a-4520ae3bf235",
   "metadata": {},
   "source": [
    "Part 4: Use an API to extract ADDITIONAL box office revenue and profit data to add to your IMDB data and perform exploratory data analysis."
   ]
  },
  {
   "cell_type": "code",
   "execution_count": 68,
   "id": "754c7751-7262-4ba5-9c45-00934c5dde12",
   "metadata": {},
   "outputs": [],
   "source": [
    "# Downloading the more movies \n",
    "def download_movies():\n",
    "    Years_to_get  = [2014,2015,2016,2017,2018,2019]\n",
    "    errors = []\n",
    "    # Start of OUTER loop\n",
    "    for YEAR in tqdm_notebook(Years_to_get, desc='YEARS', position=0):\n",
    "        #Defining the JSON file to store results for year\n",
    "        JSON_FILE = f'{FOLDER}tmdb_api_results_{YEAR}.json'\n",
    "        # Check if file exists\n",
    "        file_exists = os.path.isfile(JSON_FILE)\n",
    "        # If it does not exist: create it\n",
    "        if file_exists == False:\n",
    "            # save an empty dict with just \"imdb_id\" to the new json file.\n",
    "            with open(JSON_FILE,'w') as f:\n",
    "                json.dump([{'imdb_id':0}],f)\n",
    "                #Saving new year as the current df\n",
    "        df = basics.loc[ basics['startYear']==YEAR].copy()\n",
    "        # saving movie ids to list\n",
    "        movie_ids = df['tconst'].copy()\n",
    "        # Load existing data from json into a dataframe called \"previous_df\"\n",
    "        previous_df = pd.read_json(JSON_FILE)\n",
    "        # filter out any ids that are already in the JSON_FILE\n",
    "        movie_ids_to_get = movie_ids[~movie_ids.isin(previous_df['imdb_id'])]\n",
    "        #Get index and movie id from list\n",
    "        # INNER Loop\n",
    "        for movie_id in tqdm_notebook(movie_ids_to_get,\n",
    "                                      desc=f'Movies from {YEAR}',\n",
    "                                      position=1,\n",
    "                                      leave=True):\n",
    "            try:\n",
    "                # Retrieve then data for the movie id\n",
    "                temp = get_movie_with_rating(movie_id)  \n",
    "                # Append/extend results to existing file using a pre-made function\n",
    "                write_json(temp,JSON_FILE)\n",
    "                # Short 20 ms sleep to prevent overwhelming server\n",
    "                time.sleep(0.02)\n",
    "                \n",
    "            except Exception as e:\n",
    "                errors.append([movie_id, e])\n",
    "                       \n",
    "    final_year_df = pd.read_json(JSON_FILE) \n",
    "    final_year_df.to_csv(f\"{FOLDER}final_tmdb_data_{YEAR}.csv.gz\", compression=\"gzip\", index=False)\n",
    "    print(f\"- Total errors: {len(errors)}\")\n",
    "\n",
    "\n",
    "\n",
    "\n",
    "\n",
    "\n"
   ]
  },
  {
   "cell_type": "code",
   "execution_count": null,
   "id": "5e8b9da0-b863-44f4-9169-5a7b2f758ee9",
   "metadata": {},
   "outputs": [
    {
     "data": {
      "application/vnd.jupyter.widget-view+json": {
       "model_id": "5dd110921e0e4a039b3874e669bd5dbf",
       "version_major": 2,
       "version_minor": 0
      },
      "text/plain": [
       "YEARS:   0%|          | 0/6 [00:00<?, ?it/s]"
      ]
     },
     "metadata": {},
     "output_type": "display_data"
    },
    {
     "data": {
      "application/vnd.jupyter.widget-view+json": {
       "model_id": "8488f6df818d439e992918e0edae5af0",
       "version_major": 2,
       "version_minor": 0
      },
      "text/plain": [
       "Movies from 2014:   0%|          | 0/2103 [00:00<?, ?it/s]"
      ]
     },
     "metadata": {},
     "output_type": "display_data"
    }
   ],
   "source": [
    "# calling the download_movie function \n",
    "download_movies()"
   ]
  },
  {
   "cell_type": "markdown",
   "id": "4e20b841-d2b2-488f-b31f-2f733a6ca294",
   "metadata": {},
   "source": [
    "TRaversing Json and "
   ]
  },
  {
   "cell_type": "code",
   "execution_count": null,
   "id": "50d51adc-4bec-46da-8cca-9eefb27ad836",
   "metadata": {},
   "outputs": [],
   "source": [
    "#Loading Json"
   ]
  },
  {
   "cell_type": "code",
   "execution_count": null,
   "id": "690c64e3-b4ca-493d-8d5f-28e74bc45f3f",
   "metadata": {},
   "outputs": [],
   "source": [
    "\n"
   ]
  },
  {
   "cell_type": "code",
   "execution_count": null,
   "id": "7672a134-78c7-47d0-9b9c-c59ded0ccd80",
   "metadata": {},
   "outputs": [],
   "source": []
  },
  {
   "cell_type": "code",
   "execution_count": null,
   "id": "a8eb276b-48e5-42b9-9873-e37e7fd30f30",
   "metadata": {},
   "outputs": [],
   "source": []
  }
 ],
 "metadata": {
  "kernelspec": {
   "display_name": "Python 3 (ipykernel)",
   "language": "python",
   "name": "python3"
  },
  "language_info": {
   "codemirror_mode": {
    "name": "ipython",
    "version": 3
   },
   "file_extension": ".py",
   "mimetype": "text/x-python",
   "name": "python",
   "nbconvert_exporter": "python",
   "pygments_lexer": "ipython3",
   "version": "3.10.10"
  },
  "widgets": {
   "application/vnd.jupyter.widget-state+json": {
    "state": {
     "0237cd961cb4454eb628dedb9ffd47bc": {
      "model_module": "@jupyter-widgets/controls",
      "model_module_version": "2.0.0",
      "model_name": "HTMLStyleModel",
      "state": {
       "description_width": "",
       "font_size": null,
       "text_color": null
      }
     },
     "02ab16cf91f84dc6bb59d66e15accb82": {
      "model_module": "@jupyter-widgets/base",
      "model_module_version": "2.0.0",
      "model_name": "LayoutModel",
      "state": {}
     },
     "032c70afcb63496d8398a442390d577c": {
      "model_module": "@jupyter-widgets/controls",
      "model_module_version": "2.0.0",
      "model_name": "FloatProgressModel",
      "state": {
       "layout": "IPY_MODEL_bb5ea700f5d447b297b09510416538be",
       "max": 2103,
       "style": "IPY_MODEL_7ff2929191ec4ebfbb186ab0cd12f9f9",
       "value": 364
      }
     },
     "035e29bb288e4e72925a5fe5707d4a95": {
      "model_module": "@jupyter-widgets/controls",
      "model_module_version": "2.0.0",
      "model_name": "HBoxModel",
      "state": {
       "children": [
        "IPY_MODEL_ecedd58a10994d2b9fae163e506325f5",
        "IPY_MODEL_b5a95f1bcb3945cf94d5ae395dfc7704",
        "IPY_MODEL_4a08d112393e468f9aa16d016f1e52b0"
       ],
       "layout": "IPY_MODEL_bdbc6fed7ea141a0b12656adf0173223"
      }
     },
     "087b0012d3224d44be447e5a2e475eeb": {
      "model_module": "@jupyter-widgets/controls",
      "model_module_version": "2.0.0",
      "model_name": "HBoxModel",
      "state": {
       "children": [
        "IPY_MODEL_af11a5649fce4d538f64e6d20683def9",
        "IPY_MODEL_4e08de79676d40e880d12fd52cc1663f",
        "IPY_MODEL_b147da5e70034973ab70c00665f603fa"
       ],
       "layout": "IPY_MODEL_c91acb27f4e245798723af1ef6e11564"
      }
     },
     "08822d0bdb8c4245b8acab51140ece8e": {
      "model_module": "@jupyter-widgets/base",
      "model_module_version": "2.0.0",
      "model_name": "LayoutModel",
      "state": {}
     },
     "097057e4e04f478d9a234e54375ff85f": {
      "model_module": "@jupyter-widgets/controls",
      "model_module_version": "2.0.0",
      "model_name": "HTMLStyleModel",
      "state": {
       "description_width": "",
       "font_size": null,
       "text_color": null
      }
     },
     "0bd0022eb6f843b9b86bf8f7d8205f96": {
      "model_module": "@jupyter-widgets/base",
      "model_module_version": "2.0.0",
      "model_name": "LayoutModel",
      "state": {}
     },
     "0ed64a5355ee4510b9dcab9d47ff2b04": {
      "model_module": "@jupyter-widgets/controls",
      "model_module_version": "2.0.0",
      "model_name": "HTMLModel",
      "state": {
       "layout": "IPY_MODEL_db6878b89dbd4e76bcda1d3d02928acc",
       "style": "IPY_MODEL_2bd2a8c052c349edb3e37ca345f5d913",
       "value": "Movies from 2014:   0%"
      }
     },
     "10b5a183ea62438c889447846fc09181": {
      "model_module": "@jupyter-widgets/base",
      "model_module_version": "2.0.0",
      "model_name": "LayoutModel",
      "state": {}
     },
     "11064238b2674dba9a36ed17fe7efb6e": {
      "model_module": "@jupyter-widgets/base",
      "model_module_version": "2.0.0",
      "model_name": "LayoutModel",
      "state": {}
     },
     "111d67ede7b54517aa2390e79e926245": {
      "model_module": "@jupyter-widgets/controls",
      "model_module_version": "2.0.0",
      "model_name": "HTMLModel",
      "state": {
       "layout": "IPY_MODEL_92bcfd049e114e8ca90f1f2a374ab3d0",
       "style": "IPY_MODEL_5c8b3ce5970945ce807e370cef51a819",
       "value": "YEARS:   0%"
      }
     },
     "13aef1ad1f634fc7a4a4b3dc726cc1ce": {
      "model_module": "@jupyter-widgets/base",
      "model_module_version": "2.0.0",
      "model_name": "LayoutModel",
      "state": {}
     },
     "13e5877e4bb24257a24a865b8b3d39af": {
      "model_module": "@jupyter-widgets/controls",
      "model_module_version": "2.0.0",
      "model_name": "HTMLModel",
      "state": {
       "layout": "IPY_MODEL_8c60e12f3dbb452380ad30a973b43a92",
       "style": "IPY_MODEL_b3749479e0d64d37beca9e1a3d3ee2d6",
       "value": " 392/3031 [31:45&lt;52:27,  1.19s/it]"
      }
     },
     "14b17b131a454d68be9a889647f35ce0": {
      "model_module": "@jupyter-widgets/base",
      "model_module_version": "2.0.0",
      "model_name": "LayoutModel",
      "state": {}
     },
     "1637e5ae1c394bbb8b7eb7b9b112d5eb": {
      "model_module": "@jupyter-widgets/controls",
      "model_module_version": "2.0.0",
      "model_name": "ProgressStyleModel",
      "state": {
       "description_width": ""
      }
     },
     "17d0e9a5f4764ae7952070719244770b": {
      "model_module": "@jupyter-widgets/controls",
      "model_module_version": "2.0.0",
      "model_name": "HBoxModel",
      "state": {
       "children": [
        "IPY_MODEL_3ec6636bae3945b3bfd871decc6d432e",
        "IPY_MODEL_f2b4df4c8a8240209dfad53b88127186",
        "IPY_MODEL_fb14b2570c5a4227b91435a81e01750e"
       ],
       "layout": "IPY_MODEL_ead40c5040e141cda0b32b90182b1c58"
      }
     },
     "18a5fcaeb2f945278c6a280fad0ccc01": {
      "model_module": "@jupyter-widgets/controls",
      "model_module_version": "2.0.0",
      "model_name": "HBoxModel",
      "state": {
       "children": [
        "IPY_MODEL_3db4f51edd7e4d8db0b9d25ccdfaa12a",
        "IPY_MODEL_f864b957e34848479155474b27bb23d7",
        "IPY_MODEL_9119a5346ade4bc5b2fce488b1f691ac"
       ],
       "layout": "IPY_MODEL_eee95ddfd1fe43cb803bd6d0003459c1"
      }
     },
     "1a10a6c545cf4b09a3b1e96c5c2bb270": {
      "model_module": "@jupyter-widgets/base",
      "model_module_version": "2.0.0",
      "model_name": "LayoutModel",
      "state": {}
     },
     "1a3548ced1b24b4998720799ef836d7c": {
      "model_module": "@jupyter-widgets/controls",
      "model_module_version": "2.0.0",
      "model_name": "HTMLModel",
      "state": {
       "layout": "IPY_MODEL_38bdd4b5313748f99d2b00d3dabca79c",
       "style": "IPY_MODEL_7b61757ed87048dbbee9458c11cdfe32",
       "value": "Movies from 2014:  44%"
      }
     },
     "1a4c27f0b5ff4ba3830704860e4fbd3f": {
      "model_module": "@jupyter-widgets/base",
      "model_module_version": "2.0.0",
      "model_name": "LayoutModel",
      "state": {}
     },
     "1b19a042dbea4bee9ef5ed3d9229a788": {
      "model_module": "@jupyter-widgets/base",
      "model_module_version": "2.0.0",
      "model_name": "LayoutModel",
      "state": {}
     },
     "1bbc62ae5d3c4ae59dd2b7adbfb8063b": {
      "model_module": "@jupyter-widgets/controls",
      "model_module_version": "2.0.0",
      "model_name": "ProgressStyleModel",
      "state": {
       "description_width": ""
      }
     },
     "1d4a1f463fc142649bec50cf4cbd7a37": {
      "model_module": "@jupyter-widgets/controls",
      "model_module_version": "2.0.0",
      "model_name": "ProgressStyleModel",
      "state": {
       "description_width": ""
      }
     },
     "1e573a779cdf45d6a07cbcf92cc03d7f": {
      "model_module": "@jupyter-widgets/controls",
      "model_module_version": "2.0.0",
      "model_name": "HTMLModel",
      "state": {
       "layout": "IPY_MODEL_36ea72435b454820be1ab82f61d993b1",
       "style": "IPY_MODEL_45bf06920d1b4410bf3bbe2b03430395",
       "value": " 0/6 [8:09:10&lt;?, ?it/s]"
      }
     },
     "1e7908af5f204ef9a2de93ae11d21f17": {
      "model_module": "@jupyter-widgets/controls",
      "model_module_version": "2.0.0",
      "model_name": "FloatProgressModel",
      "state": {
       "bar_style": "danger",
       "layout": "IPY_MODEL_571929da9e03470d812c198f01ca9296",
       "max": 3031,
       "style": "IPY_MODEL_1bbc62ae5d3c4ae59dd2b7adbfb8063b",
       "value": 392
      }
     },
     "1f5eef752ae7439d9e8ae523d30bdd46": {
      "model_module": "@jupyter-widgets/controls",
      "model_module_version": "2.0.0",
      "model_name": "FloatProgressModel",
      "state": {
       "bar_style": "danger",
       "layout": "IPY_MODEL_96a155be934e4ffcbb5213f412d633f0",
       "max": 6,
       "style": "IPY_MODEL_9e2fd9ef281e425f8d88334fa517f070"
      }
     },
     "1fc73a15ab774898a3c6fdf88c9b99ff": {
      "model_module": "@jupyter-widgets/base",
      "model_module_version": "2.0.0",
      "model_name": "LayoutModel",
      "state": {}
     },
     "201c450848db44459301add8eed8740b": {
      "model_module": "@jupyter-widgets/controls",
      "model_module_version": "2.0.0",
      "model_name": "FloatProgressModel",
      "state": {
       "bar_style": "danger",
       "layout": "IPY_MODEL_fa140a1a472146d9b120a07d7eca10ce",
       "max": 2947,
       "style": "IPY_MODEL_7255886c65a8440098d41b3df69d11f4",
       "value": 1292
      }
     },
     "23e3eebcb5a3413db77b35254db49972": {
      "model_module": "@jupyter-widgets/base",
      "model_module_version": "2.0.0",
      "model_name": "LayoutModel",
      "state": {}
     },
     "25d08801b1f947dc9febe8ec816224db": {
      "model_module": "@jupyter-widgets/base",
      "model_module_version": "2.0.0",
      "model_name": "LayoutModel",
      "state": {}
     },
     "25efb6935aa34314bd6dfb6f6b12479a": {
      "model_module": "@jupyter-widgets/controls",
      "model_module_version": "2.0.0",
      "model_name": "HTMLModel",
      "state": {
       "layout": "IPY_MODEL_66fa73bc13f44126bdf1be3ea2505733",
       "style": "IPY_MODEL_84ad57d03d764e06a76f19a4b09e4738",
       "value": " 0/6 [00:00&lt;?, ?it/s]"
      }
     },
     "26d38dabf17c4d4fad262492ad35564a": {
      "model_module": "@jupyter-widgets/base",
      "model_module_version": "2.0.0",
      "model_name": "LayoutModel",
      "state": {}
     },
     "2976696f254840cf9ed09180f8031326": {
      "model_module": "@jupyter-widgets/controls",
      "model_module_version": "2.0.0",
      "model_name": "HTMLStyleModel",
      "state": {
       "description_width": "",
       "font_size": null,
       "text_color": null
      }
     },
     "2aa5c0d187234122803f05b63d531c6f": {
      "model_module": "@jupyter-widgets/controls",
      "model_module_version": "2.0.0",
      "model_name": "HTMLStyleModel",
      "state": {
       "description_width": "",
       "font_size": null,
       "text_color": null
      }
     },
     "2bd2a8c052c349edb3e37ca345f5d913": {
      "model_module": "@jupyter-widgets/controls",
      "model_module_version": "2.0.0",
      "model_name": "HTMLStyleModel",
      "state": {
       "description_width": "",
       "font_size": null,
       "text_color": null
      }
     },
     "2f3cb8a21bb241f5a75862d2e525d0e6": {
      "model_module": "@jupyter-widgets/controls",
      "model_module_version": "2.0.0",
      "model_name": "ProgressStyleModel",
      "state": {
       "description_width": ""
      }
     },
     "304eb7bfd32b4e03acf8b8cb8e0ac2e9": {
      "model_module": "@jupyter-widgets/controls",
      "model_module_version": "2.0.0",
      "model_name": "ProgressStyleModel",
      "state": {
       "description_width": ""
      }
     },
     "30d95d198c0d433b85ac9662a51e842e": {
      "model_module": "@jupyter-widgets/controls",
      "model_module_version": "2.0.0",
      "model_name": "HTMLStyleModel",
      "state": {
       "description_width": "",
       "font_size": null,
       "text_color": null
      }
     },
     "310e46aa32664c44aa73a92fc1b8c820": {
      "model_module": "@jupyter-widgets/controls",
      "model_module_version": "2.0.0",
      "model_name": "FloatProgressModel",
      "state": {
       "bar_style": "danger",
       "layout": "IPY_MODEL_13aef1ad1f634fc7a4a4b3dc726cc1ce",
       "max": 6,
       "style": "IPY_MODEL_2f3cb8a21bb241f5a75862d2e525d0e6"
      }
     },
     "3551d6e6bc714344b00ac97028fdfdd3": {
      "model_module": "@jupyter-widgets/base",
      "model_module_version": "2.0.0",
      "model_name": "LayoutModel",
      "state": {}
     },
     "36ea72435b454820be1ab82f61d993b1": {
      "model_module": "@jupyter-widgets/base",
      "model_module_version": "2.0.0",
      "model_name": "LayoutModel",
      "state": {}
     },
     "38bdd4b5313748f99d2b00d3dabca79c": {
      "model_module": "@jupyter-widgets/base",
      "model_module_version": "2.0.0",
      "model_name": "LayoutModel",
      "state": {}
     },
     "3b73a9d5af194ea997c1bda7479789c7": {
      "model_module": "@jupyter-widgets/controls",
      "model_module_version": "2.0.0",
      "model_name": "HTMLStyleModel",
      "state": {
       "description_width": "",
       "font_size": null,
       "text_color": null
      }
     },
     "3db4f51edd7e4d8db0b9d25ccdfaa12a": {
      "model_module": "@jupyter-widgets/controls",
      "model_module_version": "2.0.0",
      "model_name": "HTMLModel",
      "state": {
       "layout": "IPY_MODEL_1a4c27f0b5ff4ba3830704860e4fbd3f",
       "style": "IPY_MODEL_b31f447f68e34ddbaee91c09cf754ba4",
       "value": "Movies from 2014:   0%"
      }
     },
     "3ec6636bae3945b3bfd871decc6d432e": {
      "model_module": "@jupyter-widgets/controls",
      "model_module_version": "2.0.0",
      "model_name": "HTMLModel",
      "state": {
       "layout": "IPY_MODEL_fef36a7e9f6e4e55bb7ef6a8eda892e2",
       "style": "IPY_MODEL_61ae209363304c20b37424ff7a4fbcbd",
       "value": "YEARS:   0%"
      }
     },
     "432bd3d99f7b46ed8c33716d38bc25c9": {
      "model_module": "@jupyter-widgets/controls",
      "model_module_version": "2.0.0",
      "model_name": "HTMLStyleModel",
      "state": {
       "description_width": "",
       "font_size": null,
       "text_color": null
      }
     },
     "45bf06920d1b4410bf3bbe2b03430395": {
      "model_module": "@jupyter-widgets/controls",
      "model_module_version": "2.0.0",
      "model_name": "HTMLStyleModel",
      "state": {
       "description_width": "",
       "font_size": null,
       "text_color": null
      }
     },
     "4752b792d6d74ca8903265f62ebbf2f3": {
      "model_module": "@jupyter-widgets/controls",
      "model_module_version": "2.0.0",
      "model_name": "HTMLStyleModel",
      "state": {
       "description_width": "",
       "font_size": null,
       "text_color": null
      }
     },
     "4a004df14b7241a4ad8c52aae8cafa41": {
      "model_module": "@jupyter-widgets/controls",
      "model_module_version": "2.0.0",
      "model_name": "HTMLModel",
      "state": {
       "layout": "IPY_MODEL_8dc311eb36934edc87e2d4fbb4e75835",
       "style": "IPY_MODEL_7ca6d6d9c04f409ba78aa0d7b205483e",
       "value": "Movies from 2014:  29%"
      }
     },
     "4a08d112393e468f9aa16d016f1e52b0": {
      "model_module": "@jupyter-widgets/controls",
      "model_module_version": "2.0.0",
      "model_name": "HTMLModel",
      "state": {
       "layout": "IPY_MODEL_1a10a6c545cf4b09a3b1e96c5c2bb270",
       "style": "IPY_MODEL_96ec932d30c1470ca1911665cde00278",
       "value": " 0/6 [00:58&lt;?, ?it/s]"
      }
     },
     "4a15f74f3fc441ce9e4517028bdf8242": {
      "model_module": "@jupyter-widgets/controls",
      "model_module_version": "2.0.0",
      "model_name": "HBoxModel",
      "state": {
       "children": [
        "IPY_MODEL_1a3548ced1b24b4998720799ef836d7c",
        "IPY_MODEL_201c450848db44459301add8eed8740b",
        "IPY_MODEL_fd595c2413e04ee0bdc881c6912d7ece"
       ],
       "layout": "IPY_MODEL_26d38dabf17c4d4fad262492ad35564a"
      }
     },
     "4b68a31868324f17abc953cea7197ea5": {
      "model_module": "@jupyter-widgets/controls",
      "model_module_version": "2.0.0",
      "model_name": "HTMLModel",
      "state": {
       "layout": "IPY_MODEL_11064238b2674dba9a36ed17fe7efb6e",
       "style": "IPY_MODEL_8f9b3e20e80e4634980083bca4802e93",
       "value": "Movies from 2014:   7%"
      }
     },
     "4d73f0e9f0b9483bb0b8f4a2c06fec6a": {
      "model_module": "@jupyter-widgets/base",
      "model_module_version": "2.0.0",
      "model_name": "LayoutModel",
      "state": {}
     },
     "4e08de79676d40e880d12fd52cc1663f": {
      "model_module": "@jupyter-widgets/controls",
      "model_module_version": "2.0.0",
      "model_name": "FloatProgressModel",
      "state": {
       "bar_style": "danger",
       "layout": "IPY_MODEL_afee19e278b74ef2955297dd9020d067",
       "max": 7,
       "style": "IPY_MODEL_be25386ef9d64de99639747e844bbb3b"
      }
     },
     "4ff4577b6cb04d13a1410bfc41affd2a": {
      "model_module": "@jupyter-widgets/controls",
      "model_module_version": "2.0.0",
      "model_name": "ProgressStyleModel",
      "state": {
       "description_width": ""
      }
     },
     "5156c5fd300a4591aa629da9da1f6dcb": {
      "model_module": "@jupyter-widgets/base",
      "model_module_version": "2.0.0",
      "model_name": "LayoutModel",
      "state": {}
     },
     "523f38e5b0aa4e338b431055ae81c852": {
      "model_module": "@jupyter-widgets/controls",
      "model_module_version": "2.0.0",
      "model_name": "FloatProgressModel",
      "state": {
       "bar_style": "danger",
       "layout": "IPY_MODEL_9ad1499042694d39b0bfeae9b9e99771",
       "max": 2947,
       "style": "IPY_MODEL_1637e5ae1c394bbb8b7eb7b9b112d5eb"
      }
     },
     "545145c8386549f6af7d839646a6d2b5": {
      "model_module": "@jupyter-widgets/controls",
      "model_module_version": "2.0.0",
      "model_name": "FloatProgressModel",
      "state": {
       "bar_style": "danger",
       "layout": "IPY_MODEL_1b19a042dbea4bee9ef5ed3d9229a788",
       "max": 2171,
       "style": "IPY_MODEL_e7fdaf0796f74543b7d5bb1f1f59e9e0",
       "value": 619
      }
     },
     "551b2929b24b4a1d9ab8c98ce2237f4c": {
      "model_module": "@jupyter-widgets/base",
      "model_module_version": "2.0.0",
      "model_name": "LayoutModel",
      "state": {}
     },
     "56132443cba3417e9d150a4531f60694": {
      "model_module": "@jupyter-widgets/base",
      "model_module_version": "2.0.0",
      "model_name": "LayoutModel",
      "state": {}
     },
     "571929da9e03470d812c198f01ca9296": {
      "model_module": "@jupyter-widgets/base",
      "model_module_version": "2.0.0",
      "model_name": "LayoutModel",
      "state": {}
     },
     "5723e4983d4a497598dbbd5f227e069c": {
      "model_module": "@jupyter-widgets/controls",
      "model_module_version": "2.0.0",
      "model_name": "HBoxModel",
      "state": {
       "children": [
        "IPY_MODEL_a270feb33f9448e8ae091317889f2c19",
        "IPY_MODEL_bf543a951b564a2999a1f45d83f7ff10",
        "IPY_MODEL_eb8418edc9b34dc9a59e3036ba9cd886"
       ],
       "layout": "IPY_MODEL_6d8a4a220da74cdb898acbc44d706907"
      }
     },
     "59a59753cd7b4c9cbb26bd5bb3c8a836": {
      "model_module": "@jupyter-widgets/controls",
      "model_module_version": "2.0.0",
      "model_name": "HBoxModel",
      "state": {
       "children": [
        "IPY_MODEL_f91f15b36ddf4919b30ef1433b8f79b5",
        "IPY_MODEL_523f38e5b0aa4e338b431055ae81c852",
        "IPY_MODEL_677539e96c434b9eac312de509ff153f"
       ],
       "layout": "IPY_MODEL_10b5a183ea62438c889447846fc09181"
      }
     },
     "5c389bc98a584dbdb3f77453045f0404": {
      "model_module": "@jupyter-widgets/base",
      "model_module_version": "2.0.0",
      "model_name": "LayoutModel",
      "state": {}
     },
     "5c8b3ce5970945ce807e370cef51a819": {
      "model_module": "@jupyter-widgets/controls",
      "model_module_version": "2.0.0",
      "model_name": "HTMLStyleModel",
      "state": {
       "description_width": "",
       "font_size": null,
       "text_color": null
      }
     },
     "5ceb876d9226408fb5eaa3eedd9658bf": {
      "model_module": "@jupyter-widgets/controls",
      "model_module_version": "2.0.0",
      "model_name": "HBoxModel",
      "state": {
       "children": [
        "IPY_MODEL_111d67ede7b54517aa2390e79e926245",
        "IPY_MODEL_1f5eef752ae7439d9e8ae523d30bdd46",
        "IPY_MODEL_b2f215f78cc6451ca429c4fa14eb0c2d"
       ],
       "layout": "IPY_MODEL_87090642f65d4817ace5b7be022d67c5"
      }
     },
     "5dd110921e0e4a039b3874e669bd5dbf": {
      "model_module": "@jupyter-widgets/controls",
      "model_module_version": "2.0.0",
      "model_name": "HBoxModel",
      "state": {
       "children": [
        "IPY_MODEL_b2fb86f828f7444fa5ff71af2e42bc7f",
        "IPY_MODEL_aa7628fe466f43c6927cdcfdd39dbb29",
        "IPY_MODEL_25efb6935aa34314bd6dfb6f6b12479a"
       ],
       "layout": "IPY_MODEL_78af6a5c20af44dfb95affea6ecb82da"
      }
     },
     "5e0c71b4ee424c2eae1c3ec218b7cce2": {
      "model_module": "@jupyter-widgets/base",
      "model_module_version": "2.0.0",
      "model_name": "LayoutModel",
      "state": {}
     },
     "61ae209363304c20b37424ff7a4fbcbd": {
      "model_module": "@jupyter-widgets/controls",
      "model_module_version": "2.0.0",
      "model_name": "HTMLStyleModel",
      "state": {
       "description_width": "",
       "font_size": null,
       "text_color": null
      }
     },
     "6227f4b057854a2aa6b09fb209e61e43": {
      "model_module": "@jupyter-widgets/controls",
      "model_module_version": "2.0.0",
      "model_name": "HBoxModel",
      "state": {
       "children": [
        "IPY_MODEL_4b68a31868324f17abc953cea7197ea5",
        "IPY_MODEL_9559f2f952e341f489043ac58d0b0a13",
        "IPY_MODEL_96265b4111964079ba84294d2b26ec10"
       ],
       "layout": "IPY_MODEL_1fc73a15ab774898a3c6fdf88c9b99ff"
      }
     },
     "639667fb398442089fadd7332a73ac30": {
      "model_module": "@jupyter-widgets/base",
      "model_module_version": "2.0.0",
      "model_name": "LayoutModel",
      "state": {}
     },
     "64f7f40f9d1c45a49d35aa841d29f15d": {
      "model_module": "@jupyter-widgets/base",
      "model_module_version": "2.0.0",
      "model_name": "LayoutModel",
      "state": {}
     },
     "66fa73bc13f44126bdf1be3ea2505733": {
      "model_module": "@jupyter-widgets/base",
      "model_module_version": "2.0.0",
      "model_name": "LayoutModel",
      "state": {}
     },
     "677539e96c434b9eac312de509ff153f": {
      "model_module": "@jupyter-widgets/controls",
      "model_module_version": "2.0.0",
      "model_name": "HTMLModel",
      "state": {
       "layout": "IPY_MODEL_aee47efbf9bc488994e7bfc80510337a",
       "style": "IPY_MODEL_b439d80dc8544953b6d9c0cf0e5f1bca",
       "value": " 0/2947 [00:09&lt;?, ?it/s]"
      }
     },
     "689d18e4c6944990968e3a60eb2a9b66": {
      "model_module": "@jupyter-widgets/controls",
      "model_module_version": "2.0.0",
      "model_name": "HTMLModel",
      "state": {
       "layout": "IPY_MODEL_7b5d5e4c91d942538f29b144a36c4ec8",
       "style": "IPY_MODEL_b5615b7392e24187a6bea18b3abd61ae",
       "value": "YEARS:   0%"
      }
     },
     "6c51fb6fbbc74c92a5ab88be08173460": {
      "model_module": "@jupyter-widgets/base",
      "model_module_version": "2.0.0",
      "model_name": "LayoutModel",
      "state": {}
     },
     "6d8a4a220da74cdb898acbc44d706907": {
      "model_module": "@jupyter-widgets/base",
      "model_module_version": "2.0.0",
      "model_name": "LayoutModel",
      "state": {}
     },
     "6e56281cd1ee42879ffb212bfcf4c0c9": {
      "model_module": "@jupyter-widgets/base",
      "model_module_version": "2.0.0",
      "model_name": "LayoutModel",
      "state": {}
     },
     "6e90344213d54a19a5c7ad5c5be496e3": {
      "model_module": "@jupyter-widgets/controls",
      "model_module_version": "2.0.0",
      "model_name": "HTMLStyleModel",
      "state": {
       "description_width": "",
       "font_size": null,
       "text_color": null
      }
     },
     "70e89f1576e54c40a1e61f06a8841319": {
      "model_module": "@jupyter-widgets/controls",
      "model_module_version": "2.0.0",
      "model_name": "HTMLStyleModel",
      "state": {
       "description_width": "",
       "font_size": null,
       "text_color": null
      }
     },
     "7255886c65a8440098d41b3df69d11f4": {
      "model_module": "@jupyter-widgets/controls",
      "model_module_version": "2.0.0",
      "model_name": "ProgressStyleModel",
      "state": {
       "description_width": ""
      }
     },
     "7633d5023bae42ba88698f88aa47ed4d": {
      "model_module": "@jupyter-widgets/controls",
      "model_module_version": "2.0.0",
      "model_name": "HTMLModel",
      "state": {
       "layout": "IPY_MODEL_6c51fb6fbbc74c92a5ab88be08173460",
       "style": "IPY_MODEL_d4b90793634f420fa64a9cf20b973dc6",
       "value": "Movies from 2014:  17%"
      }
     },
     "7698954ac4e14407984d3bd953ac5ed7": {
      "model_module": "@jupyter-widgets/base",
      "model_module_version": "2.0.0",
      "model_name": "LayoutModel",
      "state": {}
     },
     "769cc0f5243f47628f38c98219030ccc": {
      "model_module": "@jupyter-widgets/base",
      "model_module_version": "2.0.0",
      "model_name": "LayoutModel",
      "state": {}
     },
     "78af6a5c20af44dfb95affea6ecb82da": {
      "model_module": "@jupyter-widgets/base",
      "model_module_version": "2.0.0",
      "model_name": "LayoutModel",
      "state": {}
     },
     "794dd760027a4d3e9433984c9e8717d3": {
      "model_module": "@jupyter-widgets/base",
      "model_module_version": "2.0.0",
      "model_name": "LayoutModel",
      "state": {}
     },
     "7b123fcdf13a4b9bb0115a6bf43673c0": {
      "model_module": "@jupyter-widgets/controls",
      "model_module_version": "2.0.0",
      "model_name": "HTMLStyleModel",
      "state": {
       "description_width": "",
       "font_size": null,
       "text_color": null
      }
     },
     "7b3645387bf64da5b49406b2eb6d6738": {
      "model_module": "@jupyter-widgets/controls",
      "model_module_version": "2.0.0",
      "model_name": "FloatProgressModel",
      "state": {
       "bar_style": "danger",
       "layout": "IPY_MODEL_8c45a2e40938452a99a73e9de0c3f1a9",
       "max": 6,
       "style": "IPY_MODEL_882e46a0a60a4b0482d56c62a04db93a"
      }
     },
     "7b5d5e4c91d942538f29b144a36c4ec8": {
      "model_module": "@jupyter-widgets/base",
      "model_module_version": "2.0.0",
      "model_name": "LayoutModel",
      "state": {}
     },
     "7b61757ed87048dbbee9458c11cdfe32": {
      "model_module": "@jupyter-widgets/controls",
      "model_module_version": "2.0.0",
      "model_name": "HTMLStyleModel",
      "state": {
       "description_width": "",
       "font_size": null,
       "text_color": null
      }
     },
     "7c2ca8b285e94254be3731ac031d0330": {
      "model_module": "@jupyter-widgets/controls",
      "model_module_version": "2.0.0",
      "model_name": "HBoxModel",
      "state": {
       "children": [
        "IPY_MODEL_aac9e1710a21450ca7d05e32fd3b4416",
        "IPY_MODEL_1e7908af5f204ef9a2de93ae11d21f17",
        "IPY_MODEL_13e5877e4bb24257a24a865b8b3d39af"
       ],
       "layout": "IPY_MODEL_f2caac0fe7534cd4bada846d6f8a09b8"
      }
     },
     "7c2f7a02835c4ff3b063faa9617b8c7c": {
      "model_module": "@jupyter-widgets/base",
      "model_module_version": "2.0.0",
      "model_name": "LayoutModel",
      "state": {}
     },
     "7ca6d6d9c04f409ba78aa0d7b205483e": {
      "model_module": "@jupyter-widgets/controls",
      "model_module_version": "2.0.0",
      "model_name": "HTMLStyleModel",
      "state": {
       "description_width": "",
       "font_size": null,
       "text_color": null
      }
     },
     "7d8b09f8d382485786c1f9cde052bcd4": {
      "model_module": "@jupyter-widgets/controls",
      "model_module_version": "2.0.0",
      "model_name": "HTMLStyleModel",
      "state": {
       "description_width": "",
       "font_size": null,
       "text_color": null
      }
     },
     "7ff2929191ec4ebfbb186ab0cd12f9f9": {
      "model_module": "@jupyter-widgets/controls",
      "model_module_version": "2.0.0",
      "model_name": "ProgressStyleModel",
      "state": {
       "description_width": ""
      }
     },
     "8422c91cb8f8445ea4e5e448b5c1c04d": {
      "model_module": "@jupyter-widgets/base",
      "model_module_version": "2.0.0",
      "model_name": "LayoutModel",
      "state": {}
     },
     "8488f6df818d439e992918e0edae5af0": {
      "model_module": "@jupyter-widgets/controls",
      "model_module_version": "2.0.0",
      "model_name": "HBoxModel",
      "state": {
       "children": [
        "IPY_MODEL_7633d5023bae42ba88698f88aa47ed4d",
        "IPY_MODEL_032c70afcb63496d8398a442390d577c",
        "IPY_MODEL_fbe6003da01f449da9c948a095b14483"
       ],
       "layout": "IPY_MODEL_23e3eebcb5a3413db77b35254db49972"
      }
     },
     "84ad57d03d764e06a76f19a4b09e4738": {
      "model_module": "@jupyter-widgets/controls",
      "model_module_version": "2.0.0",
      "model_name": "HTMLStyleModel",
      "state": {
       "description_width": "",
       "font_size": null,
       "text_color": null
      }
     },
     "87090642f65d4817ace5b7be022d67c5": {
      "model_module": "@jupyter-widgets/base",
      "model_module_version": "2.0.0",
      "model_name": "LayoutModel",
      "state": {}
     },
     "882e46a0a60a4b0482d56c62a04db93a": {
      "model_module": "@jupyter-widgets/controls",
      "model_module_version": "2.0.0",
      "model_name": "ProgressStyleModel",
      "state": {
       "description_width": ""
      }
     },
     "8b032df5770940f89a0e5cec1e645f3e": {
      "model_module": "@jupyter-widgets/base",
      "model_module_version": "2.0.0",
      "model_name": "LayoutModel",
      "state": {}
     },
     "8c45a2e40938452a99a73e9de0c3f1a9": {
      "model_module": "@jupyter-widgets/base",
      "model_module_version": "2.0.0",
      "model_name": "LayoutModel",
      "state": {}
     },
     "8c60e12f3dbb452380ad30a973b43a92": {
      "model_module": "@jupyter-widgets/base",
      "model_module_version": "2.0.0",
      "model_name": "LayoutModel",
      "state": {}
     },
     "8dc311eb36934edc87e2d4fbb4e75835": {
      "model_module": "@jupyter-widgets/base",
      "model_module_version": "2.0.0",
      "model_name": "LayoutModel",
      "state": {}
     },
     "8f80da7c62d64d288697993a1ce9d9ae": {
      "model_module": "@jupyter-widgets/controls",
      "model_module_version": "2.0.0",
      "model_name": "ProgressStyleModel",
      "state": {
       "description_width": ""
      }
     },
     "8f9b3e20e80e4634980083bca4802e93": {
      "model_module": "@jupyter-widgets/controls",
      "model_module_version": "2.0.0",
      "model_name": "HTMLStyleModel",
      "state": {
       "description_width": "",
       "font_size": null,
       "text_color": null
      }
     },
     "9119a5346ade4bc5b2fce488b1f691ac": {
      "model_module": "@jupyter-widgets/controls",
      "model_module_version": "2.0.0",
      "model_name": "HTMLModel",
      "state": {
       "layout": "IPY_MODEL_02ab16cf91f84dc6bb59d66e15accb82",
       "style": "IPY_MODEL_a7070307ba454450bdb0402593cd0347",
       "value": " 0/2947 [00:33&lt;?, ?it/s]"
      }
     },
     "913c6463095b400bb1270aed3f3c72db": {
      "model_module": "@jupyter-widgets/base",
      "model_module_version": "2.0.0",
      "model_name": "LayoutModel",
      "state": {}
     },
     "92bcfd049e114e8ca90f1f2a374ab3d0": {
      "model_module": "@jupyter-widgets/base",
      "model_module_version": "2.0.0",
      "model_name": "LayoutModel",
      "state": {}
     },
     "93335e08e57842ce842139f9d3e07533": {
      "model_module": "@jupyter-widgets/controls",
      "model_module_version": "2.0.0",
      "model_name": "HTMLModel",
      "state": {
       "layout": "IPY_MODEL_14b17b131a454d68be9a889647f35ce0",
       "style": "IPY_MODEL_ce7aa53c5a9c4b009d646a19bfb76309",
       "value": " 0/2947 [00:58&lt;?, ?it/s]"
      }
     },
     "9559f2f952e341f489043ac58d0b0a13": {
      "model_module": "@jupyter-widgets/controls",
      "model_module_version": "2.0.0",
      "model_name": "FloatProgressModel",
      "state": {
       "bar_style": "danger",
       "layout": "IPY_MODEL_e4181fcaa4b7437cb1597d898ed301ff",
       "max": 2947,
       "style": "IPY_MODEL_a231fd6fdfaf4474a1f54ceff47fb8f1",
       "value": 193
      }
     },
     "95c722bc16d04a228860b39dcd027228": {
      "model_module": "@jupyter-widgets/controls",
      "model_module_version": "2.0.0",
      "model_name": "ProgressStyleModel",
      "state": {
       "description_width": ""
      }
     },
     "96265b4111964079ba84294d2b26ec10": {
      "model_module": "@jupyter-widgets/controls",
      "model_module_version": "2.0.0",
      "model_name": "HTMLModel",
      "state": {
       "layout": "IPY_MODEL_7698954ac4e14407984d3bd953ac5ed7",
       "style": "IPY_MODEL_a59d562186074322b0fd864a6e7df4f6",
       "value": " 193/2947 [21:32&lt;46:58:36, 61.41s/it]"
      }
     },
     "96a155be934e4ffcbb5213f412d633f0": {
      "model_module": "@jupyter-widgets/base",
      "model_module_version": "2.0.0",
      "model_name": "LayoutModel",
      "state": {}
     },
     "96ec932d30c1470ca1911665cde00278": {
      "model_module": "@jupyter-widgets/controls",
      "model_module_version": "2.0.0",
      "model_name": "HTMLStyleModel",
      "state": {
       "description_width": "",
       "font_size": null,
       "text_color": null
      }
     },
     "9ad1499042694d39b0bfeae9b9e99771": {
      "model_module": "@jupyter-widgets/base",
      "model_module_version": "2.0.0",
      "model_name": "LayoutModel",
      "state": {}
     },
     "9c73f836a6494543988709169c87c20e": {
      "model_module": "@jupyter-widgets/base",
      "model_module_version": "2.0.0",
      "model_name": "LayoutModel",
      "state": {}
     },
     "9e2fd9ef281e425f8d88334fa517f070": {
      "model_module": "@jupyter-widgets/controls",
      "model_module_version": "2.0.0",
      "model_name": "ProgressStyleModel",
      "state": {
       "description_width": ""
      }
     },
     "a231fd6fdfaf4474a1f54ceff47fb8f1": {
      "model_module": "@jupyter-widgets/controls",
      "model_module_version": "2.0.0",
      "model_name": "ProgressStyleModel",
      "state": {
       "description_width": ""
      }
     },
     "a270feb33f9448e8ae091317889f2c19": {
      "model_module": "@jupyter-widgets/controls",
      "model_module_version": "2.0.0",
      "model_name": "HTMLModel",
      "state": {
       "layout": "IPY_MODEL_6e56281cd1ee42879ffb212bfcf4c0c9",
       "style": "IPY_MODEL_0237cd961cb4454eb628dedb9ffd47bc",
       "value": "YEARS:   0%"
      }
     },
     "a59d562186074322b0fd864a6e7df4f6": {
      "model_module": "@jupyter-widgets/controls",
      "model_module_version": "2.0.0",
      "model_name": "HTMLStyleModel",
      "state": {
       "description_width": "",
       "font_size": null,
       "text_color": null
      }
     },
     "a7070307ba454450bdb0402593cd0347": {
      "model_module": "@jupyter-widgets/controls",
      "model_module_version": "2.0.0",
      "model_name": "HTMLStyleModel",
      "state": {
       "description_width": "",
       "font_size": null,
       "text_color": null
      }
     },
     "aa7628fe466f43c6927cdcfdd39dbb29": {
      "model_module": "@jupyter-widgets/controls",
      "model_module_version": "2.0.0",
      "model_name": "FloatProgressModel",
      "state": {
       "layout": "IPY_MODEL_cdf3bfaeae2341208f07b9ba53417058",
       "max": 6,
       "style": "IPY_MODEL_4ff4577b6cb04d13a1410bfc41affd2a"
      }
     },
     "aac9e1710a21450ca7d05e32fd3b4416": {
      "model_module": "@jupyter-widgets/controls",
      "model_module_version": "2.0.0",
      "model_name": "HTMLModel",
      "state": {
       "layout": "IPY_MODEL_7c2f7a02835c4ff3b063faa9617b8c7c",
       "style": "IPY_MODEL_6e90344213d54a19a5c7ad5c5be496e3",
       "value": "Movies from 2014:  13%"
      }
     },
     "ae206410eaab4ccb85b5d35dceedb4fd": {
      "model_module": "@jupyter-widgets/controls",
      "model_module_version": "2.0.0",
      "model_name": "HTMLModel",
      "state": {
       "layout": "IPY_MODEL_f521b7bc19764fe4bb22bbf436249546",
       "style": "IPY_MODEL_432bd3d99f7b46ed8c33716d38bc25c9",
       "value": " 0/6 [00:09&lt;?, ?it/s]"
      }
     },
     "aee47efbf9bc488994e7bfc80510337a": {
      "model_module": "@jupyter-widgets/base",
      "model_module_version": "2.0.0",
      "model_name": "LayoutModel",
      "state": {}
     },
     "af11a5649fce4d538f64e6d20683def9": {
      "model_module": "@jupyter-widgets/controls",
      "model_module_version": "2.0.0",
      "model_name": "HTMLModel",
      "state": {
       "layout": "IPY_MODEL_5e0c71b4ee424c2eae1c3ec218b7cce2",
       "style": "IPY_MODEL_4752b792d6d74ca8903265f62ebbf2f3",
       "value": "YEARS:   0%"
      }
     },
     "afee19e278b74ef2955297dd9020d067": {
      "model_module": "@jupyter-widgets/base",
      "model_module_version": "2.0.0",
      "model_name": "LayoutModel",
      "state": {}
     },
     "b147da5e70034973ab70c00665f603fa": {
      "model_module": "@jupyter-widgets/controls",
      "model_module_version": "2.0.0",
      "model_name": "HTMLModel",
      "state": {
       "layout": "IPY_MODEL_25d08801b1f947dc9febe8ec816224db",
       "style": "IPY_MODEL_7d8b09f8d382485786c1f9cde052bcd4",
       "value": " 0/7 [00:33&lt;?, ?it/s]"
      }
     },
     "b2f215f78cc6451ca429c4fa14eb0c2d": {
      "model_module": "@jupyter-widgets/controls",
      "model_module_version": "2.0.0",
      "model_name": "HTMLModel",
      "state": {
       "layout": "IPY_MODEL_e6a7bbeb661d41c5afd24b445b23f1b1",
       "style": "IPY_MODEL_e202b57804624ee1b1b63c67a029962a",
       "value": " 0/6 [21:32&lt;?, ?it/s]"
      }
     },
     "b2fb86f828f7444fa5ff71af2e42bc7f": {
      "model_module": "@jupyter-widgets/controls",
      "model_module_version": "2.0.0",
      "model_name": "HTMLModel",
      "state": {
       "layout": "IPY_MODEL_64f7f40f9d1c45a49d35aa841d29f15d",
       "style": "IPY_MODEL_cca898c62b4442d38e078e9442e34e5c",
       "value": "YEARS:   0%"
      }
     },
     "b31f447f68e34ddbaee91c09cf754ba4": {
      "model_module": "@jupyter-widgets/controls",
      "model_module_version": "2.0.0",
      "model_name": "HTMLStyleModel",
      "state": {
       "description_width": "",
       "font_size": null,
       "text_color": null
      }
     },
     "b3749479e0d64d37beca9e1a3d3ee2d6": {
      "model_module": "@jupyter-widgets/controls",
      "model_module_version": "2.0.0",
      "model_name": "HTMLStyleModel",
      "state": {
       "description_width": "",
       "font_size": null,
       "text_color": null
      }
     },
     "b3e25a4208f940cbad937d0cbeb32ae5": {
      "model_module": "@jupyter-widgets/controls",
      "model_module_version": "2.0.0",
      "model_name": "HBoxModel",
      "state": {
       "children": [
        "IPY_MODEL_ce900db2d982482b8bc006cd646a0748",
        "IPY_MODEL_310e46aa32664c44aa73a92fc1b8c820",
        "IPY_MODEL_ae206410eaab4ccb85b5d35dceedb4fd"
       ],
       "layout": "IPY_MODEL_794dd760027a4d3e9433984c9e8717d3"
      }
     },
     "b439d80dc8544953b6d9c0cf0e5f1bca": {
      "model_module": "@jupyter-widgets/controls",
      "model_module_version": "2.0.0",
      "model_name": "HTMLStyleModel",
      "state": {
       "description_width": "",
       "font_size": null,
       "text_color": null
      }
     },
     "b5615b7392e24187a6bea18b3abd61ae": {
      "model_module": "@jupyter-widgets/controls",
      "model_module_version": "2.0.0",
      "model_name": "HTMLStyleModel",
      "state": {
       "description_width": "",
       "font_size": null,
       "text_color": null
      }
     },
     "b5a95f1bcb3945cf94d5ae395dfc7704": {
      "model_module": "@jupyter-widgets/controls",
      "model_module_version": "2.0.0",
      "model_name": "FloatProgressModel",
      "state": {
       "bar_style": "danger",
       "layout": "IPY_MODEL_5156c5fd300a4591aa629da9da1f6dcb",
       "max": 6,
       "style": "IPY_MODEL_304eb7bfd32b4e03acf8b8cb8e0ac2e9"
      }
     },
     "b6fdfc451fe34bcaa9b7506f68e586d1": {
      "model_module": "@jupyter-widgets/controls",
      "model_module_version": "2.0.0",
      "model_name": "ProgressStyleModel",
      "state": {
       "description_width": ""
      }
     },
     "b8b02cf2f83045e09a6a8f52d1f3af09": {
      "model_module": "@jupyter-widgets/controls",
      "model_module_version": "2.0.0",
      "model_name": "FloatProgressModel",
      "state": {
       "bar_style": "danger",
       "layout": "IPY_MODEL_913c6463095b400bb1270aed3f3c72db",
       "max": 2947,
       "style": "IPY_MODEL_95c722bc16d04a228860b39dcd027228"
      }
     },
     "bb5ea700f5d447b297b09510416538be": {
      "model_module": "@jupyter-widgets/base",
      "model_module_version": "2.0.0",
      "model_name": "LayoutModel",
      "state": {}
     },
     "bcf15cf689804ab39a47bf9822c9f4c5": {
      "model_module": "@jupyter-widgets/controls",
      "model_module_version": "2.0.0",
      "model_name": "HBoxModel",
      "state": {
       "children": [
        "IPY_MODEL_0ed64a5355ee4510b9dcab9d47ff2b04",
        "IPY_MODEL_b8b02cf2f83045e09a6a8f52d1f3af09",
        "IPY_MODEL_93335e08e57842ce842139f9d3e07533"
       ],
       "layout": "IPY_MODEL_639667fb398442089fadd7332a73ac30"
      }
     },
     "bdbc6fed7ea141a0b12656adf0173223": {
      "model_module": "@jupyter-widgets/base",
      "model_module_version": "2.0.0",
      "model_name": "LayoutModel",
      "state": {}
     },
     "be25386ef9d64de99639747e844bbb3b": {
      "model_module": "@jupyter-widgets/controls",
      "model_module_version": "2.0.0",
      "model_name": "ProgressStyleModel",
      "state": {
       "description_width": ""
      }
     },
     "bf543a951b564a2999a1f45d83f7ff10": {
      "model_module": "@jupyter-widgets/controls",
      "model_module_version": "2.0.0",
      "model_name": "FloatProgressModel",
      "state": {
       "bar_style": "danger",
       "layout": "IPY_MODEL_08822d0bdb8c4245b8acab51140ece8e",
       "max": 6,
       "style": "IPY_MODEL_1d4a1f463fc142649bec50cf4cbd7a37"
      }
     },
     "c4383a61e7954047a06da1407d0eb761": {
      "model_module": "@jupyter-widgets/base",
      "model_module_version": "2.0.0",
      "model_name": "LayoutModel",
      "state": {}
     },
     "c91acb27f4e245798723af1ef6e11564": {
      "model_module": "@jupyter-widgets/base",
      "model_module_version": "2.0.0",
      "model_name": "LayoutModel",
      "state": {}
     },
     "cca898c62b4442d38e078e9442e34e5c": {
      "model_module": "@jupyter-widgets/controls",
      "model_module_version": "2.0.0",
      "model_name": "HTMLStyleModel",
      "state": {
       "description_width": "",
       "font_size": null,
       "text_color": null
      }
     },
     "cdf3bfaeae2341208f07b9ba53417058": {
      "model_module": "@jupyter-widgets/base",
      "model_module_version": "2.0.0",
      "model_name": "LayoutModel",
      "state": {}
     },
     "ce7aa53c5a9c4b009d646a19bfb76309": {
      "model_module": "@jupyter-widgets/controls",
      "model_module_version": "2.0.0",
      "model_name": "HTMLStyleModel",
      "state": {
       "description_width": "",
       "font_size": null,
       "text_color": null
      }
     },
     "ce900db2d982482b8bc006cd646a0748": {
      "model_module": "@jupyter-widgets/controls",
      "model_module_version": "2.0.0",
      "model_name": "HTMLModel",
      "state": {
       "layout": "IPY_MODEL_3551d6e6bc714344b00ac97028fdfdd3",
       "style": "IPY_MODEL_3b73a9d5af194ea997c1bda7479789c7",
       "value": "YEARS:   0%"
      }
     },
     "cf20db06998646a78b77be7c651ae189": {
      "model_module": "@jupyter-widgets/base",
      "model_module_version": "2.0.0",
      "model_name": "LayoutModel",
      "state": {}
     },
     "d4b90793634f420fa64a9cf20b973dc6": {
      "model_module": "@jupyter-widgets/controls",
      "model_module_version": "2.0.0",
      "model_name": "HTMLStyleModel",
      "state": {
       "description_width": "",
       "font_size": null,
       "text_color": null
      }
     },
     "d744a1197a954d6989f282dd13d5c2e4": {
      "model_module": "@jupyter-widgets/controls",
      "model_module_version": "2.0.0",
      "model_name": "HBoxModel",
      "state": {
       "children": [
        "IPY_MODEL_4a004df14b7241a4ad8c52aae8cafa41",
        "IPY_MODEL_545145c8386549f6af7d839646a6d2b5",
        "IPY_MODEL_ee28f138391e4a7d9fb2836886f9770b"
       ],
       "layout": "IPY_MODEL_8422c91cb8f8445ea4e5e448b5c1c04d"
      }
     },
     "db6878b89dbd4e76bcda1d3d02928acc": {
      "model_module": "@jupyter-widgets/base",
      "model_module_version": "2.0.0",
      "model_name": "LayoutModel",
      "state": {}
     },
     "e202b57804624ee1b1b63c67a029962a": {
      "model_module": "@jupyter-widgets/controls",
      "model_module_version": "2.0.0",
      "model_name": "HTMLStyleModel",
      "state": {
       "description_width": "",
       "font_size": null,
       "text_color": null
      }
     },
     "e4181fcaa4b7437cb1597d898ed301ff": {
      "model_module": "@jupyter-widgets/base",
      "model_module_version": "2.0.0",
      "model_name": "LayoutModel",
      "state": {}
     },
     "e6a7bbeb661d41c5afd24b445b23f1b1": {
      "model_module": "@jupyter-widgets/base",
      "model_module_version": "2.0.0",
      "model_name": "LayoutModel",
      "state": {}
     },
     "e73da670ae93418688c9fa1e257f0a3f": {
      "model_module": "@jupyter-widgets/controls",
      "model_module_version": "2.0.0",
      "model_name": "HBoxModel",
      "state": {
       "children": [
        "IPY_MODEL_689d18e4c6944990968e3a60eb2a9b66",
        "IPY_MODEL_7b3645387bf64da5b49406b2eb6d6738",
        "IPY_MODEL_1e573a779cdf45d6a07cbcf92cc03d7f"
       ],
       "layout": "IPY_MODEL_9c73f836a6494543988709169c87c20e"
      }
     },
     "e7fdaf0796f74543b7d5bb1f1f59e9e0": {
      "model_module": "@jupyter-widgets/controls",
      "model_module_version": "2.0.0",
      "model_name": "ProgressStyleModel",
      "state": {
       "description_width": ""
      }
     },
     "eacd71967c0149e0a1f2c0956a113b06": {
      "model_module": "@jupyter-widgets/controls",
      "model_module_version": "2.0.0",
      "model_name": "HTMLStyleModel",
      "state": {
       "description_width": "",
       "font_size": null,
       "text_color": null
      }
     },
     "ead40c5040e141cda0b32b90182b1c58": {
      "model_module": "@jupyter-widgets/base",
      "model_module_version": "2.0.0",
      "model_name": "LayoutModel",
      "state": {}
     },
     "eb8418edc9b34dc9a59e3036ba9cd886": {
      "model_module": "@jupyter-widgets/controls",
      "model_module_version": "2.0.0",
      "model_name": "HTMLModel",
      "state": {
       "layout": "IPY_MODEL_5c389bc98a584dbdb3f77453045f0404",
       "style": "IPY_MODEL_2976696f254840cf9ed09180f8031326",
       "value": " 0/6 [15:23:39&lt;?, ?it/s]"
      }
     },
     "ecedd58a10994d2b9fae163e506325f5": {
      "model_module": "@jupyter-widgets/controls",
      "model_module_version": "2.0.0",
      "model_name": "HTMLModel",
      "state": {
       "layout": "IPY_MODEL_769cc0f5243f47628f38c98219030ccc",
       "style": "IPY_MODEL_097057e4e04f478d9a234e54375ff85f",
       "value": "YEARS:   0%"
      }
     },
     "ee28f138391e4a7d9fb2836886f9770b": {
      "model_module": "@jupyter-widgets/controls",
      "model_module_version": "2.0.0",
      "model_name": "HTMLModel",
      "state": {
       "layout": "IPY_MODEL_8b032df5770940f89a0e5cec1e645f3e",
       "style": "IPY_MODEL_30d95d198c0d433b85ac9662a51e842e",
       "value": " 619/2171 [15:23:39&lt;24:48,  1.04it/s]"
      }
     },
     "eee95ddfd1fe43cb803bd6d0003459c1": {
      "model_module": "@jupyter-widgets/base",
      "model_module_version": "2.0.0",
      "model_name": "LayoutModel",
      "state": {}
     },
     "f2b4df4c8a8240209dfad53b88127186": {
      "model_module": "@jupyter-widgets/controls",
      "model_module_version": "2.0.0",
      "model_name": "FloatProgressModel",
      "state": {
       "bar_style": "danger",
       "layout": "IPY_MODEL_4d73f0e9f0b9483bb0b8f4a2c06fec6a",
       "max": 7,
       "style": "IPY_MODEL_b6fdfc451fe34bcaa9b7506f68e586d1"
      }
     },
     "f2caac0fe7534cd4bada846d6f8a09b8": {
      "model_module": "@jupyter-widgets/base",
      "model_module_version": "2.0.0",
      "model_name": "LayoutModel",
      "state": {}
     },
     "f521b7bc19764fe4bb22bbf436249546": {
      "model_module": "@jupyter-widgets/base",
      "model_module_version": "2.0.0",
      "model_name": "LayoutModel",
      "state": {}
     },
     "f864b957e34848479155474b27bb23d7": {
      "model_module": "@jupyter-widgets/controls",
      "model_module_version": "2.0.0",
      "model_name": "FloatProgressModel",
      "state": {
       "bar_style": "danger",
       "layout": "IPY_MODEL_551b2929b24b4a1d9ab8c98ce2237f4c",
       "max": 2947,
       "style": "IPY_MODEL_8f80da7c62d64d288697993a1ce9d9ae"
      }
     },
     "f91f15b36ddf4919b30ef1433b8f79b5": {
      "model_module": "@jupyter-widgets/controls",
      "model_module_version": "2.0.0",
      "model_name": "HTMLModel",
      "state": {
       "layout": "IPY_MODEL_0bd0022eb6f843b9b86bf8f7d8205f96",
       "style": "IPY_MODEL_70e89f1576e54c40a1e61f06a8841319",
       "value": "Movies from 2014:   0%"
      }
     },
     "fa140a1a472146d9b120a07d7eca10ce": {
      "model_module": "@jupyter-widgets/base",
      "model_module_version": "2.0.0",
      "model_name": "LayoutModel",
      "state": {}
     },
     "fb14b2570c5a4227b91435a81e01750e": {
      "model_module": "@jupyter-widgets/controls",
      "model_module_version": "2.0.0",
      "model_name": "HTMLModel",
      "state": {
       "layout": "IPY_MODEL_c4383a61e7954047a06da1407d0eb761",
       "style": "IPY_MODEL_7b123fcdf13a4b9bb0115a6bf43673c0",
       "value": " 0/7 [31:45&lt;?, ?it/s]"
      }
     },
     "fbe6003da01f449da9c948a095b14483": {
      "model_module": "@jupyter-widgets/controls",
      "model_module_version": "2.0.0",
      "model_name": "HTMLModel",
      "state": {
       "layout": "IPY_MODEL_cf20db06998646a78b77be7c651ae189",
       "style": "IPY_MODEL_2aa5c0d187234122803f05b63d531c6f",
       "value": " 364/2103 [04:57&lt;19:19,  1.50it/s]"
      }
     },
     "fd595c2413e04ee0bdc881c6912d7ece": {
      "model_module": "@jupyter-widgets/controls",
      "model_module_version": "2.0.0",
      "model_name": "HTMLModel",
      "state": {
       "layout": "IPY_MODEL_56132443cba3417e9d150a4531f60694",
       "style": "IPY_MODEL_eacd71967c0149e0a1f2c0956a113b06",
       "value": " 1292/2947 [8:09:10&lt;18:59,  1.45it/s]"
      }
     },
     "fef36a7e9f6e4e55bb7ef6a8eda892e2": {
      "model_module": "@jupyter-widgets/base",
      "model_module_version": "2.0.0",
      "model_name": "LayoutModel",
      "state": {}
     }
    },
    "version_major": 2,
    "version_minor": 0
   }
  }
 },
 "nbformat": 4,
 "nbformat_minor": 5
}
